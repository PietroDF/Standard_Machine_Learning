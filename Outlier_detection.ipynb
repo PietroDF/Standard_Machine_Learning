{
  "nbformat": 4,
  "nbformat_minor": 0,
  "metadata": {
    "colab": {
      "name": "Outlier_detection.ipynb",
      "provenance": [],
      "toc_visible": true,
      "authorship_tag": "ABX9TyOzITG+uBc1hrBr8Fg32tyk",
      "include_colab_link": true
    },
    "kernelspec": {
      "name": "python3",
      "display_name": "Python 3"
    }
  },
  "cells": [
    {
      "cell_type": "markdown",
      "metadata": {
        "id": "view-in-github",
        "colab_type": "text"
      },
      "source": [
        "<a href=\"https://colab.research.google.com/github/PietroDF/Standard_Machine_Learning/blob/master/Outlier_detection.ipynb\" target=\"_parent\"><img src=\"https://colab.research.google.com/assets/colab-badge.svg\" alt=\"Open In Colab\"/></a>"
      ]
    },
    {
      "cell_type": "markdown",
      "metadata": {
        "id": "pAwUYhq7KX6t",
        "colab_type": "text"
      },
      "source": [
        "# Isolation Forest"
      ]
    },
    {
      "cell_type": "markdown",
      "metadata": {
        "id": "3hVFzQ8KUavd",
        "colab_type": "text"
      },
      "source": [
        " Inspiring tutorial @ https://towardsdatascience.com/5-ways-to-detect-outliers-that-every-data-scientist-should-know-python-code-70a54335a623\n",
        "\n",
        " Winsconsin Breast Cancer Dataset @ https://archive.ics.uci.edu/ml/machine-learning-databases/breast-cancer-wisconsin/\n",
        "\n",
        " Dataset Explanation @ https://archive.ics.uci.edu/ml/machine-learning-databases/breast-cancer-wisconsin/wdbc.names\n",
        "\n",
        " Complete dataset collection @ https://archive.ics.uci.edu/ml/datasets.php "
      ]
    },
    {
      "cell_type": "markdown",
      "metadata": {
        "id": "XnCCbsMIUvsK",
        "colab_type": "text"
      },
      "source": [
        "# Libraries"
      ]
    },
    {
      "cell_type": "code",
      "metadata": {
        "id": "yU8pr94yKlQv",
        "colab_type": "code",
        "colab": {}
      },
      "source": [
        "import numpy as np\n",
        "import pandas as pd\n",
        "import matplotlib.pyplot as plt\n",
        "from sklearn.preprocessing import StandardScaler"
      ],
      "execution_count": 0,
      "outputs": []
    },
    {
      "cell_type": "code",
      "metadata": {
        "id": "HEFdnn7DKlS5",
        "colab_type": "code",
        "colab": {}
      },
      "source": [
        "rng = np.random.RandomState(42)"
      ],
      "execution_count": 0,
      "outputs": []
    },
    {
      "cell_type": "code",
      "metadata": {
        "id": "Gtp7CvbvKtDo",
        "colab_type": "code",
        "colab": {}
      },
      "source": [
        ""
      ],
      "execution_count": 0,
      "outputs": []
    },
    {
      "cell_type": "markdown",
      "metadata": {
        "id": "0hZNhXi2tS1n",
        "colab_type": "text"
      },
      "source": [
        "# Dataset"
      ]
    },
    {
      "cell_type": "markdown",
      "metadata": {
        "id": "agfAqfmJtUE9",
        "colab_type": "text"
      },
      "source": [
        "## Data gathering"
      ]
    },
    {
      "cell_type": "code",
      "metadata": {
        "id": "KASE2WGhUBlf",
        "colab_type": "code",
        "colab": {}
      },
      "source": [
        "dataset_url = 'https://archive.ics.uci.edu/ml/machine-learning-databases/breast-cancer-wisconsin/wdbc.data'"
      ],
      "execution_count": 0,
      "outputs": []
    },
    {
      "cell_type": "code",
      "metadata": {
        "id": "kDPnjce3UBn-",
        "colab_type": "code",
        "colab": {}
      },
      "source": [
        "dataset = pd.read_csv(dataset_url, header=None)"
      ],
      "execution_count": 0,
      "outputs": []
    },
    {
      "cell_type": "markdown",
      "metadata": {
        "id": "QbcgOy6ZtPu2",
        "colab_type": "text"
      },
      "source": [
        "## Data preparation"
      ]
    },
    {
      "cell_type": "code",
      "metadata": {
        "id": "P-wK6rNCV8jb",
        "colab_type": "code",
        "colab": {}
      },
      "source": [
        "renaming_dict = {0: 'user_id', 1: 'label'}\n",
        "\n",
        "for i in range(2,32):\n",
        "  renaming_dict[i] = 'feature_'+str(100+i-1)[1:]"
      ],
      "execution_count": 0,
      "outputs": []
    },
    {
      "cell_type": "code",
      "metadata": {
        "id": "eNWTBXz7VlAs",
        "colab_type": "code",
        "colab": {}
      },
      "source": [
        "dataset = dataset.rename(columns=renaming_dict)"
      ],
      "execution_count": 0,
      "outputs": []
    },
    {
      "cell_type": "code",
      "metadata": {
        "id": "tZm0Hm7rUBqg",
        "colab_type": "code",
        "outputId": "94cf88b2-c39d-42e5-97b6-301743293867",
        "colab": {
          "base_uri": "https://localhost:8080/",
          "height": 215
        }
      },
      "source": [
        "dataset.head()"
      ],
      "execution_count": 0,
      "outputs": [
        {
          "output_type": "execute_result",
          "data": {
            "text/html": [
              "<div>\n",
              "<style scoped>\n",
              "    .dataframe tbody tr th:only-of-type {\n",
              "        vertical-align: middle;\n",
              "    }\n",
              "\n",
              "    .dataframe tbody tr th {\n",
              "        vertical-align: top;\n",
              "    }\n",
              "\n",
              "    .dataframe thead th {\n",
              "        text-align: right;\n",
              "    }\n",
              "</style>\n",
              "<table border=\"1\" class=\"dataframe\">\n",
              "  <thead>\n",
              "    <tr style=\"text-align: right;\">\n",
              "      <th></th>\n",
              "      <th>user_id</th>\n",
              "      <th>label</th>\n",
              "      <th>feature_01</th>\n",
              "      <th>feature_02</th>\n",
              "      <th>feature_03</th>\n",
              "      <th>feature_04</th>\n",
              "      <th>feature_05</th>\n",
              "      <th>feature_06</th>\n",
              "      <th>feature_07</th>\n",
              "      <th>feature_08</th>\n",
              "      <th>feature_09</th>\n",
              "      <th>feature_10</th>\n",
              "      <th>feature_11</th>\n",
              "      <th>feature_12</th>\n",
              "      <th>feature_13</th>\n",
              "      <th>feature_14</th>\n",
              "      <th>feature_15</th>\n",
              "      <th>feature_16</th>\n",
              "      <th>feature_17</th>\n",
              "      <th>feature_18</th>\n",
              "      <th>feature_19</th>\n",
              "      <th>feature_20</th>\n",
              "      <th>feature_21</th>\n",
              "      <th>feature_22</th>\n",
              "      <th>feature_23</th>\n",
              "      <th>feature_24</th>\n",
              "      <th>feature_25</th>\n",
              "      <th>feature_26</th>\n",
              "      <th>feature_27</th>\n",
              "      <th>feature_28</th>\n",
              "      <th>feature_29</th>\n",
              "      <th>feature_30</th>\n",
              "    </tr>\n",
              "  </thead>\n",
              "  <tbody>\n",
              "    <tr>\n",
              "      <th>0</th>\n",
              "      <td>842302</td>\n",
              "      <td>M</td>\n",
              "      <td>17.99</td>\n",
              "      <td>10.38</td>\n",
              "      <td>122.80</td>\n",
              "      <td>1001.0</td>\n",
              "      <td>0.11840</td>\n",
              "      <td>0.27760</td>\n",
              "      <td>0.3001</td>\n",
              "      <td>0.14710</td>\n",
              "      <td>0.2419</td>\n",
              "      <td>0.07871</td>\n",
              "      <td>1.0950</td>\n",
              "      <td>0.9053</td>\n",
              "      <td>8.589</td>\n",
              "      <td>153.40</td>\n",
              "      <td>0.006399</td>\n",
              "      <td>0.04904</td>\n",
              "      <td>0.05373</td>\n",
              "      <td>0.01587</td>\n",
              "      <td>0.03003</td>\n",
              "      <td>0.006193</td>\n",
              "      <td>25.38</td>\n",
              "      <td>17.33</td>\n",
              "      <td>184.60</td>\n",
              "      <td>2019.0</td>\n",
              "      <td>0.1622</td>\n",
              "      <td>0.6656</td>\n",
              "      <td>0.7119</td>\n",
              "      <td>0.2654</td>\n",
              "      <td>0.4601</td>\n",
              "      <td>0.11890</td>\n",
              "    </tr>\n",
              "    <tr>\n",
              "      <th>1</th>\n",
              "      <td>842517</td>\n",
              "      <td>M</td>\n",
              "      <td>20.57</td>\n",
              "      <td>17.77</td>\n",
              "      <td>132.90</td>\n",
              "      <td>1326.0</td>\n",
              "      <td>0.08474</td>\n",
              "      <td>0.07864</td>\n",
              "      <td>0.0869</td>\n",
              "      <td>0.07017</td>\n",
              "      <td>0.1812</td>\n",
              "      <td>0.05667</td>\n",
              "      <td>0.5435</td>\n",
              "      <td>0.7339</td>\n",
              "      <td>3.398</td>\n",
              "      <td>74.08</td>\n",
              "      <td>0.005225</td>\n",
              "      <td>0.01308</td>\n",
              "      <td>0.01860</td>\n",
              "      <td>0.01340</td>\n",
              "      <td>0.01389</td>\n",
              "      <td>0.003532</td>\n",
              "      <td>24.99</td>\n",
              "      <td>23.41</td>\n",
              "      <td>158.80</td>\n",
              "      <td>1956.0</td>\n",
              "      <td>0.1238</td>\n",
              "      <td>0.1866</td>\n",
              "      <td>0.2416</td>\n",
              "      <td>0.1860</td>\n",
              "      <td>0.2750</td>\n",
              "      <td>0.08902</td>\n",
              "    </tr>\n",
              "    <tr>\n",
              "      <th>2</th>\n",
              "      <td>84300903</td>\n",
              "      <td>M</td>\n",
              "      <td>19.69</td>\n",
              "      <td>21.25</td>\n",
              "      <td>130.00</td>\n",
              "      <td>1203.0</td>\n",
              "      <td>0.10960</td>\n",
              "      <td>0.15990</td>\n",
              "      <td>0.1974</td>\n",
              "      <td>0.12790</td>\n",
              "      <td>0.2069</td>\n",
              "      <td>0.05999</td>\n",
              "      <td>0.7456</td>\n",
              "      <td>0.7869</td>\n",
              "      <td>4.585</td>\n",
              "      <td>94.03</td>\n",
              "      <td>0.006150</td>\n",
              "      <td>0.04006</td>\n",
              "      <td>0.03832</td>\n",
              "      <td>0.02058</td>\n",
              "      <td>0.02250</td>\n",
              "      <td>0.004571</td>\n",
              "      <td>23.57</td>\n",
              "      <td>25.53</td>\n",
              "      <td>152.50</td>\n",
              "      <td>1709.0</td>\n",
              "      <td>0.1444</td>\n",
              "      <td>0.4245</td>\n",
              "      <td>0.4504</td>\n",
              "      <td>0.2430</td>\n",
              "      <td>0.3613</td>\n",
              "      <td>0.08758</td>\n",
              "    </tr>\n",
              "    <tr>\n",
              "      <th>3</th>\n",
              "      <td>84348301</td>\n",
              "      <td>M</td>\n",
              "      <td>11.42</td>\n",
              "      <td>20.38</td>\n",
              "      <td>77.58</td>\n",
              "      <td>386.1</td>\n",
              "      <td>0.14250</td>\n",
              "      <td>0.28390</td>\n",
              "      <td>0.2414</td>\n",
              "      <td>0.10520</td>\n",
              "      <td>0.2597</td>\n",
              "      <td>0.09744</td>\n",
              "      <td>0.4956</td>\n",
              "      <td>1.1560</td>\n",
              "      <td>3.445</td>\n",
              "      <td>27.23</td>\n",
              "      <td>0.009110</td>\n",
              "      <td>0.07458</td>\n",
              "      <td>0.05661</td>\n",
              "      <td>0.01867</td>\n",
              "      <td>0.05963</td>\n",
              "      <td>0.009208</td>\n",
              "      <td>14.91</td>\n",
              "      <td>26.50</td>\n",
              "      <td>98.87</td>\n",
              "      <td>567.7</td>\n",
              "      <td>0.2098</td>\n",
              "      <td>0.8663</td>\n",
              "      <td>0.6869</td>\n",
              "      <td>0.2575</td>\n",
              "      <td>0.6638</td>\n",
              "      <td>0.17300</td>\n",
              "    </tr>\n",
              "    <tr>\n",
              "      <th>4</th>\n",
              "      <td>84358402</td>\n",
              "      <td>M</td>\n",
              "      <td>20.29</td>\n",
              "      <td>14.34</td>\n",
              "      <td>135.10</td>\n",
              "      <td>1297.0</td>\n",
              "      <td>0.10030</td>\n",
              "      <td>0.13280</td>\n",
              "      <td>0.1980</td>\n",
              "      <td>0.10430</td>\n",
              "      <td>0.1809</td>\n",
              "      <td>0.05883</td>\n",
              "      <td>0.7572</td>\n",
              "      <td>0.7813</td>\n",
              "      <td>5.438</td>\n",
              "      <td>94.44</td>\n",
              "      <td>0.011490</td>\n",
              "      <td>0.02461</td>\n",
              "      <td>0.05688</td>\n",
              "      <td>0.01885</td>\n",
              "      <td>0.01756</td>\n",
              "      <td>0.005115</td>\n",
              "      <td>22.54</td>\n",
              "      <td>16.67</td>\n",
              "      <td>152.20</td>\n",
              "      <td>1575.0</td>\n",
              "      <td>0.1374</td>\n",
              "      <td>0.2050</td>\n",
              "      <td>0.4000</td>\n",
              "      <td>0.1625</td>\n",
              "      <td>0.2364</td>\n",
              "      <td>0.07678</td>\n",
              "    </tr>\n",
              "  </tbody>\n",
              "</table>\n",
              "</div>"
            ],
            "text/plain": [
              "    user_id label  feature_01  ...  feature_28  feature_29  feature_30\n",
              "0    842302     M       17.99  ...      0.2654      0.4601     0.11890\n",
              "1    842517     M       20.57  ...      0.1860      0.2750     0.08902\n",
              "2  84300903     M       19.69  ...      0.2430      0.3613     0.08758\n",
              "3  84348301     M       11.42  ...      0.2575      0.6638     0.17300\n",
              "4  84358402     M       20.29  ...      0.1625      0.2364     0.07678\n",
              "\n",
              "[5 rows x 32 columns]"
            ]
          },
          "metadata": {
            "tags": []
          },
          "execution_count": 282
        }
      ]
    },
    {
      "cell_type": "code",
      "metadata": {
        "id": "FDbAsJrXUBs4",
        "colab_type": "code",
        "colab": {}
      },
      "source": [
        "dataset = dataset.drop(['user_id'], axis=1)"
      ],
      "execution_count": 0,
      "outputs": []
    },
    {
      "cell_type": "code",
      "metadata": {
        "id": "dNItBssVX6rA",
        "colab_type": "code",
        "outputId": "8e904003-7a28-4934-87b9-b35ce3fda686",
        "colab": {
          "base_uri": "https://localhost:8080/",
          "height": 215
        }
      },
      "source": [
        "dataset.head()"
      ],
      "execution_count": 0,
      "outputs": [
        {
          "output_type": "execute_result",
          "data": {
            "text/html": [
              "<div>\n",
              "<style scoped>\n",
              "    .dataframe tbody tr th:only-of-type {\n",
              "        vertical-align: middle;\n",
              "    }\n",
              "\n",
              "    .dataframe tbody tr th {\n",
              "        vertical-align: top;\n",
              "    }\n",
              "\n",
              "    .dataframe thead th {\n",
              "        text-align: right;\n",
              "    }\n",
              "</style>\n",
              "<table border=\"1\" class=\"dataframe\">\n",
              "  <thead>\n",
              "    <tr style=\"text-align: right;\">\n",
              "      <th></th>\n",
              "      <th>label</th>\n",
              "      <th>feature_01</th>\n",
              "      <th>feature_02</th>\n",
              "      <th>feature_03</th>\n",
              "      <th>feature_04</th>\n",
              "      <th>feature_05</th>\n",
              "      <th>feature_06</th>\n",
              "      <th>feature_07</th>\n",
              "      <th>feature_08</th>\n",
              "      <th>feature_09</th>\n",
              "      <th>feature_10</th>\n",
              "      <th>feature_11</th>\n",
              "      <th>feature_12</th>\n",
              "      <th>feature_13</th>\n",
              "      <th>feature_14</th>\n",
              "      <th>feature_15</th>\n",
              "      <th>feature_16</th>\n",
              "      <th>feature_17</th>\n",
              "      <th>feature_18</th>\n",
              "      <th>feature_19</th>\n",
              "      <th>feature_20</th>\n",
              "      <th>feature_21</th>\n",
              "      <th>feature_22</th>\n",
              "      <th>feature_23</th>\n",
              "      <th>feature_24</th>\n",
              "      <th>feature_25</th>\n",
              "      <th>feature_26</th>\n",
              "      <th>feature_27</th>\n",
              "      <th>feature_28</th>\n",
              "      <th>feature_29</th>\n",
              "      <th>feature_30</th>\n",
              "    </tr>\n",
              "  </thead>\n",
              "  <tbody>\n",
              "    <tr>\n",
              "      <th>0</th>\n",
              "      <td>M</td>\n",
              "      <td>17.99</td>\n",
              "      <td>10.38</td>\n",
              "      <td>122.80</td>\n",
              "      <td>1001.0</td>\n",
              "      <td>0.11840</td>\n",
              "      <td>0.27760</td>\n",
              "      <td>0.3001</td>\n",
              "      <td>0.14710</td>\n",
              "      <td>0.2419</td>\n",
              "      <td>0.07871</td>\n",
              "      <td>1.0950</td>\n",
              "      <td>0.9053</td>\n",
              "      <td>8.589</td>\n",
              "      <td>153.40</td>\n",
              "      <td>0.006399</td>\n",
              "      <td>0.04904</td>\n",
              "      <td>0.05373</td>\n",
              "      <td>0.01587</td>\n",
              "      <td>0.03003</td>\n",
              "      <td>0.006193</td>\n",
              "      <td>25.38</td>\n",
              "      <td>17.33</td>\n",
              "      <td>184.60</td>\n",
              "      <td>2019.0</td>\n",
              "      <td>0.1622</td>\n",
              "      <td>0.6656</td>\n",
              "      <td>0.7119</td>\n",
              "      <td>0.2654</td>\n",
              "      <td>0.4601</td>\n",
              "      <td>0.11890</td>\n",
              "    </tr>\n",
              "    <tr>\n",
              "      <th>1</th>\n",
              "      <td>M</td>\n",
              "      <td>20.57</td>\n",
              "      <td>17.77</td>\n",
              "      <td>132.90</td>\n",
              "      <td>1326.0</td>\n",
              "      <td>0.08474</td>\n",
              "      <td>0.07864</td>\n",
              "      <td>0.0869</td>\n",
              "      <td>0.07017</td>\n",
              "      <td>0.1812</td>\n",
              "      <td>0.05667</td>\n",
              "      <td>0.5435</td>\n",
              "      <td>0.7339</td>\n",
              "      <td>3.398</td>\n",
              "      <td>74.08</td>\n",
              "      <td>0.005225</td>\n",
              "      <td>0.01308</td>\n",
              "      <td>0.01860</td>\n",
              "      <td>0.01340</td>\n",
              "      <td>0.01389</td>\n",
              "      <td>0.003532</td>\n",
              "      <td>24.99</td>\n",
              "      <td>23.41</td>\n",
              "      <td>158.80</td>\n",
              "      <td>1956.0</td>\n",
              "      <td>0.1238</td>\n",
              "      <td>0.1866</td>\n",
              "      <td>0.2416</td>\n",
              "      <td>0.1860</td>\n",
              "      <td>0.2750</td>\n",
              "      <td>0.08902</td>\n",
              "    </tr>\n",
              "    <tr>\n",
              "      <th>2</th>\n",
              "      <td>M</td>\n",
              "      <td>19.69</td>\n",
              "      <td>21.25</td>\n",
              "      <td>130.00</td>\n",
              "      <td>1203.0</td>\n",
              "      <td>0.10960</td>\n",
              "      <td>0.15990</td>\n",
              "      <td>0.1974</td>\n",
              "      <td>0.12790</td>\n",
              "      <td>0.2069</td>\n",
              "      <td>0.05999</td>\n",
              "      <td>0.7456</td>\n",
              "      <td>0.7869</td>\n",
              "      <td>4.585</td>\n",
              "      <td>94.03</td>\n",
              "      <td>0.006150</td>\n",
              "      <td>0.04006</td>\n",
              "      <td>0.03832</td>\n",
              "      <td>0.02058</td>\n",
              "      <td>0.02250</td>\n",
              "      <td>0.004571</td>\n",
              "      <td>23.57</td>\n",
              "      <td>25.53</td>\n",
              "      <td>152.50</td>\n",
              "      <td>1709.0</td>\n",
              "      <td>0.1444</td>\n",
              "      <td>0.4245</td>\n",
              "      <td>0.4504</td>\n",
              "      <td>0.2430</td>\n",
              "      <td>0.3613</td>\n",
              "      <td>0.08758</td>\n",
              "    </tr>\n",
              "    <tr>\n",
              "      <th>3</th>\n",
              "      <td>M</td>\n",
              "      <td>11.42</td>\n",
              "      <td>20.38</td>\n",
              "      <td>77.58</td>\n",
              "      <td>386.1</td>\n",
              "      <td>0.14250</td>\n",
              "      <td>0.28390</td>\n",
              "      <td>0.2414</td>\n",
              "      <td>0.10520</td>\n",
              "      <td>0.2597</td>\n",
              "      <td>0.09744</td>\n",
              "      <td>0.4956</td>\n",
              "      <td>1.1560</td>\n",
              "      <td>3.445</td>\n",
              "      <td>27.23</td>\n",
              "      <td>0.009110</td>\n",
              "      <td>0.07458</td>\n",
              "      <td>0.05661</td>\n",
              "      <td>0.01867</td>\n",
              "      <td>0.05963</td>\n",
              "      <td>0.009208</td>\n",
              "      <td>14.91</td>\n",
              "      <td>26.50</td>\n",
              "      <td>98.87</td>\n",
              "      <td>567.7</td>\n",
              "      <td>0.2098</td>\n",
              "      <td>0.8663</td>\n",
              "      <td>0.6869</td>\n",
              "      <td>0.2575</td>\n",
              "      <td>0.6638</td>\n",
              "      <td>0.17300</td>\n",
              "    </tr>\n",
              "    <tr>\n",
              "      <th>4</th>\n",
              "      <td>M</td>\n",
              "      <td>20.29</td>\n",
              "      <td>14.34</td>\n",
              "      <td>135.10</td>\n",
              "      <td>1297.0</td>\n",
              "      <td>0.10030</td>\n",
              "      <td>0.13280</td>\n",
              "      <td>0.1980</td>\n",
              "      <td>0.10430</td>\n",
              "      <td>0.1809</td>\n",
              "      <td>0.05883</td>\n",
              "      <td>0.7572</td>\n",
              "      <td>0.7813</td>\n",
              "      <td>5.438</td>\n",
              "      <td>94.44</td>\n",
              "      <td>0.011490</td>\n",
              "      <td>0.02461</td>\n",
              "      <td>0.05688</td>\n",
              "      <td>0.01885</td>\n",
              "      <td>0.01756</td>\n",
              "      <td>0.005115</td>\n",
              "      <td>22.54</td>\n",
              "      <td>16.67</td>\n",
              "      <td>152.20</td>\n",
              "      <td>1575.0</td>\n",
              "      <td>0.1374</td>\n",
              "      <td>0.2050</td>\n",
              "      <td>0.4000</td>\n",
              "      <td>0.1625</td>\n",
              "      <td>0.2364</td>\n",
              "      <td>0.07678</td>\n",
              "    </tr>\n",
              "  </tbody>\n",
              "</table>\n",
              "</div>"
            ],
            "text/plain": [
              "  label  feature_01  feature_02  ...  feature_28  feature_29  feature_30\n",
              "0     M       17.99       10.38  ...      0.2654      0.4601     0.11890\n",
              "1     M       20.57       17.77  ...      0.1860      0.2750     0.08902\n",
              "2     M       19.69       21.25  ...      0.2430      0.3613     0.08758\n",
              "3     M       11.42       20.38  ...      0.2575      0.6638     0.17300\n",
              "4     M       20.29       14.34  ...      0.1625      0.2364     0.07678\n",
              "\n",
              "[5 rows x 31 columns]"
            ]
          },
          "metadata": {
            "tags": []
          },
          "execution_count": 284
        }
      ]
    },
    {
      "cell_type": "code",
      "metadata": {
        "id": "yLd_vCTqYKIc",
        "colab_type": "code",
        "colab": {}
      },
      "source": [
        ""
      ],
      "execution_count": 0,
      "outputs": []
    },
    {
      "cell_type": "markdown",
      "metadata": {
        "id": "Oti24TE9tZi9",
        "colab_type": "text"
      },
      "source": [
        "### Data sampling"
      ]
    },
    {
      "cell_type": "code",
      "metadata": {
        "id": "PG2IHsLTYKKn",
        "colab_type": "code",
        "colab": {}
      },
      "source": [
        "label_count = dataset[['label','feature_02']].groupby(['label']).count().rename(columns={'feature_02':'count'})"
      ],
      "execution_count": 0,
      "outputs": []
    },
    {
      "cell_type": "code",
      "metadata": {
        "id": "KuDjdW57X6tE",
        "colab_type": "code",
        "outputId": "1e0bdace-43f3-4d0e-b8e8-3fad00e8a06b",
        "colab": {
          "base_uri": "https://localhost:8080/",
          "height": 136
        }
      },
      "source": [
        "label_count"
      ],
      "execution_count": 0,
      "outputs": [
        {
          "output_type": "execute_result",
          "data": {
            "text/html": [
              "<div>\n",
              "<style scoped>\n",
              "    .dataframe tbody tr th:only-of-type {\n",
              "        vertical-align: middle;\n",
              "    }\n",
              "\n",
              "    .dataframe tbody tr th {\n",
              "        vertical-align: top;\n",
              "    }\n",
              "\n",
              "    .dataframe thead th {\n",
              "        text-align: right;\n",
              "    }\n",
              "</style>\n",
              "<table border=\"1\" class=\"dataframe\">\n",
              "  <thead>\n",
              "    <tr style=\"text-align: right;\">\n",
              "      <th></th>\n",
              "      <th>count</th>\n",
              "    </tr>\n",
              "    <tr>\n",
              "      <th>label</th>\n",
              "      <th></th>\n",
              "    </tr>\n",
              "  </thead>\n",
              "  <tbody>\n",
              "    <tr>\n",
              "      <th>B</th>\n",
              "      <td>357</td>\n",
              "    </tr>\n",
              "    <tr>\n",
              "      <th>M</th>\n",
              "      <td>212</td>\n",
              "    </tr>\n",
              "  </tbody>\n",
              "</table>\n",
              "</div>"
            ],
            "text/plain": [
              "       count\n",
              "label       \n",
              "B        357\n",
              "M        212"
            ]
          },
          "metadata": {
            "tags": []
          },
          "execution_count": 286
        }
      ]
    },
    {
      "cell_type": "code",
      "metadata": {
        "id": "BwxZYMQzX6yX",
        "colab_type": "code",
        "colab": {}
      },
      "source": [
        "num_benignant = label_count.loc['B'].values[0]\n",
        "num_malignant = label_count.loc['M'].values[0]"
      ],
      "execution_count": 0,
      "outputs": []
    },
    {
      "cell_type": "code",
      "metadata": {
        "id": "ViO9of_gX60Z",
        "colab_type": "code",
        "outputId": "c7aa00a3-8b18-409f-970e-78669a318ed6",
        "colab": {
          "base_uri": "https://localhost:8080/",
          "height": 34
        }
      },
      "source": [
        "num_benignant, num_malignant"
      ],
      "execution_count": 0,
      "outputs": [
        {
          "output_type": "execute_result",
          "data": {
            "text/plain": [
              "(357, 212)"
            ]
          },
          "metadata": {
            "tags": []
          },
          "execution_count": 288
        }
      ]
    },
    {
      "cell_type": "code",
      "metadata": {
        "id": "YFZcRM4eqAIm",
        "colab_type": "code",
        "outputId": "36b185de-84ae-439d-8909-75cef9713bc5",
        "colab": {
          "base_uri": "https://localhost:8080/",
          "height": 34
        }
      },
      "source": [
        "# Downsample the M class to be an outlier\n",
        "downsampling_value = 0.05*num_benignant/num_malignant\n",
        "downsampling_value"
      ],
      "execution_count": 0,
      "outputs": [
        {
          "output_type": "execute_result",
          "data": {
            "text/plain": [
              "0.08419811320754718"
            ]
          },
          "metadata": {
            "tags": []
          },
          "execution_count": 289
        }
      ]
    },
    {
      "cell_type": "code",
      "metadata": {
        "id": "ZdLJ3nrFoxx-",
        "colab_type": "code",
        "colab": {}
      },
      "source": [
        "downsampled_M_df = dataset[dataset['label']=='M'].sample(frac=downsampling_value, replace=False, random_state=1)"
      ],
      "execution_count": 0,
      "outputs": []
    },
    {
      "cell_type": "code",
      "metadata": {
        "id": "rzYeT4ebqNQs",
        "colab_type": "code",
        "outputId": "7f8e9f78-8401-4922-911f-caeb15d1d568",
        "colab": {
          "base_uri": "https://localhost:8080/",
          "height": 34
        }
      },
      "source": [
        "downsampled_M_df.shape"
      ],
      "execution_count": 0,
      "outputs": [
        {
          "output_type": "execute_result",
          "data": {
            "text/plain": [
              "(18, 31)"
            ]
          },
          "metadata": {
            "tags": []
          },
          "execution_count": 291
        }
      ]
    },
    {
      "cell_type": "code",
      "metadata": {
        "id": "J8WOpsQFX7B7",
        "colab_type": "code",
        "colab": {}
      },
      "source": [
        "notsampled_B_df = dataset[dataset['label']=='B']"
      ],
      "execution_count": 0,
      "outputs": []
    },
    {
      "cell_type": "code",
      "metadata": {
        "id": "iW64FUdoX6-C",
        "colab_type": "code",
        "outputId": "c627366e-b2e5-4ef6-ff6a-990050dd6567",
        "colab": {
          "base_uri": "https://localhost:8080/",
          "height": 34
        }
      },
      "source": [
        "notsampled_B_df.shape"
      ],
      "execution_count": 0,
      "outputs": [
        {
          "output_type": "execute_result",
          "data": {
            "text/plain": [
              "(357, 31)"
            ]
          },
          "metadata": {
            "tags": []
          },
          "execution_count": 293
        }
      ]
    },
    {
      "cell_type": "code",
      "metadata": {
        "id": "7KtDAEFcUBvO",
        "colab_type": "code",
        "colab": {}
      },
      "source": [
        "# Operations: union/shuffle/reset_indexes/remove_created_column\n",
        "sampled_df = pd.concat([notsampled_B_df, downsampled_M_df]).sample(frac=1).reset_index().drop(['index'], axis=1)"
      ],
      "execution_count": 0,
      "outputs": []
    },
    {
      "cell_type": "code",
      "metadata": {
        "id": "cEwfKYpQUBw-",
        "colab_type": "code",
        "outputId": "ac732533-531f-42fc-82d1-ef2f817b8884",
        "colab": {
          "base_uri": "https://localhost:8080/",
          "height": 422
        }
      },
      "source": [
        "sampled_df"
      ],
      "execution_count": 0,
      "outputs": [
        {
          "output_type": "execute_result",
          "data": {
            "text/html": [
              "<div>\n",
              "<style scoped>\n",
              "    .dataframe tbody tr th:only-of-type {\n",
              "        vertical-align: middle;\n",
              "    }\n",
              "\n",
              "    .dataframe tbody tr th {\n",
              "        vertical-align: top;\n",
              "    }\n",
              "\n",
              "    .dataframe thead th {\n",
              "        text-align: right;\n",
              "    }\n",
              "</style>\n",
              "<table border=\"1\" class=\"dataframe\">\n",
              "  <thead>\n",
              "    <tr style=\"text-align: right;\">\n",
              "      <th></th>\n",
              "      <th>label</th>\n",
              "      <th>feature_01</th>\n",
              "      <th>feature_02</th>\n",
              "      <th>feature_03</th>\n",
              "      <th>feature_04</th>\n",
              "      <th>feature_05</th>\n",
              "      <th>feature_06</th>\n",
              "      <th>feature_07</th>\n",
              "      <th>feature_08</th>\n",
              "      <th>feature_09</th>\n",
              "      <th>feature_10</th>\n",
              "      <th>feature_11</th>\n",
              "      <th>feature_12</th>\n",
              "      <th>feature_13</th>\n",
              "      <th>feature_14</th>\n",
              "      <th>feature_15</th>\n",
              "      <th>feature_16</th>\n",
              "      <th>feature_17</th>\n",
              "      <th>feature_18</th>\n",
              "      <th>feature_19</th>\n",
              "      <th>feature_20</th>\n",
              "      <th>feature_21</th>\n",
              "      <th>feature_22</th>\n",
              "      <th>feature_23</th>\n",
              "      <th>feature_24</th>\n",
              "      <th>feature_25</th>\n",
              "      <th>feature_26</th>\n",
              "      <th>feature_27</th>\n",
              "      <th>feature_28</th>\n",
              "      <th>feature_29</th>\n",
              "      <th>feature_30</th>\n",
              "    </tr>\n",
              "  </thead>\n",
              "  <tbody>\n",
              "    <tr>\n",
              "      <th>0</th>\n",
              "      <td>B</td>\n",
              "      <td>13.170</td>\n",
              "      <td>18.22</td>\n",
              "      <td>84.28</td>\n",
              "      <td>537.3</td>\n",
              "      <td>0.07466</td>\n",
              "      <td>0.05994</td>\n",
              "      <td>0.04859</td>\n",
              "      <td>0.02870</td>\n",
              "      <td>0.1454</td>\n",
              "      <td>0.05549</td>\n",
              "      <td>0.2023</td>\n",
              "      <td>0.6850</td>\n",
              "      <td>1.236</td>\n",
              "      <td>16.89</td>\n",
              "      <td>0.005969</td>\n",
              "      <td>0.014930</td>\n",
              "      <td>0.01564</td>\n",
              "      <td>0.008463</td>\n",
              "      <td>0.01093</td>\n",
              "      <td>0.001672</td>\n",
              "      <td>14.900</td>\n",
              "      <td>23.89</td>\n",
              "      <td>95.10</td>\n",
              "      <td>687.6</td>\n",
              "      <td>0.12820</td>\n",
              "      <td>0.19650</td>\n",
              "      <td>0.18760</td>\n",
              "      <td>0.10450</td>\n",
              "      <td>0.2235</td>\n",
              "      <td>0.06925</td>\n",
              "    </tr>\n",
              "    <tr>\n",
              "      <th>1</th>\n",
              "      <td>B</td>\n",
              "      <td>11.280</td>\n",
              "      <td>13.39</td>\n",
              "      <td>73.00</td>\n",
              "      <td>384.8</td>\n",
              "      <td>0.11640</td>\n",
              "      <td>0.11360</td>\n",
              "      <td>0.04635</td>\n",
              "      <td>0.04796</td>\n",
              "      <td>0.1771</td>\n",
              "      <td>0.06072</td>\n",
              "      <td>0.3384</td>\n",
              "      <td>1.3430</td>\n",
              "      <td>1.851</td>\n",
              "      <td>26.33</td>\n",
              "      <td>0.011270</td>\n",
              "      <td>0.034980</td>\n",
              "      <td>0.02187</td>\n",
              "      <td>0.019650</td>\n",
              "      <td>0.01580</td>\n",
              "      <td>0.003442</td>\n",
              "      <td>11.920</td>\n",
              "      <td>15.77</td>\n",
              "      <td>76.53</td>\n",
              "      <td>434.0</td>\n",
              "      <td>0.13670</td>\n",
              "      <td>0.18220</td>\n",
              "      <td>0.08669</td>\n",
              "      <td>0.08611</td>\n",
              "      <td>0.2102</td>\n",
              "      <td>0.06784</td>\n",
              "    </tr>\n",
              "    <tr>\n",
              "      <th>2</th>\n",
              "      <td>B</td>\n",
              "      <td>11.150</td>\n",
              "      <td>13.08</td>\n",
              "      <td>70.87</td>\n",
              "      <td>381.9</td>\n",
              "      <td>0.09754</td>\n",
              "      <td>0.05113</td>\n",
              "      <td>0.01982</td>\n",
              "      <td>0.01786</td>\n",
              "      <td>0.1830</td>\n",
              "      <td>0.06105</td>\n",
              "      <td>0.2251</td>\n",
              "      <td>0.7815</td>\n",
              "      <td>1.429</td>\n",
              "      <td>15.48</td>\n",
              "      <td>0.009019</td>\n",
              "      <td>0.008985</td>\n",
              "      <td>0.01196</td>\n",
              "      <td>0.008232</td>\n",
              "      <td>0.02388</td>\n",
              "      <td>0.001619</td>\n",
              "      <td>11.990</td>\n",
              "      <td>16.30</td>\n",
              "      <td>76.25</td>\n",
              "      <td>440.8</td>\n",
              "      <td>0.13410</td>\n",
              "      <td>0.08971</td>\n",
              "      <td>0.07116</td>\n",
              "      <td>0.05506</td>\n",
              "      <td>0.2859</td>\n",
              "      <td>0.06772</td>\n",
              "    </tr>\n",
              "    <tr>\n",
              "      <th>3</th>\n",
              "      <td>B</td>\n",
              "      <td>12.950</td>\n",
              "      <td>16.02</td>\n",
              "      <td>83.14</td>\n",
              "      <td>513.7</td>\n",
              "      <td>0.10050</td>\n",
              "      <td>0.07943</td>\n",
              "      <td>0.06155</td>\n",
              "      <td>0.03370</td>\n",
              "      <td>0.1730</td>\n",
              "      <td>0.06470</td>\n",
              "      <td>0.2094</td>\n",
              "      <td>0.7636</td>\n",
              "      <td>1.231</td>\n",
              "      <td>17.67</td>\n",
              "      <td>0.008725</td>\n",
              "      <td>0.020030</td>\n",
              "      <td>0.02335</td>\n",
              "      <td>0.011320</td>\n",
              "      <td>0.02625</td>\n",
              "      <td>0.004726</td>\n",
              "      <td>13.740</td>\n",
              "      <td>19.93</td>\n",
              "      <td>88.81</td>\n",
              "      <td>585.4</td>\n",
              "      <td>0.14830</td>\n",
              "      <td>0.20680</td>\n",
              "      <td>0.22410</td>\n",
              "      <td>0.10560</td>\n",
              "      <td>0.3380</td>\n",
              "      <td>0.09584</td>\n",
              "    </tr>\n",
              "    <tr>\n",
              "      <th>4</th>\n",
              "      <td>B</td>\n",
              "      <td>9.504</td>\n",
              "      <td>12.44</td>\n",
              "      <td>60.34</td>\n",
              "      <td>273.9</td>\n",
              "      <td>0.10240</td>\n",
              "      <td>0.06492</td>\n",
              "      <td>0.02956</td>\n",
              "      <td>0.02076</td>\n",
              "      <td>0.1815</td>\n",
              "      <td>0.06905</td>\n",
              "      <td>0.2773</td>\n",
              "      <td>0.9768</td>\n",
              "      <td>1.909</td>\n",
              "      <td>15.70</td>\n",
              "      <td>0.009606</td>\n",
              "      <td>0.014320</td>\n",
              "      <td>0.01985</td>\n",
              "      <td>0.014210</td>\n",
              "      <td>0.02027</td>\n",
              "      <td>0.002968</td>\n",
              "      <td>10.230</td>\n",
              "      <td>15.66</td>\n",
              "      <td>65.13</td>\n",
              "      <td>314.9</td>\n",
              "      <td>0.13240</td>\n",
              "      <td>0.11480</td>\n",
              "      <td>0.08867</td>\n",
              "      <td>0.06227</td>\n",
              "      <td>0.2450</td>\n",
              "      <td>0.07773</td>\n",
              "    </tr>\n",
              "    <tr>\n",
              "      <th>...</th>\n",
              "      <td>...</td>\n",
              "      <td>...</td>\n",
              "      <td>...</td>\n",
              "      <td>...</td>\n",
              "      <td>...</td>\n",
              "      <td>...</td>\n",
              "      <td>...</td>\n",
              "      <td>...</td>\n",
              "      <td>...</td>\n",
              "      <td>...</td>\n",
              "      <td>...</td>\n",
              "      <td>...</td>\n",
              "      <td>...</td>\n",
              "      <td>...</td>\n",
              "      <td>...</td>\n",
              "      <td>...</td>\n",
              "      <td>...</td>\n",
              "      <td>...</td>\n",
              "      <td>...</td>\n",
              "      <td>...</td>\n",
              "      <td>...</td>\n",
              "      <td>...</td>\n",
              "      <td>...</td>\n",
              "      <td>...</td>\n",
              "      <td>...</td>\n",
              "      <td>...</td>\n",
              "      <td>...</td>\n",
              "      <td>...</td>\n",
              "      <td>...</td>\n",
              "      <td>...</td>\n",
              "      <td>...</td>\n",
              "    </tr>\n",
              "    <tr>\n",
              "      <th>370</th>\n",
              "      <td>M</td>\n",
              "      <td>16.270</td>\n",
              "      <td>20.71</td>\n",
              "      <td>106.90</td>\n",
              "      <td>813.7</td>\n",
              "      <td>0.11690</td>\n",
              "      <td>0.13190</td>\n",
              "      <td>0.14780</td>\n",
              "      <td>0.08488</td>\n",
              "      <td>0.1948</td>\n",
              "      <td>0.06277</td>\n",
              "      <td>0.4375</td>\n",
              "      <td>1.2320</td>\n",
              "      <td>3.270</td>\n",
              "      <td>44.41</td>\n",
              "      <td>0.006697</td>\n",
              "      <td>0.020830</td>\n",
              "      <td>0.03248</td>\n",
              "      <td>0.013920</td>\n",
              "      <td>0.01536</td>\n",
              "      <td>0.002789</td>\n",
              "      <td>19.280</td>\n",
              "      <td>30.38</td>\n",
              "      <td>129.80</td>\n",
              "      <td>1121.0</td>\n",
              "      <td>0.15900</td>\n",
              "      <td>0.29470</td>\n",
              "      <td>0.35970</td>\n",
              "      <td>0.15830</td>\n",
              "      <td>0.3103</td>\n",
              "      <td>0.08200</td>\n",
              "    </tr>\n",
              "    <tr>\n",
              "      <th>371</th>\n",
              "      <td>B</td>\n",
              "      <td>10.510</td>\n",
              "      <td>23.09</td>\n",
              "      <td>66.85</td>\n",
              "      <td>334.2</td>\n",
              "      <td>0.10150</td>\n",
              "      <td>0.06797</td>\n",
              "      <td>0.02495</td>\n",
              "      <td>0.01875</td>\n",
              "      <td>0.1695</td>\n",
              "      <td>0.06556</td>\n",
              "      <td>0.2868</td>\n",
              "      <td>1.1430</td>\n",
              "      <td>2.289</td>\n",
              "      <td>20.56</td>\n",
              "      <td>0.010170</td>\n",
              "      <td>0.014430</td>\n",
              "      <td>0.01861</td>\n",
              "      <td>0.012500</td>\n",
              "      <td>0.03464</td>\n",
              "      <td>0.001971</td>\n",
              "      <td>10.930</td>\n",
              "      <td>24.22</td>\n",
              "      <td>70.10</td>\n",
              "      <td>362.7</td>\n",
              "      <td>0.11430</td>\n",
              "      <td>0.08614</td>\n",
              "      <td>0.04158</td>\n",
              "      <td>0.03125</td>\n",
              "      <td>0.2227</td>\n",
              "      <td>0.06777</td>\n",
              "    </tr>\n",
              "    <tr>\n",
              "      <th>372</th>\n",
              "      <td>B</td>\n",
              "      <td>9.755</td>\n",
              "      <td>28.20</td>\n",
              "      <td>61.68</td>\n",
              "      <td>290.9</td>\n",
              "      <td>0.07984</td>\n",
              "      <td>0.04626</td>\n",
              "      <td>0.01541</td>\n",
              "      <td>0.01043</td>\n",
              "      <td>0.1621</td>\n",
              "      <td>0.05952</td>\n",
              "      <td>0.1781</td>\n",
              "      <td>1.6870</td>\n",
              "      <td>1.243</td>\n",
              "      <td>11.28</td>\n",
              "      <td>0.006588</td>\n",
              "      <td>0.012700</td>\n",
              "      <td>0.01450</td>\n",
              "      <td>0.006104</td>\n",
              "      <td>0.01574</td>\n",
              "      <td>0.002268</td>\n",
              "      <td>10.670</td>\n",
              "      <td>36.92</td>\n",
              "      <td>68.03</td>\n",
              "      <td>349.9</td>\n",
              "      <td>0.11100</td>\n",
              "      <td>0.11090</td>\n",
              "      <td>0.07190</td>\n",
              "      <td>0.04866</td>\n",
              "      <td>0.2321</td>\n",
              "      <td>0.07211</td>\n",
              "    </tr>\n",
              "    <tr>\n",
              "      <th>373</th>\n",
              "      <td>B</td>\n",
              "      <td>12.360</td>\n",
              "      <td>21.80</td>\n",
              "      <td>79.78</td>\n",
              "      <td>466.1</td>\n",
              "      <td>0.08772</td>\n",
              "      <td>0.09445</td>\n",
              "      <td>0.06015</td>\n",
              "      <td>0.03745</td>\n",
              "      <td>0.1930</td>\n",
              "      <td>0.06404</td>\n",
              "      <td>0.2978</td>\n",
              "      <td>1.5020</td>\n",
              "      <td>2.203</td>\n",
              "      <td>20.95</td>\n",
              "      <td>0.007112</td>\n",
              "      <td>0.024930</td>\n",
              "      <td>0.02703</td>\n",
              "      <td>0.012930</td>\n",
              "      <td>0.01958</td>\n",
              "      <td>0.004463</td>\n",
              "      <td>13.830</td>\n",
              "      <td>30.50</td>\n",
              "      <td>91.46</td>\n",
              "      <td>574.7</td>\n",
              "      <td>0.13040</td>\n",
              "      <td>0.24630</td>\n",
              "      <td>0.24340</td>\n",
              "      <td>0.12050</td>\n",
              "      <td>0.2972</td>\n",
              "      <td>0.09261</td>\n",
              "    </tr>\n",
              "    <tr>\n",
              "      <th>374</th>\n",
              "      <td>B</td>\n",
              "      <td>7.760</td>\n",
              "      <td>24.54</td>\n",
              "      <td>47.92</td>\n",
              "      <td>181.0</td>\n",
              "      <td>0.05263</td>\n",
              "      <td>0.04362</td>\n",
              "      <td>0.00000</td>\n",
              "      <td>0.00000</td>\n",
              "      <td>0.1587</td>\n",
              "      <td>0.05884</td>\n",
              "      <td>0.3857</td>\n",
              "      <td>1.4280</td>\n",
              "      <td>2.548</td>\n",
              "      <td>19.15</td>\n",
              "      <td>0.007189</td>\n",
              "      <td>0.004660</td>\n",
              "      <td>0.00000</td>\n",
              "      <td>0.000000</td>\n",
              "      <td>0.02676</td>\n",
              "      <td>0.002783</td>\n",
              "      <td>9.456</td>\n",
              "      <td>30.37</td>\n",
              "      <td>59.16</td>\n",
              "      <td>268.6</td>\n",
              "      <td>0.08996</td>\n",
              "      <td>0.06444</td>\n",
              "      <td>0.00000</td>\n",
              "      <td>0.00000</td>\n",
              "      <td>0.2871</td>\n",
              "      <td>0.07039</td>\n",
              "    </tr>\n",
              "  </tbody>\n",
              "</table>\n",
              "<p>375 rows × 31 columns</p>\n",
              "</div>"
            ],
            "text/plain": [
              "    label  feature_01  feature_02  ...  feature_28  feature_29  feature_30\n",
              "0       B      13.170       18.22  ...     0.10450      0.2235     0.06925\n",
              "1       B      11.280       13.39  ...     0.08611      0.2102     0.06784\n",
              "2       B      11.150       13.08  ...     0.05506      0.2859     0.06772\n",
              "3       B      12.950       16.02  ...     0.10560      0.3380     0.09584\n",
              "4       B       9.504       12.44  ...     0.06227      0.2450     0.07773\n",
              "..    ...         ...         ...  ...         ...         ...         ...\n",
              "370     M      16.270       20.71  ...     0.15830      0.3103     0.08200\n",
              "371     B      10.510       23.09  ...     0.03125      0.2227     0.06777\n",
              "372     B       9.755       28.20  ...     0.04866      0.2321     0.07211\n",
              "373     B      12.360       21.80  ...     0.12050      0.2972     0.09261\n",
              "374     B       7.760       24.54  ...     0.00000      0.2871     0.07039\n",
              "\n",
              "[375 rows x 31 columns]"
            ]
          },
          "metadata": {
            "tags": []
          },
          "execution_count": 295
        }
      ]
    },
    {
      "cell_type": "code",
      "metadata": {
        "id": "c_5M6rnfubr4",
        "colab_type": "code",
        "colab": {}
      },
      "source": [
        ""
      ],
      "execution_count": 0,
      "outputs": []
    },
    {
      "cell_type": "code",
      "metadata": {
        "id": "lPfJERJHubuX",
        "colab_type": "code",
        "colab": {}
      },
      "source": [
        ""
      ],
      "execution_count": 0,
      "outputs": []
    },
    {
      "cell_type": "code",
      "metadata": {
        "id": "kO0Z-dArtIDl",
        "colab_type": "code",
        "colab": {}
      },
      "source": [
        "feature_list = list(sampled_df.drop(['label'], axis=1).columns)"
      ],
      "execution_count": 0,
      "outputs": []
    },
    {
      "cell_type": "code",
      "metadata": {
        "id": "-rbJrccGtIGN",
        "colab_type": "code",
        "outputId": "f7484ffb-8e35-4d41-bc65-edac34b7eece",
        "colab": {
          "base_uri": "https://localhost:8080/",
          "height": 420
        }
      },
      "source": [
        "boxplot = sampled_df.boxplot(column=feature_list, figsize=(20,6), rot=90)"
      ],
      "execution_count": 0,
      "outputs": [
        {
          "output_type": "display_data",
          "data": {
            "image/png": "[encoded data removed]",
            "text/plain": [
              "<Figure size 1440x432 with 1 Axes>"
            ]
          },
          "metadata": {
            "tags": [],
            "needs_background": "light"
          }
        }
      ]
    },
    {
      "cell_type": "code",
      "metadata": {
        "id": "s-_y2sLQtIIE",
        "colab_type": "code",
        "colab": {}
      },
      "source": [
        ""
      ],
      "execution_count": 0,
      "outputs": []
    },
    {
      "cell_type": "markdown",
      "metadata": {
        "id": "h1vrEBiKvRNR",
        "colab_type": "text"
      },
      "source": [
        "### Scaling variables"
      ]
    },
    {
      "cell_type": "code",
      "metadata": {
        "id": "Lkzt0xRytIPT",
        "colab_type": "code",
        "colab": {}
      },
      "source": [
        "scaler = StandardScaler()"
      ],
      "execution_count": 0,
      "outputs": []
    },
    {
      "cell_type": "code",
      "metadata": {
        "id": "bwkIZsjJtIRh",
        "colab_type": "code",
        "colab": {}
      },
      "source": [
        "sampled_df[feature_list] = scaler.fit_transform(sampled_df[feature_list])"
      ],
      "execution_count": 0,
      "outputs": []
    },
    {
      "cell_type": "code",
      "metadata": {
        "id": "tDM_CYKitIUu",
        "colab_type": "code",
        "outputId": "dd16915e-d333-4f9c-b1a9-da1c6f490eb0",
        "colab": {
          "base_uri": "https://localhost:8080/",
          "height": 418
        }
      },
      "source": [
        "boxplot = sampled_df.boxplot(column=feature_list, figsize=(20,6), rot=90)"
      ],
      "execution_count": 0,
      "outputs": [
        {
          "output_type": "display_data",
          "data": {
            "image/png": "[encoded data removed]",
            "text/plain": [
              "<Figure size 1440x432 with 1 Axes>"
            ]
          },
          "metadata": {
            "tags": [],
            "needs_background": "light"
          }
        }
      ]
    },
    {
      "cell_type": "code",
      "metadata": {
        "id": "blF7HsFbvyDH",
        "colab_type": "code",
        "colab": {}
      },
      "source": [
        ""
      ],
      "execution_count": 0,
      "outputs": []
    },
    {
      "cell_type": "code",
      "metadata": {
        "id": "8zrm01JMvyFa",
        "colab_type": "code",
        "colab": {}
      },
      "source": [
        ""
      ],
      "execution_count": 0,
      "outputs": []
    },
    {
      "cell_type": "code",
      "metadata": {
        "id": "0WziordRtIW_",
        "colab_type": "code",
        "outputId": "8a03a249-6fcd-4321-8156-ba4c10f85db7",
        "colab": {
          "base_uri": "https://localhost:8080/",
          "height": 215
        }
      },
      "source": [
        "sampled_df.head()"
      ],
      "execution_count": 0,
      "outputs": [
        {
          "output_type": "execute_result",
          "data": {
            "text/html": [
              "<div>\n",
              "<style scoped>\n",
              "    .dataframe tbody tr th:only-of-type {\n",
              "        vertical-align: middle;\n",
              "    }\n",
              "\n",
              "    .dataframe tbody tr th {\n",
              "        vertical-align: top;\n",
              "    }\n",
              "\n",
              "    .dataframe thead th {\n",
              "        text-align: right;\n",
              "    }\n",
              "</style>\n",
              "<table border=\"1\" class=\"dataframe\">\n",
              "  <thead>\n",
              "    <tr style=\"text-align: right;\">\n",
              "      <th></th>\n",
              "      <th>label</th>\n",
              "      <th>feature_01</th>\n",
              "      <th>feature_02</th>\n",
              "      <th>feature_03</th>\n",
              "      <th>feature_04</th>\n",
              "      <th>feature_05</th>\n",
              "      <th>feature_06</th>\n",
              "      <th>feature_07</th>\n",
              "      <th>feature_08</th>\n",
              "      <th>feature_09</th>\n",
              "      <th>feature_10</th>\n",
              "      <th>feature_11</th>\n",
              "      <th>feature_12</th>\n",
              "      <th>feature_13</th>\n",
              "      <th>feature_14</th>\n",
              "      <th>feature_15</th>\n",
              "      <th>feature_16</th>\n",
              "      <th>feature_17</th>\n",
              "      <th>feature_18</th>\n",
              "      <th>feature_19</th>\n",
              "      <th>feature_20</th>\n",
              "      <th>feature_21</th>\n",
              "      <th>feature_22</th>\n",
              "      <th>feature_23</th>\n",
              "      <th>feature_24</th>\n",
              "      <th>feature_25</th>\n",
              "      <th>feature_26</th>\n",
              "      <th>feature_27</th>\n",
              "      <th>feature_28</th>\n",
              "      <th>feature_29</th>\n",
              "      <th>feature_30</th>\n",
              "    </tr>\n",
              "  </thead>\n",
              "  <tbody>\n",
              "    <tr>\n",
              "      <th>0</th>\n",
              "      <td>B</td>\n",
              "      <td>0.091628</td>\n",
              "      <td>0.072171</td>\n",
              "      <td>0.003087</td>\n",
              "      <td>0.019346</td>\n",
              "      <td>-0.675780</td>\n",
              "      <td>-1.063399</td>\n",
              "      <td>-0.921616</td>\n",
              "      <td>-1.140924</td>\n",
              "      <td>-0.219384</td>\n",
              "      <td>-0.649317</td>\n",
              "      <td>-0.186905</td>\n",
              "      <td>0.227118</td>\n",
              "      <td>-0.372753</td>\n",
              "      <td>-0.063141</td>\n",
              "      <td>-0.258761</td>\n",
              "      <td>-0.840720</td>\n",
              "      <td>-0.769819</td>\n",
              "      <td>-1.245132</td>\n",
              "      <td>0.759170</td>\n",
              "      <td>-0.570012</td>\n",
              "      <td>-0.090807</td>\n",
              "      <td>-0.132444</td>\n",
              "      <td>-0.217746</td>\n",
              "      <td>-0.131442</td>\n",
              "      <td>-1.098648</td>\n",
              "      <td>-1.135487</td>\n",
              "      <td>-1.072264</td>\n",
              "      <td>-1.589331</td>\n",
              "      <td>-0.506849</td>\n",
              "      <td>-1.085663</td>\n",
              "    </tr>\n",
              "    <tr>\n",
              "      <th>1</th>\n",
              "      <td>B</td>\n",
              "      <td>0.082261</td>\n",
              "      <td>0.237542</td>\n",
              "      <td>0.146590</td>\n",
              "      <td>0.001525</td>\n",
              "      <td>-0.404969</td>\n",
              "      <td>0.513954</td>\n",
              "      <td>0.911223</td>\n",
              "      <td>0.660641</td>\n",
              "      <td>-0.869074</td>\n",
              "      <td>-0.158721</td>\n",
              "      <td>0.413603</td>\n",
              "      <td>0.447699</td>\n",
              "      <td>1.013241</td>\n",
              "      <td>0.230013</td>\n",
              "      <td>0.892470</td>\n",
              "      <td>1.206102</td>\n",
              "      <td>1.087722</td>\n",
              "      <td>1.645011</td>\n",
              "      <td>0.857572</td>\n",
              "      <td>0.188854</td>\n",
              "      <td>-0.139167</td>\n",
              "      <td>-0.247819</td>\n",
              "      <td>-0.035286</td>\n",
              "      <td>-0.193311</td>\n",
              "      <td>-0.812142</td>\n",
              "      <td>0.053243</td>\n",
              "      <td>0.324433</td>\n",
              "      <td>0.274717</td>\n",
              "      <td>-1.397066</td>\n",
              "      <td>-0.569947</td>\n",
              "    </tr>\n",
              "    <tr>\n",
              "      <th>2</th>\n",
              "      <td>B</td>\n",
              "      <td>0.606768</td>\n",
              "      <td>-0.438752</td>\n",
              "      <td>0.547573</td>\n",
              "      <td>0.501057</td>\n",
              "      <td>-0.023473</td>\n",
              "      <td>-0.285726</td>\n",
              "      <td>-0.637828</td>\n",
              "      <td>-0.443085</td>\n",
              "      <td>-0.480845</td>\n",
              "      <td>-0.201965</td>\n",
              "      <td>-0.643918</td>\n",
              "      <td>-1.271967</td>\n",
              "      <td>-0.696245</td>\n",
              "      <td>-0.365602</td>\n",
              "      <td>-1.106426</td>\n",
              "      <td>-0.887209</td>\n",
              "      <td>-0.610531</td>\n",
              "      <td>-0.873330</td>\n",
              "      <td>-1.436063</td>\n",
              "      <td>-0.680204</td>\n",
              "      <td>0.783397</td>\n",
              "      <td>-0.643646</td>\n",
              "      <td>0.628111</td>\n",
              "      <td>0.643953</td>\n",
              "      <td>0.017738</td>\n",
              "      <td>-0.335428</td>\n",
              "      <td>-0.383435</td>\n",
              "      <td>0.150044</td>\n",
              "      <td>0.190952</td>\n",
              "      <td>-0.165276</td>\n",
              "    </tr>\n",
              "    <tr>\n",
              "      <th>3</th>\n",
              "      <td>M</td>\n",
              "      <td>3.997331</td>\n",
              "      <td>1.723416</td>\n",
              "      <td>4.340436</td>\n",
              "      <td>4.797477</td>\n",
              "      <td>1.240556</td>\n",
              "      <td>3.579607</td>\n",
              "      <td>4.796537</td>\n",
              "      <td>5.209608</td>\n",
              "      <td>1.571226</td>\n",
              "      <td>0.877646</td>\n",
              "      <td>4.507672</td>\n",
              "      <td>-0.331226</td>\n",
              "      <td>6.168657</td>\n",
              "      <td>5.541105</td>\n",
              "      <td>-0.253453</td>\n",
              "      <td>1.250803</td>\n",
              "      <td>1.568209</td>\n",
              "      <td>2.781312</td>\n",
              "      <td>0.015367</td>\n",
              "      <td>0.884654</td>\n",
              "      <td>3.923091</td>\n",
              "      <td>0.991136</td>\n",
              "      <td>4.715014</td>\n",
              "      <td>4.517592</td>\n",
              "      <td>0.724125</td>\n",
              "      <td>1.991273</td>\n",
              "      <td>2.846287</td>\n",
              "      <td>3.864895</td>\n",
              "      <td>0.476099</td>\n",
              "      <td>1.259245</td>\n",
              "    </tr>\n",
              "    <tr>\n",
              "      <th>4</th>\n",
              "      <td>B</td>\n",
              "      <td>0.686381</td>\n",
              "      <td>-0.221548</td>\n",
              "      <td>0.594263</td>\n",
              "      <td>0.574567</td>\n",
              "      <td>-0.386522</td>\n",
              "      <td>-0.572076</td>\n",
              "      <td>-0.697993</td>\n",
              "      <td>-0.767917</td>\n",
              "      <td>-0.548191</td>\n",
              "      <td>-0.597126</td>\n",
              "      <td>-0.550067</td>\n",
              "      <td>-0.624012</td>\n",
              "      <td>-0.582837</td>\n",
              "      <td>-0.327212</td>\n",
              "      <td>-0.850633</td>\n",
              "      <td>-0.771523</td>\n",
              "      <td>-0.547982</td>\n",
              "      <td>-0.918747</td>\n",
              "      <td>-1.156775</td>\n",
              "      <td>-0.676392</td>\n",
              "      <td>0.649476</td>\n",
              "      <td>-0.043694</td>\n",
              "      <td>0.559557</td>\n",
              "      <td>0.467979</td>\n",
              "      <td>-0.510816</td>\n",
              "      <td>-0.525327</td>\n",
              "      <td>-0.619690</td>\n",
              "      <td>-0.649996</td>\n",
              "      <td>-0.833725</td>\n",
              "      <td>-0.574034</td>\n",
              "    </tr>\n",
              "  </tbody>\n",
              "</table>\n",
              "</div>"
            ],
            "text/plain": [
              "  label  feature_01  feature_02  ...  feature_28  feature_29  feature_30\n",
              "0     B    0.091628    0.072171  ...   -1.589331   -0.506849   -1.085663\n",
              "1     B    0.082261    0.237542  ...    0.274717   -1.397066   -0.569947\n",
              "2     B    0.606768   -0.438752  ...    0.150044    0.190952   -0.165276\n",
              "3     M    3.997331    1.723416  ...    3.864895    0.476099    1.259245\n",
              "4     B    0.686381   -0.221548  ...   -0.649996   -0.833725   -0.574034\n",
              "\n",
              "[5 rows x 31 columns]"
            ]
          },
          "metadata": {
            "tags": []
          },
          "execution_count": 135
        }
      ]
    },
    {
      "cell_type": "code",
      "metadata": {
        "id": "kUT3TLDqvyHt",
        "colab_type": "code",
        "colab": {}
      },
      "source": [
        "true_labels = list(sampled_df['label'].values)"
      ],
      "execution_count": 0,
      "outputs": []
    },
    {
      "cell_type": "markdown",
      "metadata": {
        "id": "FyjhDEMexTPe",
        "colab_type": "text"
      },
      "source": [
        "# Models and Evaluation"
      ]
    },
    {
      "cell_type": "code",
      "metadata": {
        "id": "qZnTNlLlxdqF",
        "colab_type": "code",
        "colab": {}
      },
      "source": [
        "from sklearn.cluster import DBSCAN"
      ],
      "execution_count": 0,
      "outputs": []
    },
    {
      "cell_type": "code",
      "metadata": {
        "id": "nHT0Hgbz6bQK",
        "colab_type": "code",
        "colab": {}
      },
      "source": [
        "from sklearn.metrics import confusion_matrix, f1_score, precision_score, recall_score"
      ],
      "execution_count": 0,
      "outputs": []
    },
    {
      "cell_type": "code",
      "metadata": {
        "id": "Himfyupy_VGi",
        "colab_type": "code",
        "colab": {}
      },
      "source": [
        "def calculate_metrics(true_labels,predicted_labels):\n",
        "\n",
        "  f1 = f1_score(true_labels, predicted_labels, pos_label='M')\n",
        "  precision = precision_score(true_labels, predicted_labels, pos_label='M')\n",
        "  recall = recall_score(true_labels, predicted_labels, pos_label='M')\n",
        "  cm = confusion_matrix(true_labels, predicted_labels, labels=['B','M'])\n",
        "\n",
        "  msg = f'precision:\\t {precision}\\nrecall:\\t\\t {recall}\\nf1-score:\\t {f1}'\n",
        "  print(msg)\n",
        "  return cm\n",
        "\n",
        "\n",
        "# # To plot the confusion matrix\n",
        "# fig = plt.figure()\n",
        "# ax = fig.add_subplot(111)\n",
        "# cax = ax.matshow(cm)\n",
        "# plt.title('Confusion matrix of the classifier')\n",
        "# fig.colorbar(cax)\n",
        "# ax.set_xticklabels([''] + my_labels)\n",
        "# ax.set_yticklabels([''] + my_labels)\n",
        "# plt.xlabel('Predicted')\n",
        "# plt.ylabel('True')\n",
        "# plt.show()"
      ],
      "execution_count": 0,
      "outputs": []
    },
    {
      "cell_type": "markdown",
      "metadata": {
        "id": "IKKusG-jxUc2",
        "colab_type": "text"
      },
      "source": [
        "## DB-Scan"
      ]
    },
    {
      "cell_type": "markdown",
      "metadata": {
        "id": "Zo3mlLhV6SGb",
        "colab_type": "text"
      },
      "source": [
        "### Modeling"
      ]
    },
    {
      "cell_type": "code",
      "metadata": {
        "id": "UNZkpzjSxdsY",
        "colab_type": "code",
        "colab": {}
      },
      "source": [
        "outlier_detection = DBSCAN(min_samples = 2, eps = 5.5)"
      ],
      "execution_count": 0,
      "outputs": []
    },
    {
      "cell_type": "code",
      "metadata": {
        "id": "CoDcN4C2wKzx",
        "colab_type": "code",
        "colab": {}
      },
      "source": [
        "predicted_labels = outlier_detection.fit_predict(sampled_df[feature_list])"
      ],
      "execution_count": 0,
      "outputs": []
    },
    {
      "cell_type": "code",
      "metadata": {
        "id": "3j6Cv-D3wK6B",
        "colab_type": "code",
        "outputId": "40a0aee6-14d9-43cc-e502-17a07c607739",
        "colab": {
          "base_uri": "https://localhost:8080/",
          "height": 34
        }
      },
      "source": [
        "list(predicted_labels).count(-1)"
      ],
      "execution_count": 0,
      "outputs": [
        {
          "output_type": "execute_result",
          "data": {
            "text/plain": [
              "365"
            ]
          },
          "metadata": {
            "tags": []
          },
          "execution_count": 308
        }
      ]
    },
    {
      "cell_type": "code",
      "metadata": {
        "id": "kY2IHIrcwK4R",
        "colab_type": "code",
        "colab": {}
      },
      "source": [
        "predicted_labels = [(lambda x: 'M' if x<0 else 'B')(x) for x in predicted_labels]"
      ],
      "execution_count": 0,
      "outputs": []
    },
    {
      "cell_type": "code",
      "metadata": {
        "id": "fwfmBgJa1SEX",
        "colab_type": "code",
        "outputId": "efd8fc2c-4590-4700-f7ca-a22b881c2f98",
        "colab": {
          "base_uri": "https://localhost:8080/",
          "height": 34
        }
      },
      "source": [
        "predicted_labels[:10]"
      ],
      "execution_count": 0,
      "outputs": [
        {
          "output_type": "execute_result",
          "data": {
            "text/plain": [
              "['M', 'M', 'M', 'M', 'M', 'M', 'M', 'M', 'M', 'M']"
            ]
          },
          "metadata": {
            "tags": []
          },
          "execution_count": 310
        }
      ]
    },
    {
      "cell_type": "markdown",
      "metadata": {
        "id": "5U4eJWC56L2-",
        "colab_type": "text"
      },
      "source": [
        "### Evaluation"
      ]
    },
    {
      "cell_type": "code",
      "metadata": {
        "id": "odc5RXOG81Kq",
        "colab_type": "code",
        "outputId": "72e08615-cc6f-4b6d-a8a5-ef351ad57081",
        "colab": {
          "base_uri": "https://localhost:8080/",
          "height": 67
        }
      },
      "source": [
        "calculate_metrics(true_labels,predicted_labels)"
      ],
      "execution_count": 0,
      "outputs": [
        {
          "output_type": "stream",
          "text": [
            "precision:\t 0.4\n",
            "recall:\t\t 0.4444444444444444\n",
            "f1-score:\t 0.4210526315789474\n"
          ],
          "name": "stdout"
        }
      ]
    },
    {
      "cell_type": "code",
      "metadata": {
        "id": "Ig-AtZP581Se",
        "colab_type": "code",
        "outputId": "028042a3-806c-4f52-fd7f-1afd4ae7d296",
        "colab": {
          "base_uri": "https://localhost:8080/",
          "height": 101
        }
      },
      "source": [
        "calculate_metrics(true_labels,predicted_labels)"
      ],
      "execution_count": 0,
      "outputs": [
        {
          "output_type": "stream",
          "text": [
            "precision:\t 0.049315068493150684\n",
            "recall:\t\t 1.0\n",
            "f1-score:\t 0.09399477806788512\n"
          ],
          "name": "stdout"
        },
        {
          "output_type": "execute_result",
          "data": {
            "text/plain": [
              "array([[ 10, 347],\n",
              "       [  0,  18]])"
            ]
          },
          "metadata": {
            "tags": []
          },
          "execution_count": 311
        }
      ]
    },
    {
      "cell_type": "markdown",
      "metadata": {
        "id": "IZT2vZEi9tkQ",
        "colab_type": "text"
      },
      "source": [
        "## Isolation Forest"
      ]
    },
    {
      "cell_type": "code",
      "metadata": {
        "id": "ak6nabDp9tD6",
        "colab_type": "code",
        "colab": {}
      },
      "source": [
        "from sklearn.ensemble import IsolationForest"
      ],
      "execution_count": 0,
      "outputs": []
    },
    {
      "cell_type": "markdown",
      "metadata": {
        "id": "_Lkgr2Gz91mo",
        "colab_type": "text"
      },
      "source": [
        "### Modeling"
      ]
    },
    {
      "cell_type": "code",
      "metadata": {
        "id": "NE8QMj3A9tIl",
        "colab_type": "code",
        "colab": {}
      },
      "source": [
        "isfor_clf = IsolationForest(max_samples=100, random_state=rng)"
      ],
      "execution_count": 0,
      "outputs": []
    },
    {
      "cell_type": "code",
      "metadata": {
        "id": "aUAQlH5b94A1",
        "colab_type": "code",
        "outputId": "a93ca1de-55f9-44a9-d8c8-0be2b4e3ec02",
        "colab": {
          "base_uri": "https://localhost:8080/",
          "height": 101
        }
      },
      "source": [
        "isfor_clf.fit(sampled_df[feature_list])"
      ],
      "execution_count": 0,
      "outputs": [
        {
          "output_type": "execute_result",
          "data": {
            "text/plain": [
              "IsolationForest(behaviour='deprecated', bootstrap=False, contamination='auto',\n",
              "                max_features=1.0, max_samples=100, n_estimators=100,\n",
              "                n_jobs=None,\n",
              "                random_state=RandomState(MT19937) at 0x7F7159D05A98, verbose=0,\n",
              "                warm_start=False)"
            ]
          },
          "metadata": {
            "tags": []
          },
          "execution_count": 299
        }
      ]
    },
    {
      "cell_type": "code",
      "metadata": {
        "id": "GPXiJ4bV94DO",
        "colab_type": "code",
        "colab": {}
      },
      "source": [
        "# For each observation, tells whether or not (+1 or -1) it should be considered as an inlier according to the fitted model\n",
        "predicted_labels = isfor_clf.predict(sampled_df[feature_list])"
      ],
      "execution_count": 0,
      "outputs": []
    },
    {
      "cell_type": "code",
      "metadata": {
        "id": "tc2_s_dy_IRA",
        "colab_type": "code",
        "colab": {}
      },
      "source": [
        "predicted_labels = [(lambda x: 'M' if x<0 else 'B')(x) for x in predicted_labels]"
      ],
      "execution_count": 0,
      "outputs": []
    },
    {
      "cell_type": "code",
      "metadata": {
        "id": "ZlKG7WSE9tGe",
        "colab_type": "code",
        "outputId": "896415a3-74d7-43e3-cac0-f58c09929b0f",
        "colab": {
          "base_uri": "https://localhost:8080/",
          "height": 34
        }
      },
      "source": [
        "predicted_labels[:10]"
      ],
      "execution_count": 0,
      "outputs": [
        {
          "output_type": "execute_result",
          "data": {
            "text/plain": [
              "['B', 'B', 'B', 'B', 'B', 'B', 'B', 'B', 'B', 'M']"
            ]
          },
          "metadata": {
            "tags": []
          },
          "execution_count": 302
        }
      ]
    },
    {
      "cell_type": "markdown",
      "metadata": {
        "id": "_lSZykoZ96bA",
        "colab_type": "text"
      },
      "source": [
        "### Evaluation"
      ]
    },
    {
      "cell_type": "code",
      "metadata": {
        "id": "zWvw3zc0-TMa",
        "colab_type": "code",
        "outputId": "398ff3b5-4afa-4cbc-ae10-a02ab38ebffc",
        "colab": {
          "base_uri": "https://localhost:8080/",
          "height": 67
        }
      },
      "source": [
        "calculate_metrics(true_labels,predicted_labels) # with variables scaling"
      ],
      "execution_count": 0,
      "outputs": [
        {
          "output_type": "stream",
          "text": [
            "precision:\t 0.2727272727272727\n",
            "recall:\t\t 0.6666666666666666\n",
            "f1-score:\t 0.3870967741935484\n"
          ],
          "name": "stdout"
        }
      ]
    },
    {
      "cell_type": "code",
      "metadata": {
        "id": "zGbrB7a9-TO-",
        "colab_type": "code",
        "outputId": "1d1dddc6-aa90-4686-f6d7-1a5db0dbc1bc",
        "colab": {
          "base_uri": "https://localhost:8080/",
          "height": 101
        }
      },
      "source": [
        "calculate_metrics(true_labels,predicted_labels) # without variables scaling"
      ],
      "execution_count": 0,
      "outputs": [
        {
          "output_type": "stream",
          "text": [
            "precision:\t 0.022222222222222223\n",
            "recall:\t\t 0.05555555555555555\n",
            "f1-score:\t 0.031746031746031744\n"
          ],
          "name": "stdout"
        },
        {
          "output_type": "execute_result",
          "data": {
            "text/plain": [
              "array([[313,  44],\n",
              "       [ 17,   1]])"
            ]
          },
          "metadata": {
            "tags": []
          },
          "execution_count": 305
        }
      ]
    },
    {
      "cell_type": "code",
      "metadata": {
        "id": "Mz5fukQM-TRl",
        "colab_type": "code",
        "colab": {}
      },
      "source": [
        ""
      ],
      "execution_count": 0,
      "outputs": []
    },
    {
      "cell_type": "code",
      "metadata": {
        "id": "fbgX_VRW-TU9",
        "colab_type": "code",
        "colab": {}
      },
      "source": [
        ""
      ],
      "execution_count": 0,
      "outputs": []
    },
    {
      "cell_type": "code",
      "metadata": {
        "id": "NvfII9Ep-TXt",
        "colab_type": "code",
        "colab": {}
      },
      "source": [
        ""
      ],
      "execution_count": 0,
      "outputs": []
    }
  ]
}