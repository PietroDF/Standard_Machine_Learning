{
  "nbformat": 4,
  "nbformat_minor": 0,
  "metadata": {
    "colab": {
      "name": "Twitter_sentiment_analysis.ipynb",
      "provenance": [],
      "toc_visible": true,
      "authorship_tag": "ABX9TyMtViaZBEdXkcJW0aCY+krH",
      "include_colab_link": true
    },
    "kernelspec": {
      "name": "python3",
      "display_name": "Python 3"
    }
  },
  "cells": [
    {
      "cell_type": "markdown",
      "metadata": {
        "id": "view-in-github",
        "colab_type": "text"
      },
      "source": [
        "<a href=\"https://colab.research.google.com/github/PietroDF/Standard_Machine_Learning/blob/master/Twitter_sentiment_analysis.ipynb\" target=\"_parent\"><img src=\"https://colab.research.google.com/assets/colab-badge.svg\" alt=\"Open In Colab\"/></a>"
      ]
    },
    {
      "cell_type": "markdown",
      "metadata": {
        "id": "P4MUm_ZgZoy2",
        "colab_type": "text"
      },
      "source": [
        "# Twitter sentiment analysis"
      ]
    },
    {
      "cell_type": "markdown",
      "metadata": {
        "id": "wlcgvSJNklxy",
        "colab_type": "text"
      },
      "source": [
        "Inspiring notebook @ https://github.com/dD2405/Twitter_Sentiment_Analysis/blob/master/Twitter_Sentiment_Analysis.ipynb"
      ]
    },
    {
      "cell_type": "markdown",
      "metadata": {
        "id": "mXcuNv4iZrmR",
        "colab_type": "text"
      },
      "source": [
        "# Libraries"
      ]
    },
    {
      "cell_type": "code",
      "metadata": {
        "id": "tUXsXH2i_j-5",
        "colab_type": "code",
        "outputId": "ae52ad7b-51dc-4f80-9009-809cf5f167c9",
        "colab": {
          "base_uri": "https://localhost:8080/",
          "height": 70
        }
      },
      "source": [
        "import re\n",
        "import pandas as pd \n",
        "import numpy as np \n",
        "import matplotlib.pyplot as plt \n",
        "import seaborn as sns\n",
        "import string\n",
        "import nltk\n",
        "import warnings \n",
        "warnings.filterwarnings(\"ignore\", category=DeprecationWarning)"
      ],
      "execution_count": 0,
      "outputs": [
        {
          "output_type": "stream",
          "text": [
            "/usr/local/lib/python3.6/dist-packages/statsmodels/tools/_testing.py:19: FutureWarning: pandas.util.testing is deprecated. Use the functions in the public API at pandas.testing instead.\n",
            "  import pandas.util.testing as tm\n"
          ],
          "name": "stderr"
        }
      ]
    },
    {
      "cell_type": "markdown",
      "metadata": {
        "id": "J1hUK624ZzoC",
        "colab_type": "text"
      },
      "source": [
        "# Dataset"
      ]
    },
    {
      "cell_type": "markdown",
      "metadata": {
        "id": "AE6v8Vc1Z3u-",
        "colab_type": "text"
      },
      "source": [
        "## Download"
      ]
    },
    {
      "cell_type": "code",
      "metadata": {
        "id": "rJ_8bkVi_vak",
        "colab_type": "code",
        "colab": {}
      },
      "source": [
        "# Read the train and test dataset\n",
        "train = pd.read_csv('https://raw.githubusercontent.com/dD2405/Twitter_Sentiment_Analysis/master/train.csv')\n",
        "test = pd.read_csv('https://raw.githubusercontent.com/dD2405/Twitter_Sentiment_Analysis/master/test.csv')"
      ],
      "execution_count": 0,
      "outputs": []
    },
    {
      "cell_type": "code",
      "metadata": {
        "id": "cmzUrKdn_ve_",
        "colab_type": "code",
        "outputId": "6e2fbe13-8818-4a4a-b2b9-85a9d6ff5a03",
        "colab": {
          "base_uri": "https://localhost:8080/",
          "height": 34
        }
      },
      "source": [
        "train.shape"
      ],
      "execution_count": 0,
      "outputs": [
        {
          "output_type": "execute_result",
          "data": {
            "text/plain": [
              "(31962, 3)"
            ]
          },
          "metadata": {
            "tags": []
          },
          "execution_count": 4
        }
      ]
    },
    {
      "cell_type": "code",
      "metadata": {
        "id": "OyG8kLcC_vcy",
        "colab_type": "code",
        "colab": {}
      },
      "source": [
        "train_original = train.copy()\n",
        "test_original = test.copy()"
      ],
      "execution_count": 0,
      "outputs": []
    },
    {
      "cell_type": "code",
      "metadata": {
        "id": "GfXPYkDA_vhJ",
        "colab_type": "code",
        "outputId": "ceeb0672-9cf5-49c1-81ae-2d7a8f9332af",
        "colab": {
          "base_uri": "https://localhost:8080/",
          "height": 34
        }
      },
      "source": [
        "train_original.shape"
      ],
      "execution_count": 0,
      "outputs": [
        {
          "output_type": "execute_result",
          "data": {
            "text/plain": [
              "(31962, 3)"
            ]
          },
          "metadata": {
            "tags": []
          },
          "execution_count": 6
        }
      ]
    },
    {
      "cell_type": "code",
      "metadata": {
        "id": "C-l-3U77_vjE",
        "colab_type": "code",
        "outputId": "fc6f55a2-a25b-4c3a-89d6-505865b7eee2",
        "colab": {
          "base_uri": "https://localhost:8080/",
          "height": 195
        }
      },
      "source": [
        "train_original.head()"
      ],
      "execution_count": 0,
      "outputs": [
        {
          "output_type": "execute_result",
          "data": {
            "text/html": [
              "<div>\n",
              "<style scoped>\n",
              "    .dataframe tbody tr th:only-of-type {\n",
              "        vertical-align: middle;\n",
              "    }\n",
              "\n",
              "    .dataframe tbody tr th {\n",
              "        vertical-align: top;\n",
              "    }\n",
              "\n",
              "    .dataframe thead th {\n",
              "        text-align: right;\n",
              "    }\n",
              "</style>\n",
              "<table border=\"1\" class=\"dataframe\">\n",
              "  <thead>\n",
              "    <tr style=\"text-align: right;\">\n",
              "      <th></th>\n",
              "      <th>id</th>\n",
              "      <th>label</th>\n",
              "      <th>tweet</th>\n",
              "    </tr>\n",
              "  </thead>\n",
              "  <tbody>\n",
              "    <tr>\n",
              "      <th>0</th>\n",
              "      <td>1</td>\n",
              "      <td>0</td>\n",
              "      <td>@user when a father is dysfunctional and is s...</td>\n",
              "    </tr>\n",
              "    <tr>\n",
              "      <th>1</th>\n",
              "      <td>2</td>\n",
              "      <td>0</td>\n",
              "      <td>@user @user thanks for #lyft credit i can't us...</td>\n",
              "    </tr>\n",
              "    <tr>\n",
              "      <th>2</th>\n",
              "      <td>3</td>\n",
              "      <td>0</td>\n",
              "      <td>bihday your majesty</td>\n",
              "    </tr>\n",
              "    <tr>\n",
              "      <th>3</th>\n",
              "      <td>4</td>\n",
              "      <td>0</td>\n",
              "      <td>#model   i love u take with u all the time in ...</td>\n",
              "    </tr>\n",
              "    <tr>\n",
              "      <th>4</th>\n",
              "      <td>5</td>\n",
              "      <td>0</td>\n",
              "      <td>factsguide: society now    #motivation</td>\n",
              "    </tr>\n",
              "  </tbody>\n",
              "</table>\n",
              "</div>"
            ],
            "text/plain": [
              "   id  label                                              tweet\n",
              "0   1      0   @user when a father is dysfunctional and is s...\n",
              "1   2      0  @user @user thanks for #lyft credit i can't us...\n",
              "2   3      0                                bihday your majesty\n",
              "3   4      0  #model   i love u take with u all the time in ...\n",
              "4   5      0             factsguide: society now    #motivation"
            ]
          },
          "metadata": {
            "tags": []
          },
          "execution_count": 7
        }
      ]
    },
    {
      "cell_type": "code",
      "metadata": {
        "id": "z0tySpY2_vo7",
        "colab_type": "code",
        "colab": {}
      },
      "source": [
        "combine = train.append(test,ignore_index=True,sort=True)"
      ],
      "execution_count": 0,
      "outputs": []
    },
    {
      "cell_type": "markdown",
      "metadata": {
        "id": "tY6zxlwcaAij",
        "colab_type": "text"
      },
      "source": [
        "## Remove @user"
      ]
    },
    {
      "cell_type": "code",
      "metadata": {
        "id": "kBLCp-ByB1Kx",
        "colab_type": "code",
        "colab": {}
      },
      "source": [
        "def remove_pattern(text,pattern):\n",
        "    \n",
        "    # re.findall() finds the pattern i.e @user and puts it in a list for further task\n",
        "    r = re.findall(pattern,text)\n",
        "    \n",
        "    # re.sub() removes @user from the sentences in the dataset\n",
        "    for i in r:\n",
        "        text = re.sub(i,\"\",text)\n",
        "    \n",
        "    return text"
      ],
      "execution_count": 0,
      "outputs": []
    },
    {
      "cell_type": "code",
      "metadata": {
        "id": "9x-5eYJJB1qn",
        "colab_type": "code",
        "colab": {}
      },
      "source": [
        "combine['Tidy_Tweets'] = np.vectorize(remove_pattern)(combine['tweet'], \"@[\\w]*\")"
      ],
      "execution_count": 0,
      "outputs": []
    },
    {
      "cell_type": "code",
      "metadata": {
        "id": "nMTXkiemDOaH",
        "colab_type": "code",
        "outputId": "96659dcf-bf78-4b2a-c0b4-7df45a450d2c",
        "colab": {
          "base_uri": "https://localhost:8080/",
          "height": 195
        }
      },
      "source": [
        "combine.head()"
      ],
      "execution_count": 0,
      "outputs": [
        {
          "output_type": "execute_result",
          "data": {
            "text/html": [
              "<div>\n",
              "<style scoped>\n",
              "    .dataframe tbody tr th:only-of-type {\n",
              "        vertical-align: middle;\n",
              "    }\n",
              "\n",
              "    .dataframe tbody tr th {\n",
              "        vertical-align: top;\n",
              "    }\n",
              "\n",
              "    .dataframe thead th {\n",
              "        text-align: right;\n",
              "    }\n",
              "</style>\n",
              "<table border=\"1\" class=\"dataframe\">\n",
              "  <thead>\n",
              "    <tr style=\"text-align: right;\">\n",
              "      <th></th>\n",
              "      <th>id</th>\n",
              "      <th>label</th>\n",
              "      <th>tweet</th>\n",
              "      <th>Tidy_Tweets</th>\n",
              "    </tr>\n",
              "  </thead>\n",
              "  <tbody>\n",
              "    <tr>\n",
              "      <th>0</th>\n",
              "      <td>1</td>\n",
              "      <td>0.0</td>\n",
              "      <td>@user when a father is dysfunctional and is s...</td>\n",
              "      <td>when a father is dysfunctional and is so sel...</td>\n",
              "    </tr>\n",
              "    <tr>\n",
              "      <th>1</th>\n",
              "      <td>2</td>\n",
              "      <td>0.0</td>\n",
              "      <td>@user @user thanks for #lyft credit i can't us...</td>\n",
              "      <td>thanks for #lyft credit i can't use cause th...</td>\n",
              "    </tr>\n",
              "    <tr>\n",
              "      <th>2</th>\n",
              "      <td>3</td>\n",
              "      <td>0.0</td>\n",
              "      <td>bihday your majesty</td>\n",
              "      <td>bihday your majesty</td>\n",
              "    </tr>\n",
              "    <tr>\n",
              "      <th>3</th>\n",
              "      <td>4</td>\n",
              "      <td>0.0</td>\n",
              "      <td>#model   i love u take with u all the time in ...</td>\n",
              "      <td>#model   i love u take with u all the time in ...</td>\n",
              "    </tr>\n",
              "    <tr>\n",
              "      <th>4</th>\n",
              "      <td>5</td>\n",
              "      <td>0.0</td>\n",
              "      <td>factsguide: society now    #motivation</td>\n",
              "      <td>factsguide: society now    #motivation</td>\n",
              "    </tr>\n",
              "  </tbody>\n",
              "</table>\n",
              "</div>"
            ],
            "text/plain": [
              "   id  ...                                        Tidy_Tweets\n",
              "0   1  ...    when a father is dysfunctional and is so sel...\n",
              "1   2  ...    thanks for #lyft credit i can't use cause th...\n",
              "2   3  ...                                bihday your majesty\n",
              "3   4  ...  #model   i love u take with u all the time in ...\n",
              "4   5  ...             factsguide: society now    #motivation\n",
              "\n",
              "[5 rows x 4 columns]"
            ]
          },
          "metadata": {
            "tags": []
          },
          "execution_count": 11
        }
      ]
    },
    {
      "cell_type": "markdown",
      "metadata": {
        "id": "lCPaBFumaF7I",
        "colab_type": "text"
      },
      "source": [
        "## Remove special characters"
      ]
    },
    {
      "cell_type": "code",
      "metadata": {
        "id": "XRh_lT4RCT34",
        "colab_type": "code",
        "colab": {}
      },
      "source": [
        "combine['Tidy_Tweets'] = combine['Tidy_Tweets'].str.replace(\"[^a-zA-Z#]\", \" \")"
      ],
      "execution_count": 0,
      "outputs": []
    },
    {
      "cell_type": "code",
      "metadata": {
        "id": "Z6P9L8rcCp5B",
        "colab_type": "code",
        "outputId": "aee978c7-ccc7-4d2e-fe7c-5665fda8efc7",
        "colab": {
          "base_uri": "https://localhost:8080/",
          "height": 195
        }
      },
      "source": [
        "combine.head()"
      ],
      "execution_count": 0,
      "outputs": [
        {
          "output_type": "execute_result",
          "data": {
            "text/html": [
              "<div>\n",
              "<style scoped>\n",
              "    .dataframe tbody tr th:only-of-type {\n",
              "        vertical-align: middle;\n",
              "    }\n",
              "\n",
              "    .dataframe tbody tr th {\n",
              "        vertical-align: top;\n",
              "    }\n",
              "\n",
              "    .dataframe thead th {\n",
              "        text-align: right;\n",
              "    }\n",
              "</style>\n",
              "<table border=\"1\" class=\"dataframe\">\n",
              "  <thead>\n",
              "    <tr style=\"text-align: right;\">\n",
              "      <th></th>\n",
              "      <th>id</th>\n",
              "      <th>label</th>\n",
              "      <th>tweet</th>\n",
              "      <th>Tidy_Tweets</th>\n",
              "    </tr>\n",
              "  </thead>\n",
              "  <tbody>\n",
              "    <tr>\n",
              "      <th>0</th>\n",
              "      <td>1</td>\n",
              "      <td>0.0</td>\n",
              "      <td>@user when a father is dysfunctional and is s...</td>\n",
              "      <td>when a father is dysfunctional and is so sel...</td>\n",
              "    </tr>\n",
              "    <tr>\n",
              "      <th>1</th>\n",
              "      <td>2</td>\n",
              "      <td>0.0</td>\n",
              "      <td>@user @user thanks for #lyft credit i can't us...</td>\n",
              "      <td>thanks for #lyft credit i can t use cause th...</td>\n",
              "    </tr>\n",
              "    <tr>\n",
              "      <th>2</th>\n",
              "      <td>3</td>\n",
              "      <td>0.0</td>\n",
              "      <td>bihday your majesty</td>\n",
              "      <td>bihday your majesty</td>\n",
              "    </tr>\n",
              "    <tr>\n",
              "      <th>3</th>\n",
              "      <td>4</td>\n",
              "      <td>0.0</td>\n",
              "      <td>#model   i love u take with u all the time in ...</td>\n",
              "      <td>#model   i love u take with u all the time in ...</td>\n",
              "    </tr>\n",
              "    <tr>\n",
              "      <th>4</th>\n",
              "      <td>5</td>\n",
              "      <td>0.0</td>\n",
              "      <td>factsguide: society now    #motivation</td>\n",
              "      <td>factsguide  society now    #motivation</td>\n",
              "    </tr>\n",
              "  </tbody>\n",
              "</table>\n",
              "</div>"
            ],
            "text/plain": [
              "   id  ...                                        Tidy_Tweets\n",
              "0   1  ...    when a father is dysfunctional and is so sel...\n",
              "1   2  ...    thanks for #lyft credit i can t use cause th...\n",
              "2   3  ...                                bihday your majesty\n",
              "3   4  ...  #model   i love u take with u all the time in ...\n",
              "4   5  ...             factsguide  society now    #motivation\n",
              "\n",
              "[5 rows x 4 columns]"
            ]
          },
          "metadata": {
            "tags": []
          },
          "execution_count": 13
        }
      ]
    },
    {
      "cell_type": "code",
      "metadata": {
        "id": "1nFs8JsKCtDg",
        "colab_type": "code",
        "colab": {}
      },
      "source": [
        "combine['Tidy_Tweets'] = combine['Tidy_Tweets'].apply(lambda x: ' '.join([w for w in x.split() if len(w)>3]))"
      ],
      "execution_count": 0,
      "outputs": []
    },
    {
      "cell_type": "code",
      "metadata": {
        "id": "D7AsNVayC_1q",
        "colab_type": "code",
        "outputId": "8f3e0410-afdb-4272-8b8c-033ee3ab2a2a",
        "colab": {
          "base_uri": "https://localhost:8080/",
          "height": 195
        }
      },
      "source": [
        "combine.head()"
      ],
      "execution_count": 0,
      "outputs": [
        {
          "output_type": "execute_result",
          "data": {
            "text/html": [
              "<div>\n",
              "<style scoped>\n",
              "    .dataframe tbody tr th:only-of-type {\n",
              "        vertical-align: middle;\n",
              "    }\n",
              "\n",
              "    .dataframe tbody tr th {\n",
              "        vertical-align: top;\n",
              "    }\n",
              "\n",
              "    .dataframe thead th {\n",
              "        text-align: right;\n",
              "    }\n",
              "</style>\n",
              "<table border=\"1\" class=\"dataframe\">\n",
              "  <thead>\n",
              "    <tr style=\"text-align: right;\">\n",
              "      <th></th>\n",
              "      <th>id</th>\n",
              "      <th>label</th>\n",
              "      <th>tweet</th>\n",
              "      <th>Tidy_Tweets</th>\n",
              "    </tr>\n",
              "  </thead>\n",
              "  <tbody>\n",
              "    <tr>\n",
              "      <th>0</th>\n",
              "      <td>1</td>\n",
              "      <td>0.0</td>\n",
              "      <td>@user when a father is dysfunctional and is s...</td>\n",
              "      <td>when father dysfunctional selfish drags kids i...</td>\n",
              "    </tr>\n",
              "    <tr>\n",
              "      <th>1</th>\n",
              "      <td>2</td>\n",
              "      <td>0.0</td>\n",
              "      <td>@user @user thanks for #lyft credit i can't us...</td>\n",
              "      <td>thanks #lyft credit cause they offer wheelchai...</td>\n",
              "    </tr>\n",
              "    <tr>\n",
              "      <th>2</th>\n",
              "      <td>3</td>\n",
              "      <td>0.0</td>\n",
              "      <td>bihday your majesty</td>\n",
              "      <td>bihday your majesty</td>\n",
              "    </tr>\n",
              "    <tr>\n",
              "      <th>3</th>\n",
              "      <td>4</td>\n",
              "      <td>0.0</td>\n",
              "      <td>#model   i love u take with u all the time in ...</td>\n",
              "      <td>#model love take with time</td>\n",
              "    </tr>\n",
              "    <tr>\n",
              "      <th>4</th>\n",
              "      <td>5</td>\n",
              "      <td>0.0</td>\n",
              "      <td>factsguide: society now    #motivation</td>\n",
              "      <td>factsguide society #motivation</td>\n",
              "    </tr>\n",
              "  </tbody>\n",
              "</table>\n",
              "</div>"
            ],
            "text/plain": [
              "   id  ...                                        Tidy_Tweets\n",
              "0   1  ...  when father dysfunctional selfish drags kids i...\n",
              "1   2  ...  thanks #lyft credit cause they offer wheelchai...\n",
              "2   3  ...                                bihday your majesty\n",
              "3   4  ...                         #model love take with time\n",
              "4   5  ...                     factsguide society #motivation\n",
              "\n",
              "[5 rows x 4 columns]"
            ]
          },
          "metadata": {
            "tags": []
          },
          "execution_count": 15
        }
      ]
    },
    {
      "cell_type": "markdown",
      "metadata": {
        "id": "fPRJo3soDjN7",
        "colab_type": "text"
      },
      "source": [
        "## Tokenization \n",
        "Each word as an item:\n",
        "\"the pen is on the table\" -> [\"the\", \"pen\", \"is\", ...]"
      ]
    },
    {
      "cell_type": "code",
      "metadata": {
        "id": "cQcLzHFzDQ0L",
        "colab_type": "code",
        "colab": {}
      },
      "source": [
        "tokenized_tweet = combine['Tidy_Tweets'].apply(lambda x: x.split())"
      ],
      "execution_count": 0,
      "outputs": []
    },
    {
      "cell_type": "code",
      "metadata": {
        "id": "3McRTepFDXc6",
        "colab_type": "code",
        "outputId": "aabd14b7-0c97-416b-9a66-d62b64954fb5",
        "colab": {
          "base_uri": "https://localhost:8080/",
          "height": 118
        }
      },
      "source": [
        "tokenized_tweet.head()"
      ],
      "execution_count": 0,
      "outputs": [
        {
          "output_type": "execute_result",
          "data": {
            "text/plain": [
              "0    [when, father, dysfunctional, selfish, drags, ...\n",
              "1    [thanks, #lyft, credit, cause, they, offer, wh...\n",
              "2                              [bihday, your, majesty]\n",
              "3                     [#model, love, take, with, time]\n",
              "4                   [factsguide, society, #motivation]\n",
              "Name: Tidy_Tweets, dtype: object"
            ]
          },
          "metadata": {
            "tags": []
          },
          "execution_count": 17
        }
      ]
    },
    {
      "cell_type": "markdown",
      "metadata": {
        "id": "n7wzlvYdDlXS",
        "colab_type": "text"
      },
      "source": [
        "## Stemming \n",
        "Remove endings, keep roots:\n",
        "Politician, politics -> politic\n",
        "\n",
        "\n",
        "NOTA:\n",
        "\n",
        "**Stemming** and **Lemmatization** both generate the root form of the inflected words. \n",
        "\n",
        "The difference is that stem might not be an actual word whereas, lemma is an actual language word"
      ]
    },
    {
      "cell_type": "code",
      "metadata": {
        "id": "SI271loqDX_4",
        "colab_type": "code",
        "colab": {}
      },
      "source": [
        "from nltk import PorterStemmer\n",
        "\n",
        "ps = PorterStemmer()\n",
        "\n",
        "tokenized_tweet = tokenized_tweet.apply(lambda x: [ps.stem(i) for i in x])"
      ],
      "execution_count": 0,
      "outputs": []
    },
    {
      "cell_type": "code",
      "metadata": {
        "id": "FVQ8xH95Dg7a",
        "colab_type": "code",
        "outputId": "e2494c17-ac9a-41d9-c57e-74e7480f6526",
        "colab": {
          "base_uri": "https://localhost:8080/",
          "height": 118
        }
      },
      "source": [
        "tokenized_tweet.head()"
      ],
      "execution_count": 0,
      "outputs": [
        {
          "output_type": "execute_result",
          "data": {
            "text/plain": [
              "0    [when, father, dysfunct, selfish, drag, kid, i...\n",
              "1    [thank, #lyft, credit, caus, they, offer, whee...\n",
              "2                              [bihday, your, majesti]\n",
              "3                     [#model, love, take, with, time]\n",
              "4                         [factsguid, societi, #motiv]\n",
              "Name: Tidy_Tweets, dtype: object"
            ]
          },
          "metadata": {
            "tags": []
          },
          "execution_count": 19
        }
      ]
    },
    {
      "cell_type": "code",
      "metadata": {
        "id": "u64uthNJDoi-",
        "colab_type": "code",
        "colab": {}
      },
      "source": [
        "for i in range(len(tokenized_tweet)):\n",
        "    tokenized_tweet[i] = ' '.join(tokenized_tweet[i])"
      ],
      "execution_count": 0,
      "outputs": []
    },
    {
      "cell_type": "code",
      "metadata": {
        "id": "GFOUm3e8D9RX",
        "colab_type": "code",
        "outputId": "55fdd28f-d35e-4d29-c790-47ae7da2af60",
        "colab": {
          "base_uri": "https://localhost:8080/",
          "height": 118
        }
      },
      "source": [
        "tokenized_tweet.head()"
      ],
      "execution_count": 0,
      "outputs": [
        {
          "output_type": "execute_result",
          "data": {
            "text/plain": [
              "0    when father dysfunct selfish drag kid into dys...\n",
              "1    thank #lyft credit caus they offer wheelchair ...\n",
              "2                                  bihday your majesti\n",
              "3                           #model love take with time\n",
              "4                             factsguid societi #motiv\n",
              "Name: Tidy_Tweets, dtype: object"
            ]
          },
          "metadata": {
            "tags": []
          },
          "execution_count": 21
        }
      ]
    },
    {
      "cell_type": "code",
      "metadata": {
        "id": "_AMYwwqjD7ZP",
        "colab_type": "code",
        "colab": {}
      },
      "source": [
        "combine['Tidy_Tweets'] = tokenized_tweet"
      ],
      "execution_count": 0,
      "outputs": []
    },
    {
      "cell_type": "code",
      "metadata": {
        "id": "U6RTk-F-D84W",
        "colab_type": "code",
        "outputId": "22bde2cf-d90d-4bb6-837d-45b9cc6b2bee",
        "colab": {
          "base_uri": "https://localhost:8080/",
          "height": 195
        }
      },
      "source": [
        "combine.head()"
      ],
      "execution_count": 0,
      "outputs": [
        {
          "output_type": "execute_result",
          "data": {
            "text/html": [
              "<div>\n",
              "<style scoped>\n",
              "    .dataframe tbody tr th:only-of-type {\n",
              "        vertical-align: middle;\n",
              "    }\n",
              "\n",
              "    .dataframe tbody tr th {\n",
              "        vertical-align: top;\n",
              "    }\n",
              "\n",
              "    .dataframe thead th {\n",
              "        text-align: right;\n",
              "    }\n",
              "</style>\n",
              "<table border=\"1\" class=\"dataframe\">\n",
              "  <thead>\n",
              "    <tr style=\"text-align: right;\">\n",
              "      <th></th>\n",
              "      <th>id</th>\n",
              "      <th>label</th>\n",
              "      <th>tweet</th>\n",
              "      <th>Tidy_Tweets</th>\n",
              "    </tr>\n",
              "  </thead>\n",
              "  <tbody>\n",
              "    <tr>\n",
              "      <th>0</th>\n",
              "      <td>1</td>\n",
              "      <td>0.0</td>\n",
              "      <td>@user when a father is dysfunctional and is s...</td>\n",
              "      <td>when father dysfunct selfish drag kid into dys...</td>\n",
              "    </tr>\n",
              "    <tr>\n",
              "      <th>1</th>\n",
              "      <td>2</td>\n",
              "      <td>0.0</td>\n",
              "      <td>@user @user thanks for #lyft credit i can't us...</td>\n",
              "      <td>thank #lyft credit caus they offer wheelchair ...</td>\n",
              "    </tr>\n",
              "    <tr>\n",
              "      <th>2</th>\n",
              "      <td>3</td>\n",
              "      <td>0.0</td>\n",
              "      <td>bihday your majesty</td>\n",
              "      <td>bihday your majesti</td>\n",
              "    </tr>\n",
              "    <tr>\n",
              "      <th>3</th>\n",
              "      <td>4</td>\n",
              "      <td>0.0</td>\n",
              "      <td>#model   i love u take with u all the time in ...</td>\n",
              "      <td>#model love take with time</td>\n",
              "    </tr>\n",
              "    <tr>\n",
              "      <th>4</th>\n",
              "      <td>5</td>\n",
              "      <td>0.0</td>\n",
              "      <td>factsguide: society now    #motivation</td>\n",
              "      <td>factsguid societi #motiv</td>\n",
              "    </tr>\n",
              "  </tbody>\n",
              "</table>\n",
              "</div>"
            ],
            "text/plain": [
              "   id  ...                                        Tidy_Tweets\n",
              "0   1  ...  when father dysfunct selfish drag kid into dys...\n",
              "1   2  ...  thank #lyft credit caus they offer wheelchair ...\n",
              "2   3  ...                                bihday your majesti\n",
              "3   4  ...                         #model love take with time\n",
              "4   5  ...                           factsguid societi #motiv\n",
              "\n",
              "[5 rows x 4 columns]"
            ]
          },
          "metadata": {
            "tags": []
          },
          "execution_count": 23
        }
      ]
    },
    {
      "cell_type": "markdown",
      "metadata": {
        "id": "ZZcp-gphcZtc",
        "colab_type": "text"
      },
      "source": [
        "# Exploratory Data Analysis (EDA)"
      ]
    },
    {
      "cell_type": "markdown",
      "metadata": {
        "id": "86u6uakqE7S8",
        "colab_type": "text"
      },
      "source": [
        "## Hashtag analysis"
      ]
    },
    {
      "cell_type": "code",
      "metadata": {
        "id": "xqZUoAy1EAnP",
        "colab_type": "code",
        "colab": {}
      },
      "source": [
        "def Hashtags_Extract(x):\n",
        "    hashtags=[]\n",
        "    \n",
        "    # Loop over the words in the tweet\n",
        "    for i in x:\n",
        "        ht = re.findall(r'#(\\w+)',i)\n",
        "        hashtags.append(ht)\n",
        "    \n",
        "    return hashtags"
      ],
      "execution_count": 0,
      "outputs": []
    },
    {
      "cell_type": "code",
      "metadata": {
        "id": "6t67gH3OFAaU",
        "colab_type": "code",
        "colab": {}
      },
      "source": [
        "ht_positive = Hashtags_Extract(combine[combine['label']==0]['Tidy_Tweets'])"
      ],
      "execution_count": 0,
      "outputs": []
    },
    {
      "cell_type": "code",
      "metadata": {
        "id": "PTT0DrDqFLw5",
        "colab_type": "code",
        "colab": {}
      },
      "source": [
        "ht_negative = Hashtags_Extract(combine[combine['label']==1]['Tidy_Tweets'])"
      ],
      "execution_count": 0,
      "outputs": []
    },
    {
      "cell_type": "code",
      "metadata": {
        "id": "9ZCYuA_eFSCY",
        "colab_type": "code",
        "outputId": "cdbd7e20-d16f-47d4-b049-550212df3580",
        "colab": {
          "base_uri": "https://localhost:8080/",
          "height": 104
        }
      },
      "source": [
        "print('Positive\\n',ht_positive[:10],'\\nNegative\\n', ht_negative[:10])"
      ],
      "execution_count": 0,
      "outputs": [
        {
          "output_type": "stream",
          "text": [
            "Positive\n",
            " [['run'], ['lyft', 'disapoint', 'getthank'], [], ['model'], ['motiv'], ['allshowandnogo'], [], ['school', 'exam', 'hate', 'imagin', 'actorslif', 'revolutionschool', 'girl'], ['allin', 'cav', 'champion', 'cleveland', 'clevelandcavali'], []] \n",
            "Negative\n",
            " [['cnn', 'michigan', 'tcot'], ['australia', 'opkillingbay', 'seashepherd', 'helpcovedolphin', 'thecov', 'helpcovedolphin'], [], [], ['neverump', 'xenophobia'], ['love', 'peac'], [], ['race', 'ident', 'med'], ['altright', 'whitesupremaci'], ['linguist', 'race', 'power', 'raciolinguist']]\n"
          ],
          "name": "stdout"
        }
      ]
    },
    {
      "cell_type": "code",
      "metadata": {
        "id": "N0WmufOcFUUJ",
        "colab_type": "code",
        "colab": {}
      },
      "source": [
        "ht_positive_unnest = sum(ht_positive,[])\n",
        "ht_negative_unnest = sum(ht_negative,[])"
      ],
      "execution_count": 0,
      "outputs": []
    },
    {
      "cell_type": "code",
      "metadata": {
        "id": "jxPAAQdoGcfJ",
        "colab_type": "code",
        "outputId": "1ff140b0-bf46-44b3-e43d-d21bd654a2f5",
        "colab": {
          "base_uri": "https://localhost:8080/",
          "height": 84
        }
      },
      "source": [
        "print('Positive\\n',ht_positive_unnest[:10],'\\nNegative\\n', ht_negative_unnest[:10])"
      ],
      "execution_count": 0,
      "outputs": [
        {
          "output_type": "stream",
          "text": [
            "Positive\n",
            " ['run', 'lyft', 'disapoint', 'getthank', 'model', 'motiv', 'allshowandnogo', 'school', 'exam', 'hate'] \n",
            "Negative\n",
            " ['cnn', 'michigan', 'tcot', 'australia', 'opkillingbay', 'seashepherd', 'helpcovedolphin', 'thecov', 'helpcovedolphin', 'neverump']\n"
          ],
          "name": "stdout"
        }
      ]
    },
    {
      "cell_type": "code",
      "metadata": {
        "id": "wW-wHMLcGgGN",
        "colab_type": "code",
        "colab": {}
      },
      "source": [
        "# Words distributions\n",
        "word_freq_positive = nltk.FreqDist(ht_positive_unnest)\n",
        "word_freq_negative = nltk.FreqDist(ht_negative_unnest)"
      ],
      "execution_count": 0,
      "outputs": []
    },
    {
      "cell_type": "code",
      "metadata": {
        "id": "eI_zCrsmGynr",
        "colab_type": "code",
        "outputId": "72cae824-894d-4272-851e-634d7e7e9e8c",
        "colab": {
          "base_uri": "https://localhost:8080/",
          "height": 34
        }
      },
      "source": [
        "print(word_freq_positive)"
      ],
      "execution_count": 0,
      "outputs": [
        {
          "output_type": "stream",
          "text": [
            "<FreqDist with 19495 samples and 68425 outcomes>\n"
          ],
          "name": "stdout"
        }
      ]
    },
    {
      "cell_type": "code",
      "metadata": {
        "id": "D9Lx6mewG0TA",
        "colab_type": "code",
        "colab": {}
      },
      "source": [
        "df_positive = pd.DataFrame({'Hashtags':list(word_freq_positive.keys()),'Count':list(word_freq_positive.values())})\n",
        "df_negative = pd.DataFrame({'Hashtags':list(word_freq_negative.keys()),'Count':list(word_freq_negative.values())})"
      ],
      "execution_count": 0,
      "outputs": []
    },
    {
      "cell_type": "code",
      "metadata": {
        "id": "o3KF66DbHeNo",
        "colab_type": "code",
        "outputId": "b94db7f5-8cf8-4871-c843-cad067933da4",
        "colab": {
          "base_uri": "https://localhost:8080/",
          "height": 252
        }
      },
      "source": [
        "print(df_positive.head(),'\\n'*3 , df_negative.head())"
      ],
      "execution_count": 0,
      "outputs": [
        {
          "output_type": "stream",
          "text": [
            "    Hashtags  Count\n",
            "0        run     72\n",
            "1       lyft      2\n",
            "2  disapoint      1\n",
            "3   getthank      2\n",
            "4      model    375 \n",
            "\n",
            "\n",
            "        Hashtags  Count\n",
            "0           cnn     10\n",
            "1      michigan      2\n",
            "2          tcot     14\n",
            "3     australia      6\n",
            "4  opkillingbay      5\n"
          ],
          "name": "stdout"
        }
      ]
    },
    {
      "cell_type": "code",
      "metadata": {
        "id": "r8f1zrU6Hghf",
        "colab_type": "code",
        "colab": {}
      },
      "source": [
        "df_positive_plot = df_positive.nlargest(20,columns='Count')\n",
        "df_negative_plot = df_negative.nlargest(20,columns='Count')"
      ],
      "execution_count": 0,
      "outputs": []
    },
    {
      "cell_type": "code",
      "metadata": {
        "id": "4tOutehuHqcn",
        "colab_type": "code",
        "colab": {}
      },
      "source": [
        "# sns.barplot(data=df_positive_plot,y='Hashtags',x='Count')\n",
        "# sns.barplot(data=df_negative_plot,y='Hashtags',x='Count')\n",
        "# sns.despine()"
      ],
      "execution_count": 0,
      "outputs": []
    },
    {
      "cell_type": "code",
      "metadata": {
        "id": "3JmyA5FjYK_n",
        "colab_type": "code",
        "outputId": "ac411cc3-d87a-4d47-aab7-530932ab9293",
        "colab": {
          "base_uri": "https://localhost:8080/",
          "height": 390
        }
      },
      "source": [
        "ax = df_positive_plot.sort_values('Count').plot.barh(x='Hashtags', y='Count', figsize=(12,6), title='positive hashtags')"
      ],
      "execution_count": 0,
      "outputs": [
        {
          "output_type": "display_data",
          "data": {
            "image/png": "[encoded data removed]",
            "text/plain": [
              "<Figure size 864x432 with 1 Axes>"
            ]
          },
          "metadata": {
            "tags": [],
            "needs_background": "light"
          }
        }
      ]
    },
    {
      "cell_type": "code",
      "metadata": {
        "id": "IhgAizy4HuJb",
        "colab_type": "code",
        "outputId": "67f80780-1d87-4ce6-bd8d-6dd4243ef580",
        "colab": {
          "base_uri": "https://localhost:8080/",
          "height": 390
        }
      },
      "source": [
        "ax = df_negative_plot.sort_values('Count').plot.barh(x='Hashtags', y='Count', figsize=(12,6), title='negative hashtags')"
      ],
      "execution_count": 0,
      "outputs": [
        {
          "output_type": "display_data",
          "data": {
            "image/png": "[encoded data removed]",
            "text/plain": [
              "<Figure size 864x432 with 1 Axes>"
            ]
          },
          "metadata": {
            "tags": [],
            "needs_background": "light"
          }
        }
      ]
    },
    {
      "cell_type": "code",
      "metadata": {
        "id": "Z9OgtYi5IqSt",
        "colab_type": "code",
        "colab": {}
      },
      "source": [
        ""
      ],
      "execution_count": 0,
      "outputs": []
    },
    {
      "cell_type": "markdown",
      "metadata": {
        "id": "KBlRAbYYcKRk",
        "colab_type": "text"
      },
      "source": [
        "# Data preparation"
      ]
    },
    {
      "cell_type": "markdown",
      "metadata": {
        "id": "Ixfpw_eUJ-cZ",
        "colab_type": "text"
      },
      "source": [
        "## Tf-Idf features"
      ]
    },
    {
      "cell_type": "code",
      "metadata": {
        "id": "X-Cy5_y6KBff",
        "colab_type": "code",
        "colab": {}
      },
      "source": [
        "from sklearn.feature_extraction.text import TfidfVectorizer"
      ],
      "execution_count": 0,
      "outputs": []
    },
    {
      "cell_type": "code",
      "metadata": {
        "id": "-I0MXw-kKCAu",
        "colab_type": "code",
        "colab": {}
      },
      "source": [
        "# max_df = 0.7 # Removes terms with DF higher than the 70% of the documents\n",
        "# min_df = 5 # Terms must have DF >= 5 to be considered\n",
        "\n",
        "tfidf=TfidfVectorizer(max_df=0.5, min_df=0, max_features=1000, stop_words='english')\n",
        "tfidf_matrix=tfidf.fit_transform(combine['Tidy_Tweets'])"
      ],
      "execution_count": 0,
      "outputs": []
    },
    {
      "cell_type": "code",
      "metadata": {
        "id": "603hBq0SKCDa",
        "colab_type": "code",
        "colab": {}
      },
      "source": [
        "df_tfidf = pd.DataFrame(tfidf_matrix.todense())"
      ],
      "execution_count": 0,
      "outputs": []
    },
    {
      "cell_type": "code",
      "metadata": {
        "id": "-nuksEbCKCFs",
        "colab_type": "code",
        "outputId": "00872b8f-37ca-4c88-da91-85f572f9c501",
        "colab": {
          "base_uri": "https://localhost:8080/",
          "height": 168
        }
      },
      "source": [
        "df_tfidf.shape, df_tfidf.head()"
      ],
      "execution_count": 0,
      "outputs": [
        {
          "output_type": "execute_result",
          "data": {
            "text/plain": [
              "((49159, 1000),\n",
              "    0    1    2    3    4    5    6    ...  993  994  995  996  997  998  999\n",
              " 0  0.0  0.0  0.0  0.0  0.0  0.0  0.0  ...  0.0  0.0  0.0  0.0  0.0  0.0  0.0\n",
              " 1  0.0  0.0  0.0  0.0  0.0  0.0  0.0  ...  0.0  0.0  0.0  0.0  0.0  0.0  0.0\n",
              " 2  0.0  0.0  0.0  0.0  0.0  0.0  0.0  ...  0.0  0.0  0.0  0.0  0.0  0.0  0.0\n",
              " 3  0.0  0.0  0.0  0.0  0.0  0.0  0.0  ...  0.0  0.0  0.0  0.0  0.0  0.0  0.0\n",
              " 4  0.0  0.0  0.0  0.0  0.0  0.0  0.0  ...  0.0  0.0  0.0  0.0  0.0  0.0  0.0\n",
              " \n",
              " [5 rows x 1000 columns])"
            ]
          },
          "metadata": {
            "tags": []
          },
          "execution_count": 136
        }
      ]
    },
    {
      "cell_type": "code",
      "metadata": {
        "id": "2-Bk-xEZ1AmZ",
        "colab_type": "code",
        "colab": {}
      },
      "source": [
        "zero_rows = df_tfidf.sum(axis=1)"
      ],
      "execution_count": 0,
      "outputs": []
    },
    {
      "cell_type": "code",
      "metadata": {
        "id": "oTpXfNzA1NZY",
        "colab_type": "code",
        "outputId": "f2de0d02-d7f2-41db-e57d-5762f517110c",
        "colab": {
          "base_uri": "https://localhost:8080/",
          "height": 118
        }
      },
      "source": [
        "zero_rows.head()"
      ],
      "execution_count": 0,
      "outputs": [
        {
          "output_type": "execute_result",
          "data": {
            "text/plain": [
              "0    1.716102\n",
              "1    1.691925\n",
              "2    1.000000\n",
              "3    1.701505\n",
              "4    1.000000\n",
              "dtype: float64"
            ]
          },
          "metadata": {
            "tags": []
          },
          "execution_count": 138
        }
      ]
    },
    {
      "cell_type": "code",
      "metadata": {
        "id": "BetCkAUn1kra",
        "colab_type": "code",
        "colab": {}
      },
      "source": [
        "# delete rows with all zeros\n",
        "df_tfidf = df_tfidf[zero_rows>0]"
      ],
      "execution_count": 0,
      "outputs": []
    },
    {
      "cell_type": "code",
      "metadata": {
        "id": "kTHtwZ4T1ROr",
        "colab_type": "code",
        "outputId": "20b95194-707d-4ad9-e916-d442c839565b",
        "colab": {
          "base_uri": "https://localhost:8080/",
          "height": 34
        }
      },
      "source": [
        "df_tfidf.shape"
      ],
      "execution_count": 0,
      "outputs": [
        {
          "output_type": "execute_result",
          "data": {
            "text/plain": [
              "(47634, 1000)"
            ]
          },
          "metadata": {
            "tags": []
          },
          "execution_count": 140
        }
      ]
    },
    {
      "cell_type": "code",
      "metadata": {
        "id": "AyiVvfla1RSU",
        "colab_type": "code",
        "colab": {}
      },
      "source": [
        ""
      ],
      "execution_count": 0,
      "outputs": []
    },
    {
      "cell_type": "code",
      "metadata": {
        "id": "LfWva5vo1RQ9",
        "colab_type": "code",
        "colab": {}
      },
      "source": [
        "unbalanced_class = train.groupby(['label']).count()['id'].values"
      ],
      "execution_count": 0,
      "outputs": []
    },
    {
      "cell_type": "code",
      "metadata": {
        "id": "A1j9vNYx53QS",
        "colab_type": "code",
        "colab": {}
      },
      "source": [
        "unbalanced_weigth = np.max(unbalanced_class)/unbalanced_class"
      ],
      "execution_count": 0,
      "outputs": []
    },
    {
      "cell_type": "code",
      "metadata": {
        "id": "gBFeCoxn92RL",
        "colab_type": "code",
        "colab": {}
      },
      "source": [
        "weight_dict = {}\n",
        "for idx,val in enumerate(unbalanced_weigth):\n",
        "  weight_dict[idx] = val*1**idx"
      ],
      "execution_count": 0,
      "outputs": []
    },
    {
      "cell_type": "code",
      "metadata": {
        "id": "HomqBGWrKCHu",
        "colab_type": "code",
        "outputId": "92e1ba4d-8be3-431f-81a7-1309d4d931c4",
        "colab": {
          "base_uri": "https://localhost:8080/",
          "height": 134
        }
      },
      "source": [
        "train_tfidf_matrix = tfidf_matrix[:31962]\n",
        "\n",
        "train_tfidf_matrix.todense()"
      ],
      "execution_count": 0,
      "outputs": [
        {
          "output_type": "execute_result",
          "data": {
            "text/plain": [
              "matrix([[0., 0., 0., ..., 0., 0., 0.],\n",
              "        [0., 0., 0., ..., 0., 0., 0.],\n",
              "        [0., 0., 0., ..., 0., 0., 0.],\n",
              "        ...,\n",
              "        [0., 0., 0., ..., 0., 0., 0.],\n",
              "        [0., 0., 0., ..., 0., 0., 0.],\n",
              "        [0., 0., 0., ..., 0., 0., 0.]])"
            ]
          },
          "metadata": {
            "tags": []
          },
          "execution_count": 242
        }
      ]
    },
    {
      "cell_type": "markdown",
      "metadata": {
        "id": "w63fb47uMRRG",
        "colab_type": "text"
      },
      "source": [
        "# Modeling"
      ]
    },
    {
      "cell_type": "markdown",
      "metadata": {
        "id": "tdKyOg2MMJpP",
        "colab_type": "text"
      },
      "source": [
        "## Train-Test Split"
      ]
    },
    {
      "cell_type": "code",
      "metadata": {
        "id": "T0Y4fcaDLuXT",
        "colab_type": "code",
        "colab": {}
      },
      "source": [
        "from sklearn.model_selection import train_test_split"
      ],
      "execution_count": 0,
      "outputs": []
    },
    {
      "cell_type": "code",
      "metadata": {
        "id": "PNRxnHccLi5P",
        "colab_type": "code",
        "colab": {}
      },
      "source": [
        "x_train_tfidf, x_valid_tfidf, y_train_tfidf, y_valid_tfidf = train_test_split(train_tfidf_matrix, train['label'], test_size=0.3, random_state=17)"
      ],
      "execution_count": 0,
      "outputs": []
    },
    {
      "cell_type": "markdown",
      "metadata": {
        "id": "97ljEW5SML6q",
        "colab_type": "text"
      },
      "source": [
        "## Model Selection"
      ]
    },
    {
      "cell_type": "code",
      "metadata": {
        "id": "aVSk7j6sLr4I",
        "colab_type": "code",
        "colab": {}
      },
      "source": [
        "from sklearn.linear_model import LogisticRegression"
      ],
      "execution_count": 0,
      "outputs": []
    },
    {
      "cell_type": "code",
      "metadata": {
        "id": "s-iUuvu8Ns5f",
        "colab_type": "code",
        "colab": {}
      },
      "source": [
        "Log_Reg = LogisticRegression(random_state=0, solver='lbfgs', max_iter = 1000, class_weight=weight_dict)"
      ],
      "execution_count": 0,
      "outputs": []
    },
    {
      "cell_type": "code",
      "metadata": {
        "id": "EBOTUH5-Nxzw",
        "colab_type": "code",
        "outputId": "5ad24400-8393-440e-aa80-52a34f52a83b",
        "colab": {
          "base_uri": "https://localhost:8080/",
          "height": 101
        }
      },
      "source": [
        "Log_Reg.fit(x_train_tfidf,y_train_tfidf)"
      ],
      "execution_count": 0,
      "outputs": [
        {
          "output_type": "execute_result",
          "data": {
            "text/plain": [
              "LogisticRegression(C=1.0, class_weight={0: 1.0, 1: 13.256021409455842},\n",
              "                   dual=False, fit_intercept=True, intercept_scaling=1,\n",
              "                   l1_ratio=None, max_iter=1000, multi_class='auto',\n",
              "                   n_jobs=None, penalty='l2', random_state=0, solver='lbfgs',\n",
              "                   tol=0.0001, verbose=0, warm_start=False)"
            ]
          },
          "metadata": {
            "tags": []
          },
          "execution_count": 247
        }
      ]
    },
    {
      "cell_type": "markdown",
      "metadata": {
        "id": "XqcLVK-PMYS7",
        "colab_type": "text"
      },
      "source": [
        "## Evaluation"
      ]
    },
    {
      "cell_type": "code",
      "metadata": {
        "id": "YuZYdDGdMgH3",
        "colab_type": "code",
        "colab": {}
      },
      "source": [
        "from sklearn.metrics import roc_auc_score, roc_curve, f1_score, confusion_matrix"
      ],
      "execution_count": 0,
      "outputs": []
    },
    {
      "cell_type": "markdown",
      "metadata": {
        "id": "xucGS_59Maov",
        "colab_type": "text"
      },
      "source": [
        "### Train"
      ]
    },
    {
      "cell_type": "code",
      "metadata": {
        "id": "PvsI0LUqLSwc",
        "colab_type": "code",
        "colab": {}
      },
      "source": [
        "y_train_prediction_prob = Log_Reg.predict_proba(x_train_tfidf)"
      ],
      "execution_count": 0,
      "outputs": []
    },
    {
      "cell_type": "code",
      "metadata": {
        "id": "-bFWTNehj73A",
        "colab_type": "code",
        "outputId": "7b1facd5-34dd-46a6-f0e4-950e9c20eab9",
        "colab": {
          "base_uri": "https://localhost:8080/",
          "height": 134
        }
      },
      "source": [
        "y_train_prediction_prob"
      ],
      "execution_count": 0,
      "outputs": [
        {
          "output_type": "execute_result",
          "data": {
            "text/plain": [
              "array([[0.79563685, 0.20436315],\n",
              "       [0.98410805, 0.01589195],\n",
              "       [0.44362697, 0.55637303],\n",
              "       ...,\n",
              "       [0.97567964, 0.02432036],\n",
              "       [0.75350157, 0.24649843],\n",
              "       [0.9558682 , 0.0441318 ]])"
            ]
          },
          "metadata": {
            "tags": []
          },
          "execution_count": 345
        }
      ]
    },
    {
      "cell_type": "code",
      "metadata": {
        "id": "XTuuCh2XOl9W",
        "colab_type": "code",
        "outputId": "3630ab8c-3df4-48a2-d68e-3b09d5628247",
        "colab": {
          "base_uri": "https://localhost:8080/",
          "height": 34
        }
      },
      "source": [
        "y_train_prediction_prob.shape, y_train_tfidf.shape"
      ],
      "execution_count": 0,
      "outputs": [
        {
          "output_type": "execute_result",
          "data": {
            "text/plain": [
              "((22373, 2), (22373,))"
            ]
          },
          "metadata": {
            "tags": []
          },
          "execution_count": 286
        }
      ]
    },
    {
      "cell_type": "code",
      "metadata": {
        "id": "BcKg2IaEOgu4",
        "colab_type": "code",
        "colab": {}
      },
      "source": [
        "y_train_prediction = Log_Reg.predict(x_train_tfidf)"
      ],
      "execution_count": 0,
      "outputs": []
    },
    {
      "cell_type": "code",
      "metadata": {
        "id": "MhHdm-wh7Jet",
        "colab_type": "code",
        "outputId": "2c9563c2-8f0b-4e4a-cfef-1e4681ecdfd7",
        "colab": {
          "base_uri": "https://localhost:8080/",
          "height": 50
        }
      },
      "source": [
        "confusion_matrix(y_train_tfidf, y_train_prediction, labels=None, sample_weight=None, normalize=None)"
      ],
      "execution_count": 0,
      "outputs": [
        {
          "output_type": "execute_result",
          "data": {
            "text/plain": [
              "array([[18305,  2474],\n",
              "       [  177,  1417]])"
            ]
          },
          "metadata": {
            "tags": []
          },
          "execution_count": 249
        }
      ]
    },
    {
      "cell_type": "code",
      "metadata": {
        "id": "Ud1ayXtF7TU9",
        "colab_type": "code",
        "colab": {}
      },
      "source": [
        "f1_train = f1_score(y_train_tfidf, y_train_prediction, pos_label=1)"
      ],
      "execution_count": 0,
      "outputs": []
    },
    {
      "cell_type": "code",
      "metadata": {
        "id": "qfHDwN2v7aDR",
        "colab_type": "code",
        "outputId": "8d7e98af-6c11-455a-9ef7-3d5f39eaabb8",
        "colab": {
          "base_uri": "https://localhost:8080/",
          "height": 34
        }
      },
      "source": [
        "f1_train"
      ],
      "execution_count": 0,
      "outputs": [
        {
          "output_type": "execute_result",
          "data": {
            "text/plain": [
              "0.5166818596171378"
            ]
          },
          "metadata": {
            "tags": []
          },
          "execution_count": 258
        }
      ]
    },
    {
      "cell_type": "code",
      "metadata": {
        "id": "cNqF7W6GNU0r",
        "colab_type": "code",
        "colab": {}
      },
      "source": [
        "pos_label_idx = 1\n",
        "fpr, tpr, thresholds = roc_curve(y_train_tfidf, y_train_prediction_prob[:,pos_label_idx], pos_label=pos_label_idx, drop_intermediate = True)"
      ],
      "execution_count": 0,
      "outputs": []
    },
    {
      "cell_type": "code",
      "metadata": {
        "id": "KlSqoi3lO6UZ",
        "colab_type": "code",
        "colab": {}
      },
      "source": [
        "def calculate_optimal_threshold(x_val,y_val,thresholds):\n",
        "\n",
        "  min_dist = 100\n",
        "  for x,y,t in zip(x_val,y_val,thresholds):\n",
        "\n",
        "      square_dist = (0-x)**2+(1-y)**2\n",
        "\n",
        "      if square_dist<min_dist:\n",
        "\n",
        "        min_dist = square_dist\n",
        "        best_x = x\n",
        "        best_y = y\n",
        "        best_t = t\n",
        "\n",
        "  return (best_x, best_y, best_t)"
      ],
      "execution_count": 0,
      "outputs": []
    },
    {
      "cell_type": "code",
      "metadata": {
        "id": "aIIqHKO7RQ3m",
        "colab_type": "code",
        "outputId": "e29fa3c6-b9c5-432b-8433-b8dd28ad2d9c",
        "colab": {
          "base_uri": "https://localhost:8080/",
          "height": 34
        }
      },
      "source": [
        "best_fpr, best_tpr, best_threshold = calculate_optimal_threshold(fpr, tpr, thresholds)\n",
        "best_fpr, best_tpr, best_threshold"
      ],
      "execution_count": 0,
      "outputs": [
        {
          "output_type": "execute_result",
          "data": {
            "text/plain": [
              "(0.12055440589056259, 0.8927227101631117, 0.494538422015773)"
            ]
          },
          "metadata": {
            "tags": []
          },
          "execution_count": 332
        }
      ]
    },
    {
      "cell_type": "code",
      "metadata": {
        "id": "MC80y-zJNbrI",
        "colab_type": "code",
        "outputId": "d2ed5f95-a21f-4f73-8ca2-4eb7d69abe12",
        "colab": {
          "base_uri": "https://localhost:8080/",
          "height": 405
        }
      },
      "source": [
        "plt.figure(figsize=(7,6))\n",
        "plt.plot(fpr,tpr,'-r', [0,1],[0,1],'--', best_fpr, best_tpr,'o', markersize=12)\n",
        "plt.title('Roc curve @ '+str(best_threshold))\n",
        "plt.xlabel('false_positive_rate')\n",
        "plt.ylabel('true_positive_rate')\n",
        "plt.show()"
      ],
      "execution_count": 0,
      "outputs": [
        {
          "output_type": "display_data",
          "data": {
            "image/png": "[encoded data removed]",
            "text/plain": [
              "<Figure size 504x432 with 1 Axes>"
            ]
          },
          "metadata": {
            "tags": [],
            "needs_background": "light"
          }
        }
      ]
    },
    {
      "cell_type": "code",
      "metadata": {
        "id": "0nhJbPagUjdw",
        "colab_type": "code",
        "colab": {}
      },
      "source": [
        "if pos_label_idx == 0:\n",
        "  y_train_prediction = y_train_prediction_prob[:,pos_label_idx]<best_threshold\n",
        "elif pos_label_idx == 1:\n",
        "  y_train_prediction = y_train_prediction_prob[:,pos_label_idx]>best_threshold\n",
        "else:\n",
        "  print('check pos_label_idx')"
      ],
      "execution_count": 0,
      "outputs": []
    },
    {
      "cell_type": "code",
      "metadata": {
        "id": "Yi9f7VW2UjY7",
        "colab_type": "code",
        "outputId": "646f1900-ec5b-4b8e-9f97-47aae06cc056",
        "colab": {
          "base_uri": "https://localhost:8080/",
          "height": 50
        }
      },
      "source": [
        "# Improvemenets with selected best threshold\n",
        "confusion_matrix(y_train_tfidf, y_train_prediction, labels=None, sample_weight=None, normalize=None)"
      ],
      "execution_count": 0,
      "outputs": [
        {
          "output_type": "execute_result",
          "data": {
            "text/plain": [
              "array([[18274,  2505],\n",
              "       [  171,  1423]])"
            ]
          },
          "metadata": {
            "tags": []
          },
          "execution_count": 329
        }
      ]
    },
    {
      "cell_type": "markdown",
      "metadata": {
        "id": "KbGLCTMLXxSw",
        "colab_type": "text"
      },
      "source": [
        "**Nota bene**: le due curve ottenute cambiando *pos_label_idx* sono perfettamente speculari e cambiando la label e, ricalcolando il valore della soglia, alla matrice di confusione non cambia assolutamente nulla."
      ]
    },
    {
      "cell_type": "markdown",
      "metadata": {
        "id": "6xDh86ROMc0q",
        "colab_type": "text"
      },
      "source": [
        "### Validation"
      ]
    },
    {
      "cell_type": "code",
      "metadata": {
        "id": "rDUFPJpqNyPI",
        "colab_type": "code",
        "colab": {}
      },
      "source": [
        "y_valid_prediction = Log_Reg.predict_proba(x_valid_tfidf)"
      ],
      "execution_count": 0,
      "outputs": []
    },
    {
      "cell_type": "code",
      "metadata": {
        "id": "FCkGEPwwL2dW",
        "colab_type": "code",
        "outputId": "c01553b2-6b4d-434a-928c-d578b311f6c3",
        "colab": {
          "base_uri": "https://localhost:8080/",
          "height": 134
        }
      },
      "source": [
        "y_valid_prediction"
      ],
      "execution_count": 0,
      "outputs": [
        {
          "output_type": "execute_result",
          "data": {
            "text/plain": [
              "array([[0.92313681, 0.07686319],\n",
              "       [0.95172395, 0.04827605],\n",
              "       [0.56145761, 0.43854239],\n",
              "       ...,\n",
              "       [0.96833014, 0.03166986],\n",
              "       [0.81779782, 0.18220218],\n",
              "       [0.99151575, 0.00848425]])"
            ]
          },
          "metadata": {
            "tags": []
          },
          "execution_count": 255
        }
      ]
    },
    {
      "cell_type": "code",
      "metadata": {
        "id": "Qrvig-3xN8VF",
        "colab_type": "code",
        "colab": {}
      },
      "source": [
        ""
      ],
      "execution_count": 0,
      "outputs": []
    },
    {
      "cell_type": "code",
      "metadata": {
        "id": "3FSSDhEQN1hi",
        "colab_type": "code",
        "outputId": "d3f598d8-9f95-4e66-d588-ac14aa587c94",
        "colab": {
          "base_uri": "https://localhost:8080/",
          "height": 34
        }
      },
      "source": [
        "y_valid_prediction = y_valid_prediction[:,1]>=0.5\n",
        "\n",
        "y_valid_prediction = y_valid_prediction.astype(np.int)\n",
        "y_valid_prediction\n",
        "\n",
        "# calculating f1 score\n",
        "f1_valid = f1_score(y_valid_tfidf, y_valid_prediction)\n",
        "\n",
        "f1_valid"
      ],
      "execution_count": 0,
      "outputs": [
        {
          "output_type": "execute_result",
          "data": {
            "text/plain": [
              "0.4365957446808511"
            ]
          },
          "metadata": {
            "tags": []
          },
          "execution_count": 256
        }
      ]
    },
    {
      "cell_type": "code",
      "metadata": {
        "id": "cwP-3cAO46z6",
        "colab_type": "code",
        "colab": {}
      },
      "source": [
        ""
      ],
      "execution_count": 0,
      "outputs": []
    },
    {
      "cell_type": "code",
      "metadata": {
        "id": "zpGB4jQDMHZG",
        "colab_type": "code",
        "colab": {}
      },
      "source": [
        ""
      ],
      "execution_count": 0,
      "outputs": []
    },
    {
      "cell_type": "code",
      "metadata": {
        "id": "Dftqg7OXMHbx",
        "colab_type": "code",
        "colab": {}
      },
      "source": [
        ""
      ],
      "execution_count": 0,
      "outputs": []
    },
    {
      "cell_type": "code",
      "metadata": {
        "id": "yn5zxEqrKg_p",
        "colab_type": "code",
        "colab": {}
      },
      "source": [
        ""
      ],
      "execution_count": 0,
      "outputs": []
    },
    {
      "cell_type": "code",
      "metadata": {
        "id": "iU6m-5v0KhD4",
        "colab_type": "code",
        "outputId": "9b6ff65b-49dd-49c3-ca33-f8bab85154bf",
        "colab": {
          "base_uri": "https://localhost:8080/",
          "height": 34
        }
      },
      "source": [
        "roc_auc_score(y_valid_tfidf, prediction_int, average='macro', sample_weight=None, max_fpr=None, multi_class='raise', labels=None)"
      ],
      "execution_count": 0,
      "outputs": [
        {
          "output_type": "execute_result",
          "data": {
            "text/plain": [
              "0.8255397868882565"
            ]
          },
          "metadata": {
            "tags": []
          },
          "execution_count": 234
        }
      ]
    },
    {
      "cell_type": "code",
      "metadata": {
        "id": "YjKmJvldKhCV",
        "colab_type": "code",
        "colab": {}
      },
      "source": [
        "fpr, tpr, thresholds = roc_curve(y_test, y_pred, pos_label=1, drop_intermediate = True)"
      ],
      "execution_count": 0,
      "outputs": []
    },
    {
      "cell_type": "code",
      "metadata": {
        "id": "IMbpLYtEKg8-",
        "colab_type": "code",
        "colab": {}
      },
      "source": [
        ""
      ],
      "execution_count": 0,
      "outputs": []
    },
    {
      "cell_type": "code",
      "metadata": {
        "id": "dF-8SRKB464R",
        "colab_type": "code",
        "colab": {}
      },
      "source": [
        ""
      ],
      "execution_count": 0,
      "outputs": []
    },
    {
      "cell_type": "code",
      "metadata": {
        "id": "CGVLbfGP4665",
        "colab_type": "code",
        "outputId": "dba19916-4197-40d2-ef29-d0f1d7daf684",
        "colab": {
          "base_uri": "https://localhost:8080/",
          "height": 50
        }
      },
      "source": [
        "confusion_matrix(y_valid_tfidf, prediction_int, labels=None, sample_weight=None, normalize=None)"
      ],
      "execution_count": 0,
      "outputs": [
        {
          "output_type": "execute_result",
          "data": {
            "text/plain": [
              "array([[7753, 1188],\n",
              "       [ 140,  508]])"
            ]
          },
          "metadata": {
            "tags": []
          },
          "execution_count": 199
        }
      ]
    },
    {
      "cell_type": "code",
      "metadata": {
        "id": "a3iE2vRW462u",
        "colab_type": "code",
        "colab": {}
      },
      "source": [
        ""
      ],
      "execution_count": 0,
      "outputs": []
    },
    {
      "cell_type": "code",
      "metadata": {
        "id": "nfVa_PfgN4i-",
        "colab_type": "code",
        "colab": {}
      },
      "source": [
        "test_tfidf = tfidf_matrix[31962:]"
      ],
      "execution_count": 0,
      "outputs": []
    },
    {
      "cell_type": "code",
      "metadata": {
        "id": "7f9fqpfzOM58",
        "colab_type": "code",
        "colab": {}
      },
      "source": [
        "test_pred = Log_Reg.predict_proba(test_tfidf)\n",
        "\n",
        "test_pred_int = test_pred[:,1] >= 0.3\n",
        "\n",
        "test_pred_int = test_pred_int.astype(np.int)\n",
        "\n",
        "test['label'] = test_pred_int"
      ],
      "execution_count": 0,
      "outputs": []
    },
    {
      "cell_type": "code",
      "metadata": {
        "id": "iRK5qrnnOP_7",
        "colab_type": "code",
        "colab": {}
      },
      "source": [
        "submission = test[['id','label']]\n",
        "\n",
        "submission.to_csv('result.csv', index=False)\n",
        "\n",
        "res = pd.read_csv('result.csv')"
      ],
      "execution_count": 0,
      "outputs": []
    },
    {
      "cell_type": "code",
      "metadata": {
        "id": "hpSuNWdiOSPn",
        "colab_type": "code",
        "colab": {}
      },
      "source": [
        ""
      ],
      "execution_count": 0,
      "outputs": []
    }
  ]
}