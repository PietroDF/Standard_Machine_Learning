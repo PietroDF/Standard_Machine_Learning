{
  "nbformat": 4,
  "nbformat_minor": 0,
  "metadata": {
    "colab": {
      "name": "Semi-Supervised_Learning.ipynb",
      "provenance": [],
      "toc_visible": true,
      "authorship_tag": "ABX9TyNXncoG3G+zWwEDysawgI7d",
      "include_colab_link": true
    },
    "kernelspec": {
      "name": "python3",
      "display_name": "Python 3"
    }
  },
  "cells": [
    {
      "cell_type": "markdown",
      "metadata": {
        "id": "view-in-github",
        "colab_type": "text"
      },
      "source": [
        "<a href=\"https://colab.research.google.com/github/PietroDF/Standard_Machine_Learning/blob/master/Semi_Supervised_Learning.ipynb\" target=\"_parent\"><img src=\"https://colab.research.google.com/assets/colab-badge.svg\" alt=\"Open In Colab\"/></a>"
      ]
    },
    {
      "cell_type": "markdown",
      "metadata": {
        "id": "ihEJ17B6oi9R",
        "colab_type": "text"
      },
      "source": [
        "# Semi-Supervised Learning"
      ]
    },
    {
      "cell_type": "markdown",
      "metadata": {
        "id": "SgnjvdrnoqPz",
        "colab_type": "text"
      },
      "source": [
        "Inspiring tutorial @ https://scikit-learn.org/stable/modules/label_propagation.html"
      ]
    },
    {
      "cell_type": "markdown",
      "metadata": {
        "id": "taxWYWn7ov35",
        "colab_type": "text"
      },
      "source": [
        "## Esempio n.1"
      ]
    },
    {
      "cell_type": "code",
      "metadata": {
        "id": "oEi0Ctns8h3b",
        "colab_type": "code",
        "outputId": "e5d1f695-3b6f-4436-d86a-621343e0ae5f",
        "colab": {
          "base_uri": "https://localhost:8080/",
          "height": 34
        }
      },
      "source": [
        "print(__doc__)\n",
        "\n",
        "# Authors: Clay Woolam <clay@woolam.org>\n",
        "# License: BSD"
      ],
      "execution_count": 0,
      "outputs": [
        {
          "output_type": "stream",
          "text": [
            "Automatically created module for IPython interactive environment\n"
          ],
          "name": "stdout"
        }
      ]
    },
    {
      "cell_type": "code",
      "metadata": {
        "id": "Z7xRtN1n8joi",
        "colab_type": "code",
        "colab": {}
      },
      "source": [
        "import numpy as np\n",
        "import matplotlib.pyplot as plt\n",
        "from sklearn import datasets\n",
        "from sklearn import svm\n",
        "from sklearn.semi_supervised import LabelSpreading"
      ],
      "execution_count": 0,
      "outputs": []
    },
    {
      "cell_type": "code",
      "metadata": {
        "id": "HUhdYLc69Vf7",
        "colab_type": "code",
        "colab": {}
      },
      "source": [
        "rng = np.random.RandomState(0)"
      ],
      "execution_count": 0,
      "outputs": []
    },
    {
      "cell_type": "code",
      "metadata": {
        "id": "GTHxoVof8nB6",
        "colab_type": "code",
        "colab": {}
      },
      "source": [
        "iris = datasets.load_iris()\n",
        "\n",
        "X = iris.data[:, :2]\n",
        "y = iris.target"
      ],
      "execution_count": 0,
      "outputs": []
    },
    {
      "cell_type": "code",
      "metadata": {
        "id": "WxVvyKWB9gJR",
        "colab_type": "code",
        "colab": {}
      },
      "source": [
        ""
      ],
      "execution_count": 0,
      "outputs": []
    },
    {
      "cell_type": "code",
      "metadata": {
        "id": "9hfTOZ-48wyg",
        "colab_type": "code",
        "colab": {}
      },
      "source": [
        "y_30 = np.copy(y)\n",
        "y_30[rng.rand(len(y)) < 0.3] = -1\n",
        "y_50 = np.copy(y)\n",
        "y_50[rng.rand(len(y)) < 0.5] = -1"
      ],
      "execution_count": 0,
      "outputs": []
    },
    {
      "cell_type": "code",
      "metadata": {
        "id": "AIz10gMo9qsa",
        "colab_type": "code",
        "colab": {}
      },
      "source": [
        "y"
      ],
      "execution_count": 0,
      "outputs": []
    },
    {
      "cell_type": "code",
      "metadata": {
        "id": "0sd7w7NY8x4w",
        "colab_type": "code",
        "colab": {}
      },
      "source": [
        "# we create an instance of SVM and fit out data. We do not scale our\n",
        "# data since we want to plot the support vectors\n",
        "ls30 = (LabelSpreading().fit(X, y_30), y_30)\n",
        "ls50 = (LabelSpreading().fit(X, y_50), y_50)\n",
        "ls100 = (LabelSpreading().fit(X, y), y)\n"
      ],
      "execution_count": 0,
      "outputs": []
    },
    {
      "cell_type": "code",
      "metadata": {
        "id": "xO_MSB0D958i",
        "colab_type": "code",
        "outputId": "40e227c3-5599-4f4c-90af-cd683d1d1f33",
        "colab": {
          "base_uri": "https://localhost:8080/",
          "height": 202
        }
      },
      "source": [
        "ls30"
      ],
      "execution_count": 0,
      "outputs": [
        {
          "output_type": "execute_result",
          "data": {
            "text/plain": [
              "(LabelSpreading(alpha=0.2, gamma=20, kernel='rbf', max_iter=30, n_jobs=None,\n",
              "                n_neighbors=7, tol=0.001),\n",
              " array([ 0,  0,  0,  0,  0,  0,  0,  0,  0,  0,  0,  0,  0,  0, -1, -1, -1,\n",
              "         0,  0,  0,  0,  0,  0,  0, -1,  0, -1,  0,  0,  0, -1,  0,  0,  0,\n",
              "        -1,  0,  0,  0,  0,  0,  0,  0,  0, -1,  0,  0, -1, -1,  0,  0,  1,\n",
              "         1,  1, -1, -1, -1,  1, -1,  1, -1, -1, -1,  1, -1, -1,  1,  1, -1,\n",
              "         1, -1,  1,  1,  1,  1,  1, -1, -1, -1, -1, -1,  1,  1, -1,  1,  1,\n",
              "        -1,  1, -1,  1,  1,  1,  1, -1,  1, -1, -1,  1, -1,  1, -1,  2, -1,\n",
              "         2,  2, -1,  2,  2,  2, -1,  2,  2,  2,  2, -1,  2,  2,  2,  2,  2,\n",
              "         2,  2,  2,  2,  2,  2,  2, -1,  2,  2, -1,  2,  2, -1, -1,  2,  2,\n",
              "         2,  2,  2,  2,  2,  2,  2,  2,  2,  2, -1,  2,  2,  2]))"
            ]
          },
          "metadata": {
            "tags": []
          },
          "execution_count": 12
        }
      ]
    },
    {
      "cell_type": "code",
      "metadata": {
        "id": "yVqCNjaf81G7",
        "colab_type": "code",
        "colab": {}
      },
      "source": [
        "rbf_svc = (svm.SVC(kernel='rbf', gamma=.5).fit(X, y), y)"
      ],
      "execution_count": 0,
      "outputs": []
    },
    {
      "cell_type": "code",
      "metadata": {
        "id": "WZ41-jRy-D2p",
        "colab_type": "code",
        "outputId": "53e59798-c830-4013-970a-b4e11c56192f",
        "colab": {
          "base_uri": "https://localhost:8080/",
          "height": 202
        }
      },
      "source": [
        "rbf_svc"
      ],
      "execution_count": 0,
      "outputs": [
        {
          "output_type": "execute_result",
          "data": {
            "text/plain": [
              "(SVC(C=1.0, break_ties=False, cache_size=200, class_weight=None, coef0=0.0,\n",
              "     decision_function_shape='ovr', degree=3, gamma=0.5, kernel='rbf',\n",
              "     max_iter=-1, probability=False, random_state=None, shrinking=True,\n",
              "     tol=0.001, verbose=False),\n",
              " array([0, 0, 0, 0, 0, 0, 0, 0, 0, 0, 0, 0, 0, 0, 0, 0, 0, 0, 0, 0, 0, 0,\n",
              "        0, 0, 0, 0, 0, 0, 0, 0, 0, 0, 0, 0, 0, 0, 0, 0, 0, 0, 0, 0, 0, 0,\n",
              "        0, 0, 0, 0, 0, 0, 1, 1, 1, 1, 1, 1, 1, 1, 1, 1, 1, 1, 1, 1, 1, 1,\n",
              "        1, 1, 1, 1, 1, 1, 1, 1, 1, 1, 1, 1, 1, 1, 1, 1, 1, 1, 1, 1, 1, 1,\n",
              "        1, 1, 1, 1, 1, 1, 1, 1, 1, 1, 1, 1, 2, 2, 2, 2, 2, 2, 2, 2, 2, 2,\n",
              "        2, 2, 2, 2, 2, 2, 2, 2, 2, 2, 2, 2, 2, 2, 2, 2, 2, 2, 2, 2, 2, 2,\n",
              "        2, 2, 2, 2, 2, 2, 2, 2, 2, 2, 2, 2, 2, 2, 2, 2, 2, 2]))"
            ]
          },
          "metadata": {
            "tags": []
          },
          "execution_count": 14
        }
      ]
    },
    {
      "cell_type": "code",
      "metadata": {
        "id": "C9CUcJXD83Ms",
        "colab_type": "code",
        "colab": {}
      },
      "source": [
        "# step size in the mesh\n",
        "h = .02\n",
        "\n",
        "# create a mesh to plot in\n",
        "x_min, x_max = X[:, 0].min() - 1, X[:, 0].max() + 1\n",
        "y_min, y_max = X[:, 1].min() - 1, X[:, 1].max() + 1\n",
        "xx, yy = np.meshgrid(np.arange(x_min, x_max, h),\n",
        "                     np.arange(y_min, y_max, h))"
      ],
      "execution_count": 0,
      "outputs": []
    },
    {
      "cell_type": "code",
      "metadata": {
        "id": "ZEQq9ZPv-Qi4",
        "colab_type": "code",
        "outputId": "fb57fb45-b9bc-45ff-8d89-2b688e2efdf7",
        "colab": {
          "base_uri": "https://localhost:8080/",
          "height": 252
        }
      },
      "source": [
        "xx, yy"
      ],
      "execution_count": 0,
      "outputs": [
        {
          "output_type": "execute_result",
          "data": {
            "text/plain": [
              "(array([[3.3 , 3.32, 3.34, ..., 8.84, 8.86, 8.88],\n",
              "        [3.3 , 3.32, 3.34, ..., 8.84, 8.86, 8.88],\n",
              "        [3.3 , 3.32, 3.34, ..., 8.84, 8.86, 8.88],\n",
              "        ...,\n",
              "        [3.3 , 3.32, 3.34, ..., 8.84, 8.86, 8.88],\n",
              "        [3.3 , 3.32, 3.34, ..., 8.84, 8.86, 8.88],\n",
              "        [3.3 , 3.32, 3.34, ..., 8.84, 8.86, 8.88]]),\n",
              " array([[1.  , 1.  , 1.  , ..., 1.  , 1.  , 1.  ],\n",
              "        [1.02, 1.02, 1.02, ..., 1.02, 1.02, 1.02],\n",
              "        [1.04, 1.04, 1.04, ..., 1.04, 1.04, 1.04],\n",
              "        ...,\n",
              "        [5.34, 5.34, 5.34, ..., 5.34, 5.34, 5.34],\n",
              "        [5.36, 5.36, 5.36, ..., 5.36, 5.36, 5.36],\n",
              "        [5.38, 5.38, 5.38, ..., 5.38, 5.38, 5.38]]))"
            ]
          },
          "metadata": {
            "tags": []
          },
          "execution_count": 17
        }
      ]
    },
    {
      "cell_type": "code",
      "metadata": {
        "id": "CntCTdgC8W2H",
        "colab_type": "code",
        "outputId": "409e5cad-7315-4c5f-d3d6-1dc40157112f",
        "colab": {
          "base_uri": "https://localhost:8080/",
          "height": 285
        }
      },
      "source": [
        "# title for the plots\n",
        "titles = ['Label Spreading 30% data',\n",
        "          'Label Spreading 50% data',\n",
        "          'Label Spreading 100% data',\n",
        "          'SVC with rbf kernel']\n",
        "\n",
        "color_map = {-1: (1, 1, 1), 0: (0, 0, .9), 1: (1, 0, 0), 2: (.8, .6, 0)}\n",
        "\n",
        "for i, (clf, y_train) in enumerate((ls30, ls50, ls100, rbf_svc)):\n",
        "    # Plot the decision boundary. For that, we will assign a color to each\n",
        "    # point in the mesh [x_min, x_max]x[y_min, y_max].\n",
        "    plt.subplot(2, 2, i + 1)\n",
        "    Z = clf.predict(np.c_[xx.ravel(), yy.ravel()])\n",
        "\n",
        "    # Put the result into a color plot\n",
        "    Z = Z.reshape(xx.shape)\n",
        "    plt.contourf(xx, yy, Z, cmap=plt.cm.Paired)\n",
        "    plt.axis('off')\n",
        "\n",
        "    # Plot also the training points\n",
        "    colors = [color_map[y] for y in y_train]\n",
        "    plt.scatter(X[:, 0], X[:, 1], c=colors, edgecolors='black')\n",
        "\n",
        "    plt.title(titles[i])\n",
        "    \n",
        "\n",
        "plt.suptitle(\"Unlabeled points are colored white\", y=0.1)\n",
        "plt.show()"
      ],
      "execution_count": 0,
      "outputs": [
        {
          "output_type": "display_data",
          "data": {
            "image/png": "[encoded data removed]",
            "text/plain": [
              "<Figure size 432x288 with 4 Axes>"
            ]
          },
          "metadata": {
            "tags": [],
            "needs_background": "light"
          }
        }
      ]
    },
    {
      "cell_type": "markdown",
      "metadata": {
        "id": "f1ioZiaqA4v8",
        "colab_type": "text"
      },
      "source": [
        "## Esempio n.2"
      ]
    },
    {
      "cell_type": "code",
      "metadata": {
        "id": "YJUFbnjp8b1s",
        "colab_type": "code",
        "outputId": "fc0eaaf9-9a7a-417f-da20-b34e787bf56d",
        "colab": {
          "base_uri": "https://localhost:8080/",
          "height": 34
        }
      },
      "source": [
        "print(__doc__)\n",
        "\n",
        "# Authors: Clay Woolam <clay@woolam.org>\n",
        "#          Andreas Mueller <amueller@ais.uni-bonn.de>\n",
        "# License: BSD"
      ],
      "execution_count": 0,
      "outputs": [
        {
          "output_type": "stream",
          "text": [
            "Automatically created module for IPython interactive environment\n"
          ],
          "name": "stdout"
        }
      ]
    },
    {
      "cell_type": "code",
      "metadata": {
        "id": "38smSQm_A_E3",
        "colab_type": "code",
        "colab": {}
      },
      "source": [
        "import numpy as np\n",
        "import matplotlib.pyplot as plt\n",
        "from sklearn.semi_supervised import LabelSpreading\n",
        "from sklearn.datasets import make_circles"
      ],
      "execution_count": 0,
      "outputs": []
    },
    {
      "cell_type": "code",
      "metadata": {
        "id": "rxgLrtgxBAj6",
        "colab_type": "code",
        "colab": {}
      },
      "source": [
        "# generate ring with inner box\n",
        "n_samples = 200\n",
        "X, y = make_circles(n_samples=n_samples, shuffle=False)\n",
        "outer, inner = 0, 1\n",
        "labels = np.full(n_samples, -1.)\n",
        "labels[0] = outer\n",
        "labels[-1] = inner"
      ],
      "execution_count": 0,
      "outputs": []
    },
    {
      "cell_type": "code",
      "metadata": {
        "id": "RF5DYQOnBqhR",
        "colab_type": "code",
        "outputId": "a6662cd4-5e76-4c3f-8d67-5c2f077e9748",
        "colab": {
          "base_uri": "https://localhost:8080/",
          "height": 286
        }
      },
      "source": [
        "labels"
      ],
      "execution_count": 0,
      "outputs": [
        {
          "output_type": "execute_result",
          "data": {
            "text/plain": [
              "array([ 0., -1., -1., -1., -1., -1., -1., -1., -1., -1., -1., -1., -1.,\n",
              "       -1., -1., -1., -1., -1., -1., -1., -1., -1., -1., -1., -1., -1.,\n",
              "       -1., -1., -1., -1., -1., -1., -1., -1., -1., -1., -1., -1., -1.,\n",
              "       -1., -1., -1., -1., -1., -1., -1., -1., -1., -1., -1., -1., -1.,\n",
              "       -1., -1., -1., -1., -1., -1., -1., -1., -1., -1., -1., -1., -1.,\n",
              "       -1., -1., -1., -1., -1., -1., -1., -1., -1., -1., -1., -1., -1.,\n",
              "       -1., -1., -1., -1., -1., -1., -1., -1., -1., -1., -1., -1., -1.,\n",
              "       -1., -1., -1., -1., -1., -1., -1., -1., -1., -1., -1., -1., -1.,\n",
              "       -1., -1., -1., -1., -1., -1., -1., -1., -1., -1., -1., -1., -1.,\n",
              "       -1., -1., -1., -1., -1., -1., -1., -1., -1., -1., -1., -1., -1.,\n",
              "       -1., -1., -1., -1., -1., -1., -1., -1., -1., -1., -1., -1., -1.,\n",
              "       -1., -1., -1., -1., -1., -1., -1., -1., -1., -1., -1., -1., -1.,\n",
              "       -1., -1., -1., -1., -1., -1., -1., -1., -1., -1., -1., -1., -1.,\n",
              "       -1., -1., -1., -1., -1., -1., -1., -1., -1., -1., -1., -1., -1.,\n",
              "       -1., -1., -1., -1., -1., -1., -1., -1., -1., -1., -1., -1., -1.,\n",
              "       -1., -1., -1., -1.,  1.])"
            ]
          },
          "metadata": {
            "tags": []
          },
          "execution_count": 25
        }
      ]
    },
    {
      "cell_type": "code",
      "metadata": {
        "id": "8RrI6tVrBDco",
        "colab_type": "code",
        "outputId": "227fe65e-f8e8-4992-fc64-2d07f2b6cf3e",
        "colab": {
          "base_uri": "https://localhost:8080/",
          "height": 50
        }
      },
      "source": [
        "# #############################################################################\n",
        "# Learn with LabelSpreading\n",
        "label_spread = LabelSpreading(kernel='knn', alpha=0.8)\n",
        "label_spread.fit(X, labels)\n",
        "\n",
        "# #############################################################################"
      ],
      "execution_count": 0,
      "outputs": [
        {
          "output_type": "execute_result",
          "data": {
            "text/plain": [
              "LabelSpreading(alpha=0.8, gamma=20, kernel='knn', max_iter=30, n_jobs=None,\n",
              "               n_neighbors=7, tol=0.001)"
            ]
          },
          "metadata": {
            "tags": []
          },
          "execution_count": 23
        }
      ]
    },
    {
      "cell_type": "code",
      "metadata": {
        "id": "kIyHOtVfA7IX",
        "colab_type": "code",
        "outputId": "2f45c790-3a3c-42a5-e7ee-a407df71165f",
        "colab": {
          "base_uri": "https://localhost:8080/",
          "height": 309
        }
      },
      "source": [
        "\n",
        "# Plot output labels\n",
        "output_labels = label_spread.transduction_\n",
        "\n",
        "plt.figure(figsize=(8.5, 4))\n",
        "\n",
        "# Subplot 1\n",
        "plt.subplot(1, 2, 1)\n",
        "\n",
        "plt.scatter(X[labels == outer, 0], X[labels == outer, 1], color='navy',\n",
        "            marker='s', lw=0, label=\"outer labeled\", s=10)\n",
        "plt.scatter(X[labels == inner, 0], X[labels == inner, 1], color='c',\n",
        "            marker='s', lw=0, label='inner labeled', s=10)\n",
        "plt.scatter(X[labels == -1, 0], X[labels == -1, 1], color='darkorange',\n",
        "            marker='.', label='unlabeled')\n",
        "\n",
        "plt.legend(scatterpoints=1, shadow=False, loc='upper right')\n",
        "plt.title(\"Raw data (2 classes=outer and inner)\")\n",
        "\n",
        "# Subplot 2\n",
        "plt.subplot(1, 2, 2)\n",
        "\n",
        "output_label_array = np.asarray(output_labels)\n",
        "outer_numbers = np.where(output_label_array == outer)[0]\n",
        "inner_numbers = np.where(output_label_array == inner)[0]\n",
        "\n",
        "plt.scatter(X[outer_numbers, 0], X[outer_numbers, 1], color='navy',\n",
        "            marker='s', lw=0, s=10, label=\"outer learned\")\n",
        "plt.scatter(X[inner_numbers, 0], X[inner_numbers, 1], color='c',\n",
        "            marker='s', lw=0, s=10, label=\"inner learned\")\n",
        "plt.legend(scatterpoints=1, shadow=False, loc='upper right')\n",
        "plt.title(\"Labels learned with Label Spreading (KNN)\")\n",
        "\n",
        "plt.subplots_adjust(left=0.07, bottom=0.07, right=0.93, top=0.92)\n",
        "\n",
        "plt.show()"
      ],
      "execution_count": 0,
      "outputs": [
        {
          "output_type": "display_data",
          "data": {
            "image/png": "[encoded data removed]",
            "text/plain": [
              "<Figure size 612x288 with 2 Axes>"
            ]
          },
          "metadata": {
            "tags": [],
            "needs_background": "light"
          }
        }
      ]
    },
    {
      "cell_type": "markdown",
      "metadata": {
        "id": "H_8g52j5CAdQ",
        "colab_type": "text"
      },
      "source": [
        "## Esempio n.3"
      ]
    },
    {
      "cell_type": "code",
      "metadata": {
        "id": "DBVNFYOMBHfe",
        "colab_type": "code",
        "outputId": "19436241-cc20-4b31-a797-8f4b173651ed",
        "colab": {
          "base_uri": "https://localhost:8080/",
          "height": 34
        }
      },
      "source": [
        "print(__doc__)\n",
        "\n",
        "# Authors: Clay Woolam <clay@woolam.org>\n",
        "# License: BSD"
      ],
      "execution_count": 0,
      "outputs": [
        {
          "output_type": "stream",
          "text": [
            "Automatically created module for IPython interactive environment\n"
          ],
          "name": "stdout"
        }
      ]
    },
    {
      "cell_type": "code",
      "metadata": {
        "id": "QGjZvNhmCD4y",
        "colab_type": "code",
        "colab": {}
      },
      "source": [
        "import numpy as np\n",
        "import matplotlib.pyplot as plt\n",
        "\n",
        "from scipy import stats\n",
        "\n",
        "from sklearn import datasets\n",
        "from sklearn.semi_supervised import LabelSpreading\n",
        "\n",
        "from sklearn.metrics import confusion_matrix, classification_report"
      ],
      "execution_count": 0,
      "outputs": []
    },
    {
      "cell_type": "code",
      "metadata": {
        "id": "um71hBErCITQ",
        "colab_type": "code",
        "colab": {}
      },
      "source": [
        "digits = datasets.load_digits()\n",
        "rng = np.random.RandomState(2)\n",
        "indices = np.arange(len(digits.data))\n",
        "rng.shuffle(indices)\n",
        "\n",
        "X = digits.data[indices[:340]]\n",
        "y = digits.target[indices[:340]]\n",
        "images = digits.images[indices[:340]]\n",
        "\n",
        "n_total_samples = len(y)\n",
        "n_labeled_points = 40\n",
        "\n",
        "indices = np.arange(n_total_samples)\n",
        "\n",
        "unlabeled_set = indices[n_labeled_points:]"
      ],
      "execution_count": 0,
      "outputs": []
    },
    {
      "cell_type": "code",
      "metadata": {
        "id": "FUIWUAbOCKNI",
        "colab_type": "code",
        "colab": {}
      },
      "source": [
        "# #############################################################################\n",
        "# Shuffle everything around\n",
        "y_train = np.copy(y)\n",
        "y_train[unlabeled_set] = -1\n",
        "\n",
        "# #############################################################################"
      ],
      "execution_count": 0,
      "outputs": []
    },
    {
      "cell_type": "code",
      "metadata": {
        "id": "kjUY1OkbCly6",
        "colab_type": "code",
        "outputId": "2472c864-625c-4a2e-ecf7-b8213acbd02c",
        "colab": {
          "base_uri": "https://localhost:8080/",
          "height": 353
        }
      },
      "source": [
        "y_train"
      ],
      "execution_count": 0,
      "outputs": [
        {
          "output_type": "execute_result",
          "data": {
            "text/plain": [
              "array([ 4,  0,  9,  1,  4,  7,  1,  5,  1,  6,  6,  7,  6,  1,  5,  5,  4,\n",
              "        6,  2,  7,  4,  6,  4,  1,  5,  2,  9,  5,  4,  6,  5,  6,  3,  4,\n",
              "        0,  9,  9,  8,  4,  6, -1, -1, -1, -1, -1, -1, -1, -1, -1, -1, -1,\n",
              "       -1, -1, -1, -1, -1, -1, -1, -1, -1, -1, -1, -1, -1, -1, -1, -1, -1,\n",
              "       -1, -1, -1, -1, -1, -1, -1, -1, -1, -1, -1, -1, -1, -1, -1, -1, -1,\n",
              "       -1, -1, -1, -1, -1, -1, -1, -1, -1, -1, -1, -1, -1, -1, -1, -1, -1,\n",
              "       -1, -1, -1, -1, -1, -1, -1, -1, -1, -1, -1, -1, -1, -1, -1, -1, -1,\n",
              "       -1, -1, -1, -1, -1, -1, -1, -1, -1, -1, -1, -1, -1, -1, -1, -1, -1,\n",
              "       -1, -1, -1, -1, -1, -1, -1, -1, -1, -1, -1, -1, -1, -1, -1, -1, -1,\n",
              "       -1, -1, -1, -1, -1, -1, -1, -1, -1, -1, -1, -1, -1, -1, -1, -1, -1,\n",
              "       -1, -1, -1, -1, -1, -1, -1, -1, -1, -1, -1, -1, -1, -1, -1, -1, -1,\n",
              "       -1, -1, -1, -1, -1, -1, -1, -1, -1, -1, -1, -1, -1, -1, -1, -1, -1,\n",
              "       -1, -1, -1, -1, -1, -1, -1, -1, -1, -1, -1, -1, -1, -1, -1, -1, -1,\n",
              "       -1, -1, -1, -1, -1, -1, -1, -1, -1, -1, -1, -1, -1, -1, -1, -1, -1,\n",
              "       -1, -1, -1, -1, -1, -1, -1, -1, -1, -1, -1, -1, -1, -1, -1, -1, -1,\n",
              "       -1, -1, -1, -1, -1, -1, -1, -1, -1, -1, -1, -1, -1, -1, -1, -1, -1,\n",
              "       -1, -1, -1, -1, -1, -1, -1, -1, -1, -1, -1, -1, -1, -1, -1, -1, -1,\n",
              "       -1, -1, -1, -1, -1, -1, -1, -1, -1, -1, -1, -1, -1, -1, -1, -1, -1,\n",
              "       -1, -1, -1, -1, -1, -1, -1, -1, -1, -1, -1, -1, -1, -1, -1, -1, -1,\n",
              "       -1, -1, -1, -1, -1, -1, -1, -1, -1, -1, -1, -1, -1, -1, -1, -1, -1])"
            ]
          },
          "metadata": {
            "tags": []
          },
          "execution_count": 31
        }
      ]
    },
    {
      "cell_type": "code",
      "metadata": {
        "id": "xFOmkGCXCrj8",
        "colab_type": "code",
        "outputId": "73624fce-1b0e-4928-f318-3e9fad40d6d3",
        "colab": {
          "base_uri": "https://localhost:8080/",
          "height": 50
        }
      },
      "source": [
        "# Learn with LabelSpreading\n",
        "lp_model = LabelSpreading(gamma=.25, max_iter=20)\n",
        "lp_model.fit(X, y_train)"
      ],
      "execution_count": 0,
      "outputs": [
        {
          "output_type": "execute_result",
          "data": {
            "text/plain": [
              "LabelSpreading(alpha=0.2, gamma=0.25, kernel='rbf', max_iter=20, n_jobs=None,\n",
              "               n_neighbors=7, tol=0.001)"
            ]
          },
          "metadata": {
            "tags": []
          },
          "execution_count": 32
        }
      ]
    },
    {
      "cell_type": "code",
      "metadata": {
        "id": "za6JJjuDCNlo",
        "colab_type": "code",
        "colab": {}
      },
      "source": [
        "predicted_labels = lp_model.transduction_[unlabeled_set]\n",
        "true_labels = y[unlabeled_set]"
      ],
      "execution_count": 0,
      "outputs": []
    },
    {
      "cell_type": "code",
      "metadata": {
        "id": "pcXXVmIYCPtJ",
        "colab_type": "code",
        "outputId": "9028f36f-5817-4dde-c8e1-56d504df9e2f",
        "colab": {
          "base_uri": "https://localhost:8080/",
          "height": 504
        }
      },
      "source": [
        "cm = confusion_matrix(true_labels, predicted_labels, labels=lp_model.classes_)\n",
        "\n",
        "print(\"Label Spreading model: %d labeled & %d unlabeled points (%d total)\" %\n",
        "      (n_labeled_points, n_total_samples - n_labeled_points, n_total_samples))\n",
        "\n",
        "print(classification_report(true_labels, predicted_labels))\n",
        "\n",
        "print(\"Confusion matrix\")\n",
        "print(cm)"
      ],
      "execution_count": 0,
      "outputs": [
        {
          "output_type": "stream",
          "text": [
            "Label Spreading model: 40 labeled & 300 unlabeled points (340 total)\n",
            "              precision    recall  f1-score   support\n",
            "\n",
            "           0       1.00      1.00      1.00        27\n",
            "           1       0.82      1.00      0.90        37\n",
            "           2       1.00      0.86      0.92        28\n",
            "           3       1.00      0.80      0.89        35\n",
            "           4       0.92      1.00      0.96        24\n",
            "           5       0.74      0.94      0.83        34\n",
            "           6       0.89      0.96      0.92        25\n",
            "           7       0.94      0.89      0.91        35\n",
            "           8       1.00      0.68      0.81        31\n",
            "           9       0.81      0.88      0.84        24\n",
            "\n",
            "    accuracy                           0.90       300\n",
            "   macro avg       0.91      0.90      0.90       300\n",
            "weighted avg       0.91      0.90      0.90       300\n",
            "\n",
            "Confusion matrix\n",
            "[[27  0  0  0  0  0  0  0  0  0]\n",
            " [ 0 37  0  0  0  0  0  0  0  0]\n",
            " [ 0  1 24  0  0  0  2  1  0  0]\n",
            " [ 0  0  0 28  0  5  0  1  0  1]\n",
            " [ 0  0  0  0 24  0  0  0  0  0]\n",
            " [ 0  0  0  0  0 32  0  0  0  2]\n",
            " [ 0  0  0  0  0  1 24  0  0  0]\n",
            " [ 0  0  0  0  1  3  0 31  0  0]\n",
            " [ 0  7  0  0  0  0  1  0 21  2]\n",
            " [ 0  0  0  0  1  2  0  0  0 21]]\n"
          ],
          "name": "stdout"
        }
      ]
    },
    {
      "cell_type": "code",
      "metadata": {
        "id": "0kukmodUCSI4",
        "colab_type": "code",
        "colab": {}
      },
      "source": [
        "# Calculate uncertainty values for each transduced distribution\n",
        "pred_entropies = stats.distributions.entropy(lp_model.label_distributions_.T)"
      ],
      "execution_count": 0,
      "outputs": []
    },
    {
      "cell_type": "code",
      "metadata": {
        "id": "7mp3G4FeCUPf",
        "colab_type": "code",
        "colab": {}
      },
      "source": [
        "# Pick the top 10 most uncertain labels\n",
        "uncertainty_index = np.argsort(pred_entropies)[-10:]"
      ],
      "execution_count": 0,
      "outputs": []
    },
    {
      "cell_type": "code",
      "metadata": {
        "id": "qIpUIsqnCCDr",
        "colab_type": "code",
        "outputId": "4d773acb-95f4-4587-fc59-179a54e5166b",
        "colab": {
          "base_uri": "https://localhost:8080/",
          "height": 314
        }
      },
      "source": [
        "# Plot\n",
        "f = plt.figure(figsize=(7, 5))\n",
        "for index, image_index in enumerate(uncertainty_index):\n",
        "    image = images[image_index]\n",
        "\n",
        "    sub = f.add_subplot(2, 5, index + 1)\n",
        "    sub.imshow(image, cmap=plt.cm.gray_r)\n",
        "    plt.xticks([])\n",
        "    plt.yticks([])\n",
        "    sub.set_title('predict: %i\\ntrue: %i' % (\n",
        "        lp_model.transduction_[image_index], y[image_index]))\n",
        "\n",
        "f.suptitle('Learning with small amount of labeled data')\n",
        "plt.show()"
      ],
      "execution_count": 0,
      "outputs": [
        {
          "output_type": "display_data",
          "data": {
            "image/png": "[encoded data removed]",
            "text/plain": [
              "<Figure size 504x360 with 10 Axes>"
            ]
          },
          "metadata": {
            "tags": []
          }
        }
      ]
    },
    {
      "cell_type": "markdown",
      "metadata": {
        "id": "P7VBZkk9HXVI",
        "colab_type": "text"
      },
      "source": [
        "# Mia prova"
      ]
    },
    {
      "cell_type": "markdown",
      "metadata": {
        "id": "jcn2tdh874ve",
        "colab_type": "text"
      },
      "source": [
        "## Librerie"
      ]
    },
    {
      "cell_type": "code",
      "metadata": {
        "id": "uasx8jMB76T1",
        "colab_type": "code",
        "colab": {}
      },
      "source": [
        "import numpy as np\n",
        "import matplotlib.pyplot as plt\n",
        "from sklearn.semi_supervised import LabelSpreading, LabelPropagation\n",
        "from sklearn.metrics import confusion_matrix, classification_report, accuracy_score"
      ],
      "execution_count": 0,
      "outputs": []
    },
    {
      "cell_type": "markdown",
      "metadata": {
        "id": "CsY-2m1opCLy",
        "colab_type": "text"
      },
      "source": [
        "## Dataset creation"
      ]
    },
    {
      "cell_type": "code",
      "metadata": {
        "id": "qemckLtoH5SH",
        "colab_type": "code",
        "colab": {}
      },
      "source": [
        "num_elements = 500"
      ],
      "execution_count": 0,
      "outputs": []
    },
    {
      "cell_type": "code",
      "metadata": {
        "id": "PXxjdMY_H6Pw",
        "colab_type": "code",
        "outputId": "0fb90251-5ffe-4e42-9649-a31d04195446",
        "colab": {
          "base_uri": "https://localhost:8080/",
          "height": 118
        }
      },
      "source": [
        "mean = [-2, 3]\n",
        "cov = [[30, 50], [80, 100]]\n",
        "classe1 = (np.random.multivariate_normal(mean, cov, num_elements), np.ones(num_elements)*1)\n",
        "\n",
        "mean = [10, 2]\n",
        "cov = [[170, 100], [300, 20]]\n",
        "classe2 = (np.random.multivariate_normal(mean, cov, num_elements), np.ones(num_elements)*2)\n",
        "\n",
        "mean = [-3, -5]\n",
        "cov = [[40, -15], [-10, 20]]\n",
        "classe3 = (np.random.multivariate_normal(mean, cov, num_elements), np.ones(num_elements)*3)"
      ],
      "execution_count": 0,
      "outputs": [
        {
          "output_type": "stream",
          "text": [
            "/usr/local/lib/python3.6/dist-packages/ipykernel_launcher.py:3: RuntimeWarning: covariance is not positive-semidefinite.\n",
            "  This is separate from the ipykernel package so we can avoid doing imports until\n",
            "/usr/local/lib/python3.6/dist-packages/ipykernel_launcher.py:7: RuntimeWarning: covariance is not positive-semidefinite.\n",
            "  import sys\n",
            "/usr/local/lib/python3.6/dist-packages/ipykernel_launcher.py:11: RuntimeWarning: covariance is not positive-semidefinite.\n",
            "  # This is added back by InteractiveShellApp.init_path()\n"
          ],
          "name": "stderr"
        }
      ]
    },
    {
      "cell_type": "code",
      "metadata": {
        "id": "0ybz01r9LN_l",
        "colab_type": "code",
        "outputId": "9f764fdd-ac41-41cc-f1a5-110ad5136180",
        "colab": {
          "base_uri": "https://localhost:8080/",
          "height": 265
        }
      },
      "source": [
        "plt.plot(classe1[0][:,0], classe1[0][:,1], 'r+')\n",
        "plt.plot(classe2[0][:,0], classe2[0][:,1], 'gx')\n",
        "plt.plot(classe3[0][:,0], classe3[0][:,1], 'b*')\n",
        "plt.axis('equal')\n",
        "plt.show()"
      ],
      "execution_count": 0,
      "outputs": [
        {
          "output_type": "display_data",
          "data": {
            "image/png": "[encoded data removed]",
            "text/plain": [
              "<Figure size 432x288 with 1 Axes>"
            ]
          },
          "metadata": {
            "tags": [],
            "needs_background": "light"
          }
        }
      ]
    },
    {
      "cell_type": "markdown",
      "metadata": {
        "id": "ZVFvmA6qpKS0",
        "colab_type": "text"
      },
      "source": [
        "## Dataset pre-processing"
      ]
    },
    {
      "cell_type": "code",
      "metadata": {
        "id": "GpgqSvndXXjF",
        "colab_type": "code",
        "colab": {}
      },
      "source": [
        "x = np.concatenate((classe1[0],classe2[0],classe3[0]))\n",
        "y = np.concatenate((classe1[1],classe2[1],classe3[1]))"
      ],
      "execution_count": 0,
      "outputs": []
    },
    {
      "cell_type": "code",
      "metadata": {
        "id": "5Qod_gNVa3ub",
        "colab_type": "code",
        "colab": {}
      },
      "source": [
        "# Percentuale di etichette da nascondere\n",
        "unlab_perc = 0.99\n",
        "\n",
        "# Indici delle etichette da mascherare\n",
        "unlabel_idx = np.random.rand(len(y)) < unlab_perc"
      ],
      "execution_count": 0,
      "outputs": []
    },
    {
      "cell_type": "code",
      "metadata": {
        "id": "_TTgP1Nwad3J",
        "colab_type": "code",
        "colab": {}
      },
      "source": [
        "# Creazione delle etichette 'mascherate'\n",
        "y_unlabeled = np.copy(y)\n",
        "\n",
        "# Trasformo le etichette in classe 'mascherata'\n",
        "y_unlabeled[unlabel_idx] = -1\n",
        "\n",
        "# X corrispondenti alle etichette 'mascherate'\n",
        "X_test = x[unlabel_idx,:]"
      ],
      "execution_count": 0,
      "outputs": []
    },
    {
      "cell_type": "code",
      "metadata": {
        "id": "uCmrKTr2bNbf",
        "colab_type": "code",
        "outputId": "cacaae41-3b97-41d0-d2da-4763c13f3adc",
        "colab": {
          "base_uri": "https://localhost:8080/",
          "height": 34
        }
      },
      "source": [
        "y_unlabeled[:10]"
      ],
      "execution_count": 0,
      "outputs": [
        {
          "output_type": "execute_result",
          "data": {
            "text/plain": [
              "array([-1., -1., -1., -1., -1., -1., -1., -1., -1., -1.])"
            ]
          },
          "metadata": {
            "tags": []
          },
          "execution_count": 384
        }
      ]
    },
    {
      "cell_type": "code",
      "metadata": {
        "id": "Hb1SzkPSLSmk",
        "colab_type": "code",
        "colab": {}
      },
      "source": [
        "# Unione degli array per operare un operazione di shuffle su tutti gli elementi\n",
        "dataset = np.column_stack((x,y_unlabeled,y,unlabel_idx))"
      ],
      "execution_count": 0,
      "outputs": []
    },
    {
      "cell_type": "code",
      "metadata": {
        "id": "RojoG6wEcW9_",
        "colab_type": "code",
        "outputId": "12050de9-2b0b-495b-dd4c-44271e8f4243",
        "colab": {
          "base_uri": "https://localhost:8080/",
          "height": 353
        }
      },
      "source": [
        "dataset[:10,:]"
      ],
      "execution_count": 0,
      "outputs": [
        {
          "output_type": "execute_result",
          "data": {
            "text/plain": [
              "array([[ -3.68458218,  -4.30013322,  -1.        ,   1.        ,\n",
              "          1.        ],\n",
              "       [ -1.15379049,   5.43024007,  -1.        ,   1.        ,\n",
              "          1.        ],\n",
              "       [  7.56820515,  16.20519579,  -1.        ,   1.        ,\n",
              "          1.        ],\n",
              "       [  1.48018604,  -1.6788346 ,  -1.        ,   1.        ,\n",
              "          1.        ],\n",
              "       [-10.77403808, -10.00503715,  -1.        ,   1.        ,\n",
              "          1.        ],\n",
              "       [  4.61848528,   7.99948646,  -1.        ,   1.        ,\n",
              "          1.        ],\n",
              "       [ -1.07401573,  -3.38725104,  -1.        ,   1.        ,\n",
              "          1.        ],\n",
              "       [  2.79095992,   4.74902932,  -1.        ,   1.        ,\n",
              "          1.        ],\n",
              "       [  3.75269662,  17.13253286,  -1.        ,   1.        ,\n",
              "          1.        ],\n",
              "       [ -3.02066286,  -2.59209015,  -1.        ,   1.        ,\n",
              "          1.        ]])"
            ]
          },
          "metadata": {
            "tags": []
          },
          "execution_count": 386
        }
      ]
    },
    {
      "cell_type": "code",
      "metadata": {
        "id": "9ekoXbFkbnru",
        "colab_type": "code",
        "colab": {}
      },
      "source": [
        "# Doppio shuffle del dataset\n",
        "\n",
        "np.random.shuffle(dataset)\n",
        "np.random.shuffle(dataset)"
      ],
      "execution_count": 0,
      "outputs": []
    },
    {
      "cell_type": "code",
      "metadata": {
        "id": "0AjD3x03biHF",
        "colab_type": "code",
        "outputId": "e3feef95-d920-4e0d-a91f-d93036970d11",
        "colab": {
          "base_uri": "https://localhost:8080/",
          "height": 353
        }
      },
      "source": [
        "dataset[:10,:]"
      ],
      "execution_count": 0,
      "outputs": [
        {
          "output_type": "execute_result",
          "data": {
            "text/plain": [
              "array([[  2.80777576,  -6.47532854,  -1.        ,   3.        ,\n",
              "          1.        ],\n",
              "       [ -7.76181735,   5.4592999 ,  -1.        ,   2.        ,\n",
              "          1.        ],\n",
              "       [  5.71639885,  -1.73098743,  -1.        ,   2.        ,\n",
              "          1.        ],\n",
              "       [  1.41729661,  -8.70722991,  -1.        ,   3.        ,\n",
              "          1.        ],\n",
              "       [ -1.93723743,   0.19838316,  -1.        ,   3.        ,\n",
              "          1.        ],\n",
              "       [  8.69139809,   6.88372804,  -1.        ,   2.        ,\n",
              "          1.        ],\n",
              "       [ -1.06064406,  -5.18135594,  -1.        ,   3.        ,\n",
              "          1.        ],\n",
              "       [-21.17885635, -22.14521017,  -1.        ,   1.        ,\n",
              "          1.        ],\n",
              "       [ 22.08423568,  12.54525485,  -1.        ,   2.        ,\n",
              "          1.        ],\n",
              "       [ -2.00725732,  -4.05574524,  -1.        ,   3.        ,\n",
              "          1.        ]])"
            ]
          },
          "metadata": {
            "tags": []
          },
          "execution_count": 388
        }
      ]
    },
    {
      "cell_type": "code",
      "metadata": {
        "id": "pJQz_L68c7md",
        "colab_type": "code",
        "colab": {}
      },
      "source": [
        "# Separazione degli array shuffleati\n",
        "X_train = dataset[:,:2]\n",
        "y_train = dataset[:,2]\n",
        "y_real = dataset[:,3]\n",
        "unlabel_idx = [x==1 for x in dataset[:,4]]"
      ],
      "execution_count": 0,
      "outputs": []
    },
    {
      "cell_type": "code",
      "metadata": {
        "id": "MrNbK_uVdCLO",
        "colab_type": "code",
        "outputId": "e749020e-e015-48b2-863e-479aca19e117",
        "colab": {
          "base_uri": "https://localhost:8080/",
          "height": 202
        }
      },
      "source": [
        "X_train[:10,:], y_train[:10]"
      ],
      "execution_count": 0,
      "outputs": [
        {
          "output_type": "execute_result",
          "data": {
            "text/plain": [
              "(array([[  2.80777576,  -6.47532854],\n",
              "        [ -7.76181735,   5.4592999 ],\n",
              "        [  5.71639885,  -1.73098743],\n",
              "        [  1.41729661,  -8.70722991],\n",
              "        [ -1.93723743,   0.19838316],\n",
              "        [  8.69139809,   6.88372804],\n",
              "        [ -1.06064406,  -5.18135594],\n",
              "        [-21.17885635, -22.14521017],\n",
              "        [ 22.08423568,  12.54525485],\n",
              "        [ -2.00725732,  -4.05574524]]),\n",
              " array([-1., -1., -1., -1., -1., -1., -1., -1., -1., -1.]))"
            ]
          },
          "metadata": {
            "tags": []
          },
          "execution_count": 390
        }
      ]
    },
    {
      "cell_type": "markdown",
      "metadata": {
        "id": "JQYqoAffqGo4",
        "colab_type": "text"
      },
      "source": [
        "## Modelli semi-supervised"
      ]
    },
    {
      "cell_type": "code",
      "metadata": {
        "id": "QCXsIVGyHAq4",
        "colab_type": "code",
        "colab": {}
      },
      "source": [
        "kernel_param = 'rbf' # 'rbf' or 'knn'\n",
        "gamma_param = 0.25 # 0.25"
      ],
      "execution_count": 0,
      "outputs": []
    },
    {
      "cell_type": "markdown",
      "metadata": {
        "id": "Bz_lWh7mDlGQ",
        "colab_type": "text"
      },
      "source": [
        "### Label Spreading"
      ]
    },
    {
      "cell_type": "code",
      "metadata": {
        "id": "7yT1lSlicTQW",
        "colab_type": "code",
        "colab": {}
      },
      "source": [
        "# Learn with LabelSpreading\n",
        "lsp_model = LabelSpreading(kernel=kernel_param,gamma=gamma_param, max_iter=20)"
      ],
      "execution_count": 0,
      "outputs": []
    },
    {
      "cell_type": "code",
      "metadata": {
        "id": "lTFyFmmvc42f",
        "colab_type": "code",
        "outputId": "3daac973-6e2e-4f3a-879b-d75471b5dad4",
        "colab": {
          "base_uri": "https://localhost:8080/",
          "height": 50
        }
      },
      "source": [
        "# Fit del modello\n",
        "lsp_model.fit(X_train, y_train)"
      ],
      "execution_count": 0,
      "outputs": [
        {
          "output_type": "execute_result",
          "data": {
            "text/plain": [
              "LabelSpreading(alpha=0.2, gamma=0.25, kernel='rbf', max_iter=20, n_jobs=None,\n",
              "               n_neighbors=7, tol=0.001)"
            ]
          },
          "metadata": {
            "tags": []
          },
          "execution_count": 393
        }
      ]
    },
    {
      "cell_type": "code",
      "metadata": {
        "id": "biLgyDjgePMd",
        "colab_type": "code",
        "colab": {}
      },
      "source": [
        "# Estensione delle etichette\n",
        "lsp_predicted_labels = lsp_model.transduction_[unlabel_idx]\n",
        "true_labels = y_real[unlabel_idx]"
      ],
      "execution_count": 0,
      "outputs": []
    },
    {
      "cell_type": "code",
      "metadata": {
        "id": "dWbURcevgXD4",
        "colab_type": "code",
        "outputId": "656f49a9-469c-41c6-f743-025904e2816a",
        "colab": {
          "base_uri": "https://localhost:8080/",
          "height": 67
        }
      },
      "source": [
        "true_labels[:10], ' ', lsp_predicted_labels[:10]"
      ],
      "execution_count": 0,
      "outputs": [
        {
          "output_type": "execute_result",
          "data": {
            "text/plain": [
              "(array([3., 2., 2., 3., 3., 2., 3., 1., 2., 3.]),\n",
              " ' ',\n",
              " array([3., 1., 3., 3., 1., 1., 3., 3., 2., 3.]))"
            ]
          },
          "metadata": {
            "tags": []
          },
          "execution_count": 395
        }
      ]
    },
    {
      "cell_type": "markdown",
      "metadata": {
        "id": "NlEkTmykDpCj",
        "colab_type": "text"
      },
      "source": [
        "### Label Propagation"
      ]
    },
    {
      "cell_type": "code",
      "metadata": {
        "id": "Lwo0N4lSDsy_",
        "colab_type": "code",
        "colab": {}
      },
      "source": [
        "# Learn with LabelSpreading\n",
        "lpr_model = LabelPropagation(kernel=kernel_param,gamma=gamma_param, max_iter=20)"
      ],
      "execution_count": 0,
      "outputs": []
    },
    {
      "cell_type": "code",
      "metadata": {
        "id": "YD3DoZTID0g5",
        "colab_type": "code",
        "outputId": "55bd20ba-62c6-423a-bc36-db12cb0b1a7b",
        "colab": {
          "base_uri": "https://localhost:8080/",
          "height": 104
        }
      },
      "source": [
        "# Fit del modello\n",
        "lpr_model.fit(X_train, y_train)"
      ],
      "execution_count": 0,
      "outputs": [
        {
          "output_type": "stream",
          "text": [
            "/usr/local/lib/python3.6/dist-packages/sklearn/semi_supervised/_label_propagation.py:288: ConvergenceWarning: max_iter=20 was reached without convergence.\n",
            "  category=ConvergenceWarning\n"
          ],
          "name": "stderr"
        },
        {
          "output_type": "execute_result",
          "data": {
            "text/plain": [
              "LabelPropagation(gamma=0.25, kernel='rbf', max_iter=20, n_jobs=None,\n",
              "                 n_neighbors=7, tol=0.001)"
            ]
          },
          "metadata": {
            "tags": []
          },
          "execution_count": 397
        }
      ]
    },
    {
      "cell_type": "code",
      "metadata": {
        "id": "sgH-6_ehD3zY",
        "colab_type": "code",
        "colab": {}
      },
      "source": [
        "# Estensione delle etichette\n",
        "lpr_predicted_labels = lpr_model.transduction_[unlabel_idx]\n",
        "true_labels = y_real[unlabel_idx]"
      ],
      "execution_count": 0,
      "outputs": []
    },
    {
      "cell_type": "markdown",
      "metadata": {
        "id": "YVh_k2iqp3y7",
        "colab_type": "text"
      },
      "source": [
        "## Performance"
      ]
    },
    {
      "cell_type": "code",
      "metadata": {
        "id": "wVkTKoxbCaoo",
        "colab_type": "code",
        "colab": {}
      },
      "source": [
        "lsp_semisup_acc = accuracy_score(true_labels, lsp_predicted_labels)\n",
        "lpr_semisup_acc = accuracy_score(true_labels, lpr_predicted_labels)"
      ],
      "execution_count": 0,
      "outputs": []
    },
    {
      "cell_type": "code",
      "metadata": {
        "id": "iWc1TJz0EVHP",
        "colab_type": "code",
        "outputId": "a84229f0-293c-4a71-b900-d225d3d44130",
        "colab": {
          "base_uri": "https://localhost:8080/",
          "height": 34
        }
      },
      "source": [
        "lsp_semisup_acc,lpr_semisup_acc"
      ],
      "execution_count": 0,
      "outputs": [
        {
          "output_type": "execute_result",
          "data": {
            "text/plain": [
              "(0.6872898453261601, 0.6590450571620713)"
            ]
          },
          "metadata": {
            "tags": []
          },
          "execution_count": 400
        }
      ]
    },
    {
      "cell_type": "code",
      "metadata": {
        "id": "j0nx1OaYEgdv",
        "colab_type": "code",
        "outputId": "bc5d1b1a-7993-4e32-8a2b-f4e5c0644431",
        "colab": {
          "base_uri": "https://localhost:8080/",
          "height": 235
        }
      },
      "source": [
        "print(confusion_matrix(true_labels, lsp_predicted_labels))\n",
        "print(classification_report(true_labels, lsp_predicted_labels))"
      ],
      "execution_count": 0,
      "outputs": [
        {
          "output_type": "stream",
          "text": [
            "[[433   1  62]\n",
            " [150 216 130]\n",
            " [121   1 373]]\n",
            "              precision    recall  f1-score   support\n",
            "\n",
            "         1.0       0.62      0.87      0.72       496\n",
            "         2.0       0.99      0.44      0.61       496\n",
            "         3.0       0.66      0.75      0.70       495\n",
            "\n",
            "    accuracy                           0.69      1487\n",
            "   macro avg       0.76      0.69      0.68      1487\n",
            "weighted avg       0.76      0.69      0.68      1487\n",
            "\n"
          ],
          "name": "stdout"
        }
      ]
    },
    {
      "cell_type": "code",
      "metadata": {
        "id": "etSbCcB5kS2K",
        "colab_type": "code",
        "outputId": "d4298405-befb-4487-9618-6c2ecc670e86",
        "colab": {
          "base_uri": "https://localhost:8080/",
          "height": 235
        }
      },
      "source": [
        "print(confusion_matrix(true_labels, lpr_predicted_labels))\n",
        "print(classification_report(true_labels, lpr_predicted_labels))"
      ],
      "execution_count": 0,
      "outputs": [
        {
          "output_type": "stream",
          "text": [
            "[[475   0  21]\n",
            " [194 189 113]\n",
            " [178   1 316]]\n",
            "              precision    recall  f1-score   support\n",
            "\n",
            "         1.0       0.56      0.96      0.71       496\n",
            "         2.0       0.99      0.38      0.55       496\n",
            "         3.0       0.70      0.64      0.67       495\n",
            "\n",
            "    accuracy                           0.66      1487\n",
            "   macro avg       0.75      0.66      0.64      1487\n",
            "weighted avg       0.75      0.66      0.64      1487\n",
            "\n"
          ],
          "name": "stdout"
        }
      ]
    },
    {
      "cell_type": "markdown",
      "metadata": {
        "id": "ATRJD8-3p7Eq",
        "colab_type": "text"
      },
      "source": [
        "## Plot delle propagazioni"
      ]
    },
    {
      "cell_type": "code",
      "metadata": {
        "id": "nwtxvVC9moSR",
        "colab_type": "code",
        "colab": {}
      },
      "source": [
        "unlabeled_dataset = np.column_stack((X_train[unlabel_idx,:], lsp_predicted_labels, lpr_predicted_labels, true_labels))"
      ],
      "execution_count": 0,
      "outputs": []
    },
    {
      "cell_type": "code",
      "metadata": {
        "id": "rtdhtcmwlfPT",
        "colab_type": "code",
        "colab": {}
      },
      "source": [
        "lsp_pred_xy_1 = unlabeled_dataset[unlabeled_dataset[:,2]==1,:2]\n",
        "lsp_pred_xy_2 = unlabeled_dataset[unlabeled_dataset[:,2]==2,:2]\n",
        "lsp_pred_xy_3 = unlabeled_dataset[unlabeled_dataset[:,2]==3,:2]\n",
        "\n",
        "lpr_pred_xy_1 = unlabeled_dataset[unlabeled_dataset[:,3]==1,:2]\n",
        "lpr_pred_xy_2 = unlabeled_dataset[unlabeled_dataset[:,3]==2,:2]\n",
        "lpr_pred_xy_3 = unlabeled_dataset[unlabeled_dataset[:,3]==3,:2]\n",
        "\n",
        "true_xy_1 = unlabeled_dataset[unlabeled_dataset[:,4]==1,:2]\n",
        "true_xy_2 = unlabeled_dataset[unlabeled_dataset[:,4]==2,:2]\n",
        "true_xy_3 = unlabeled_dataset[unlabeled_dataset[:,4]==3,:2]"
      ],
      "execution_count": 0,
      "outputs": []
    },
    {
      "cell_type": "code",
      "metadata": {
        "id": "CFBU1GtwgaiQ",
        "colab_type": "code",
        "outputId": "9fbd2f3c-28d1-4ffc-a10a-70656b0983de",
        "colab": {
          "base_uri": "https://localhost:8080/",
          "height": 336
        }
      },
      "source": [
        "fig = plt.figure(figsize=(15,5))\n",
        "\n",
        "plt.subplot(1,3,1)\n",
        "plt.plot(true_xy_1[:,0],true_xy_1[:,1],'r+')\n",
        "plt.plot(true_xy_2[:,0],true_xy_2[:,1],'g.')\n",
        "plt.plot(true_xy_3[:,0],true_xy_3[:,1],'bx')\n",
        "plt.title('true')\n",
        "\n",
        "plt.subplot(1,3,2)\n",
        "plt.plot(lsp_pred_xy_1[:,0],lsp_pred_xy_1[:,1],'r+')\n",
        "plt.plot(lsp_pred_xy_2[:,0],lsp_pred_xy_2[:,1],'g.')\n",
        "plt.plot(lsp_pred_xy_3[:,0],lsp_pred_xy_3[:,1],'bx')\n",
        "plt.title('lsp predicted')\n",
        "\n",
        "plt.subplot(1,3,3)\n",
        "plt.plot(lpr_pred_xy_1[:,0],lpr_pred_xy_1[:,1],'r+')\n",
        "plt.plot(lpr_pred_xy_2[:,0],lpr_pred_xy_2[:,1],'g.')\n",
        "plt.plot(lpr_pred_xy_3[:,0],lpr_pred_xy_3[:,1],'bx')\n",
        "plt.title('lpr predicted')\n",
        "\n",
        "plt.show()"
      ],
      "execution_count": 0,
      "outputs": [
        {
          "output_type": "display_data",
          "data": {
            "image/png": "[encoded data removed]",
            "text/plain": [
              "<Figure size 1080x360 with 3 Axes>"
            ]
          },
          "metadata": {
            "tags": [],
            "needs_background": "light"
          }
        }
      ]
    },
    {
      "cell_type": "markdown",
      "metadata": {
        "id": "nisKNY9T9FeZ",
        "colab_type": "text"
      },
      "source": [
        "## Modello trainato solo su dati labeled"
      ]
    },
    {
      "cell_type": "code",
      "metadata": {
        "id": "7g_oA4We9ng7",
        "colab_type": "code",
        "colab": {}
      },
      "source": [
        "label_idx = [not x for x in unlabel_idx]"
      ],
      "execution_count": 0,
      "outputs": []
    },
    {
      "cell_type": "code",
      "metadata": {
        "id": "5O-urBwGhCWm",
        "colab_type": "code",
        "colab": {}
      },
      "source": [
        "labeled_x = X_train[label_idx,:]\n",
        "labeled_y = y_real[label_idx]\n",
        "\n",
        "unlabeled_x = X_train[unlabel_idx,:]\n",
        "unlabeled_y = y_real[unlabel_idx]"
      ],
      "execution_count": 0,
      "outputs": []
    },
    {
      "cell_type": "code",
      "metadata": {
        "id": "HEgAbN9V9e2a",
        "colab_type": "code",
        "colab": {}
      },
      "source": [
        "from sklearn import svm"
      ],
      "execution_count": 0,
      "outputs": []
    },
    {
      "cell_type": "code",
      "metadata": {
        "id": "jnm5bpSX-V3b",
        "colab_type": "code",
        "colab": {}
      },
      "source": [
        "clf = svm.SVC()"
      ],
      "execution_count": 0,
      "outputs": []
    },
    {
      "cell_type": "code",
      "metadata": {
        "id": "u33HOXCz-Yv8",
        "colab_type": "code",
        "outputId": "e7195080-e2f2-499f-c859-1f046b0da978",
        "colab": {
          "base_uri": "https://localhost:8080/",
          "height": 84
        }
      },
      "source": [
        "clf.fit(labeled_x, labeled_y)"
      ],
      "execution_count": 0,
      "outputs": [
        {
          "output_type": "execute_result",
          "data": {
            "text/plain": [
              "SVC(C=1.0, break_ties=False, cache_size=200, class_weight=None, coef0=0.0,\n",
              "    decision_function_shape='ovr', degree=3, gamma='scale', kernel='rbf',\n",
              "    max_iter=-1, probability=False, random_state=None, shrinking=True,\n",
              "    tol=0.001, verbose=False)"
            ]
          },
          "metadata": {
            "tags": []
          },
          "execution_count": 410
        }
      ]
    },
    {
      "cell_type": "code",
      "metadata": {
        "id": "AYkQmDQ0-dCh",
        "colab_type": "code",
        "colab": {}
      },
      "source": [
        "unlabeled_predicted = clf.predict(unlabeled_x)"
      ],
      "execution_count": 0,
      "outputs": []
    },
    {
      "cell_type": "code",
      "metadata": {
        "id": "85F-jAj2CM6a",
        "colab_type": "code",
        "colab": {}
      },
      "source": [
        "model_sup_acc = accuracy_score(unlabeled_y,unlabeled_predicted)"
      ],
      "execution_count": 0,
      "outputs": []
    },
    {
      "cell_type": "code",
      "metadata": {
        "id": "tY-QhrSo-w_z",
        "colab_type": "code",
        "outputId": "245c2053-1f53-4918-f025-fe16559588db",
        "colab": {
          "base_uri": "https://localhost:8080/",
          "height": 235
        }
      },
      "source": [
        "print(confusion_matrix(unlabeled_y, unlabeled_predicted))\n",
        "print(classification_report(unlabeled_y, unlabeled_predicted))"
      ],
      "execution_count": 0,
      "outputs": [
        {
          "output_type": "stream",
          "text": [
            "[[376   0 120]\n",
            " [212 189  95]\n",
            " [140   1 354]]\n",
            "              precision    recall  f1-score   support\n",
            "\n",
            "         1.0       0.52      0.76      0.61       496\n",
            "         2.0       0.99      0.38      0.55       496\n",
            "         3.0       0.62      0.72      0.67       495\n",
            "\n",
            "    accuracy                           0.62      1487\n",
            "   macro avg       0.71      0.62      0.61      1487\n",
            "weighted avg       0.71      0.62      0.61      1487\n",
            "\n"
          ],
          "name": "stdout"
        }
      ]
    },
    {
      "cell_type": "code",
      "metadata": {
        "id": "JDspDJWF--Nc",
        "colab_type": "code",
        "colab": {}
      },
      "source": [
        "supervised_dataset = np.column_stack((unlabeled_x,unlabeled_predicted,true_labels))"
      ],
      "execution_count": 0,
      "outputs": []
    },
    {
      "cell_type": "code",
      "metadata": {
        "id": "GbZYBgETAAWT",
        "colab_type": "code",
        "colab": {}
      },
      "source": [
        "sup_pred_xy_1 = supervised_dataset[supervised_dataset[:,2]==1,:2]\n",
        "sup_pred_xy_2 = supervised_dataset[supervised_dataset[:,2]==2,:2]\n",
        "sup_pred_xy_3 = supervised_dataset[supervised_dataset[:,2]==3,:2]\n",
        "\n",
        "sup_true_xy_1 = supervised_dataset[supervised_dataset[:,3]==1,:2]\n",
        "sup_true_xy_2 = supervised_dataset[supervised_dataset[:,3]==2,:2]\n",
        "sup_true_xy_3 = supervised_dataset[supervised_dataset[:,3]==3,:2]"
      ],
      "execution_count": 0,
      "outputs": []
    },
    {
      "cell_type": "code",
      "metadata": {
        "id": "Z9-MRXx-APAp",
        "colab_type": "code",
        "outputId": "2a9f1bb4-f85b-487a-c687-990ca31b013e",
        "colab": {
          "base_uri": "https://localhost:8080/",
          "height": 336
        }
      },
      "source": [
        "fig = plt.figure(figsize=(20,5))\n",
        "\n",
        "plt.subplot(1,4,1)\n",
        "plt.plot(true_xy_1[:,0],true_xy_1[:,1],'r+')\n",
        "plt.plot(true_xy_2[:,0],true_xy_2[:,1],'g.')\n",
        "plt.plot(true_xy_3[:,0],true_xy_3[:,1],'bx')\n",
        "plt.title('ground truth')\n",
        "\n",
        "plt.subplot(1,4,2)\n",
        "plt.plot(sup_pred_xy_1[:,0],sup_pred_xy_1[:,1],'r+')\n",
        "plt.plot(sup_pred_xy_2[:,0],sup_pred_xy_2[:,1],'g.')\n",
        "plt.plot(sup_pred_xy_3[:,0],sup_pred_xy_3[:,1],'bx')\n",
        "plt.title('sup predicted: '+str(np.round(model_sup_acc,3)))\n",
        "\n",
        "plt.subplot(1,4,3)\n",
        "plt.plot(lsp_pred_xy_1[:,0],lsp_pred_xy_1[:,1],'r+')\n",
        "plt.plot(lsp_pred_xy_2[:,0],lsp_pred_xy_2[:,1],'g.')\n",
        "plt.plot(lsp_pred_xy_3[:,0],lsp_pred_xy_3[:,1],'bx')\n",
        "plt.title('lsp semi-sup pred: '+str(np.round(lsp_semisup_acc,3)))\n",
        "\n",
        "plt.subplot(1,4,4)\n",
        "plt.plot(lpr_pred_xy_1[:,0],lpr_pred_xy_1[:,1],'r+')\n",
        "plt.plot(lpr_pred_xy_2[:,0],lpr_pred_xy_2[:,1],'g.')\n",
        "plt.plot(lpr_pred_xy_3[:,0],lpr_pred_xy_3[:,1],'bx')\n",
        "plt.title('lpr semi-sup pred: '+str(np.round(lpr_semisup_acc,3)))\n",
        "\n",
        "plt.show()"
      ],
      "execution_count": 0,
      "outputs": [
        {
          "output_type": "display_data",
          "data": {
            "image/png": "[encoded data removed]",
            "text/plain": [
              "<Figure size 1440x360 with 4 Axes>"
            ]
          },
          "metadata": {
            "tags": [],
            "needs_background": "light"
          }
        }
      ]
    },
    {
      "cell_type": "code",
      "metadata": {
        "id": "TjD4O75tAbY6",
        "colab_type": "code",
        "colab": {}
      },
      "source": [
        ""
      ],
      "execution_count": 0,
      "outputs": []
    }
  ]
}